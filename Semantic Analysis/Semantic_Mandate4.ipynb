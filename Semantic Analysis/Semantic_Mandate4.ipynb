{
  "nbformat": 4,
  "nbformat_minor": 0,
  "metadata": {
    "colab": {
      "provenance": []
    },
    "kernelspec": {
      "name": "python3",
      "display_name": "Python 3"
    },
    "language_info": {
      "name": "python"
    },
    "widgets": {
      "application/vnd.jupyter.widget-state+json": {
        "b4cfb46419544d379ffcdad08fc42bc5": {
          "model_module": "@jupyter-widgets/controls",
          "model_name": "HBoxModel",
          "model_module_version": "1.5.0",
          "state": {
            "_dom_classes": [],
            "_model_module": "@jupyter-widgets/controls",
            "_model_module_version": "1.5.0",
            "_model_name": "HBoxModel",
            "_view_count": null,
            "_view_module": "@jupyter-widgets/controls",
            "_view_module_version": "1.5.0",
            "_view_name": "HBoxView",
            "box_style": "",
            "children": [
              "IPY_MODEL_aa3643e86772452185f8f32be02b9212",
              "IPY_MODEL_773c43bb05cc4ef2bd99a1d1dd6a2b5c",
              "IPY_MODEL_fdc04b8742d14defb2f81ce5a295b84b"
            ],
            "layout": "IPY_MODEL_3a231f34eba7484abfaf8a40f8119b42"
          }
        },
        "aa3643e86772452185f8f32be02b9212": {
          "model_module": "@jupyter-widgets/controls",
          "model_name": "HTMLModel",
          "model_module_version": "1.5.0",
          "state": {
            "_dom_classes": [],
            "_model_module": "@jupyter-widgets/controls",
            "_model_module_version": "1.5.0",
            "_model_name": "HTMLModel",
            "_view_count": null,
            "_view_module": "@jupyter-widgets/controls",
            "_view_module_version": "1.5.0",
            "_view_name": "HTMLView",
            "description": "",
            "description_tooltip": null,
            "layout": "IPY_MODEL_79457f526b7c4b80957cf708aa21452f",
            "placeholder": "​",
            "style": "IPY_MODEL_144df1fa61264943a816e605edb69ead",
            "value": "Downloading builder script: "
          }
        },
        "773c43bb05cc4ef2bd99a1d1dd6a2b5c": {
          "model_module": "@jupyter-widgets/controls",
          "model_name": "FloatProgressModel",
          "model_module_version": "1.5.0",
          "state": {
            "_dom_classes": [],
            "_model_module": "@jupyter-widgets/controls",
            "_model_module_version": "1.5.0",
            "_model_name": "FloatProgressModel",
            "_view_count": null,
            "_view_module": "@jupyter-widgets/controls",
            "_view_module_version": "1.5.0",
            "_view_name": "ProgressView",
            "bar_style": "success",
            "description": "",
            "description_tooltip": null,
            "layout": "IPY_MODEL_8315ceb91902496184facbb11e4920a1",
            "max": 2169,
            "min": 0,
            "orientation": "horizontal",
            "style": "IPY_MODEL_c78e8e4412c04e45adaca81b13e9287a",
            "value": 2169
          }
        },
        "fdc04b8742d14defb2f81ce5a295b84b": {
          "model_module": "@jupyter-widgets/controls",
          "model_name": "HTMLModel",
          "model_module_version": "1.5.0",
          "state": {
            "_dom_classes": [],
            "_model_module": "@jupyter-widgets/controls",
            "_model_module_version": "1.5.0",
            "_model_name": "HTMLModel",
            "_view_count": null,
            "_view_module": "@jupyter-widgets/controls",
            "_view_module_version": "1.5.0",
            "_view_name": "HTMLView",
            "description": "",
            "description_tooltip": null,
            "layout": "IPY_MODEL_b4fe7933cb6f40468a0a022f89cc91e6",
            "placeholder": "​",
            "style": "IPY_MODEL_5d6409a0191c4058a5973eba18daec1f",
            "value": " 5.65k/? [00:00&lt;00:00, 278kB/s]"
          }
        },
        "3a231f34eba7484abfaf8a40f8119b42": {
          "model_module": "@jupyter-widgets/base",
          "model_name": "LayoutModel",
          "model_module_version": "1.2.0",
          "state": {
            "_model_module": "@jupyter-widgets/base",
            "_model_module_version": "1.2.0",
            "_model_name": "LayoutModel",
            "_view_count": null,
            "_view_module": "@jupyter-widgets/base",
            "_view_module_version": "1.2.0",
            "_view_name": "LayoutView",
            "align_content": null,
            "align_items": null,
            "align_self": null,
            "border": null,
            "bottom": null,
            "display": null,
            "flex": null,
            "flex_flow": null,
            "grid_area": null,
            "grid_auto_columns": null,
            "grid_auto_flow": null,
            "grid_auto_rows": null,
            "grid_column": null,
            "grid_gap": null,
            "grid_row": null,
            "grid_template_areas": null,
            "grid_template_columns": null,
            "grid_template_rows": null,
            "height": null,
            "justify_content": null,
            "justify_items": null,
            "left": null,
            "margin": null,
            "max_height": null,
            "max_width": null,
            "min_height": null,
            "min_width": null,
            "object_fit": null,
            "object_position": null,
            "order": null,
            "overflow": null,
            "overflow_x": null,
            "overflow_y": null,
            "padding": null,
            "right": null,
            "top": null,
            "visibility": null,
            "width": null
          }
        },
        "79457f526b7c4b80957cf708aa21452f": {
          "model_module": "@jupyter-widgets/base",
          "model_name": "LayoutModel",
          "model_module_version": "1.2.0",
          "state": {
            "_model_module": "@jupyter-widgets/base",
            "_model_module_version": "1.2.0",
            "_model_name": "LayoutModel",
            "_view_count": null,
            "_view_module": "@jupyter-widgets/base",
            "_view_module_version": "1.2.0",
            "_view_name": "LayoutView",
            "align_content": null,
            "align_items": null,
            "align_self": null,
            "border": null,
            "bottom": null,
            "display": null,
            "flex": null,
            "flex_flow": null,
            "grid_area": null,
            "grid_auto_columns": null,
            "grid_auto_flow": null,
            "grid_auto_rows": null,
            "grid_column": null,
            "grid_gap": null,
            "grid_row": null,
            "grid_template_areas": null,
            "grid_template_columns": null,
            "grid_template_rows": null,
            "height": null,
            "justify_content": null,
            "justify_items": null,
            "left": null,
            "margin": null,
            "max_height": null,
            "max_width": null,
            "min_height": null,
            "min_width": null,
            "object_fit": null,
            "object_position": null,
            "order": null,
            "overflow": null,
            "overflow_x": null,
            "overflow_y": null,
            "padding": null,
            "right": null,
            "top": null,
            "visibility": null,
            "width": null
          }
        },
        "144df1fa61264943a816e605edb69ead": {
          "model_module": "@jupyter-widgets/controls",
          "model_name": "DescriptionStyleModel",
          "model_module_version": "1.5.0",
          "state": {
            "_model_module": "@jupyter-widgets/controls",
            "_model_module_version": "1.5.0",
            "_model_name": "DescriptionStyleModel",
            "_view_count": null,
            "_view_module": "@jupyter-widgets/base",
            "_view_module_version": "1.2.0",
            "_view_name": "StyleView",
            "description_width": ""
          }
        },
        "8315ceb91902496184facbb11e4920a1": {
          "model_module": "@jupyter-widgets/base",
          "model_name": "LayoutModel",
          "model_module_version": "1.2.0",
          "state": {
            "_model_module": "@jupyter-widgets/base",
            "_model_module_version": "1.2.0",
            "_model_name": "LayoutModel",
            "_view_count": null,
            "_view_module": "@jupyter-widgets/base",
            "_view_module_version": "1.2.0",
            "_view_name": "LayoutView",
            "align_content": null,
            "align_items": null,
            "align_self": null,
            "border": null,
            "bottom": null,
            "display": null,
            "flex": null,
            "flex_flow": null,
            "grid_area": null,
            "grid_auto_columns": null,
            "grid_auto_flow": null,
            "grid_auto_rows": null,
            "grid_column": null,
            "grid_gap": null,
            "grid_row": null,
            "grid_template_areas": null,
            "grid_template_columns": null,
            "grid_template_rows": null,
            "height": null,
            "justify_content": null,
            "justify_items": null,
            "left": null,
            "margin": null,
            "max_height": null,
            "max_width": null,
            "min_height": null,
            "min_width": null,
            "object_fit": null,
            "object_position": null,
            "order": null,
            "overflow": null,
            "overflow_x": null,
            "overflow_y": null,
            "padding": null,
            "right": null,
            "top": null,
            "visibility": null,
            "width": null
          }
        },
        "c78e8e4412c04e45adaca81b13e9287a": {
          "model_module": "@jupyter-widgets/controls",
          "model_name": "ProgressStyleModel",
          "model_module_version": "1.5.0",
          "state": {
            "_model_module": "@jupyter-widgets/controls",
            "_model_module_version": "1.5.0",
            "_model_name": "ProgressStyleModel",
            "_view_count": null,
            "_view_module": "@jupyter-widgets/base",
            "_view_module_version": "1.2.0",
            "_view_name": "StyleView",
            "bar_color": null,
            "description_width": ""
          }
        },
        "b4fe7933cb6f40468a0a022f89cc91e6": {
          "model_module": "@jupyter-widgets/base",
          "model_name": "LayoutModel",
          "model_module_version": "1.2.0",
          "state": {
            "_model_module": "@jupyter-widgets/base",
            "_model_module_version": "1.2.0",
            "_model_name": "LayoutModel",
            "_view_count": null,
            "_view_module": "@jupyter-widgets/base",
            "_view_module_version": "1.2.0",
            "_view_name": "LayoutView",
            "align_content": null,
            "align_items": null,
            "align_self": null,
            "border": null,
            "bottom": null,
            "display": null,
            "flex": null,
            "flex_flow": null,
            "grid_area": null,
            "grid_auto_columns": null,
            "grid_auto_flow": null,
            "grid_auto_rows": null,
            "grid_column": null,
            "grid_gap": null,
            "grid_row": null,
            "grid_template_areas": null,
            "grid_template_columns": null,
            "grid_template_rows": null,
            "height": null,
            "justify_content": null,
            "justify_items": null,
            "left": null,
            "margin": null,
            "max_height": null,
            "max_width": null,
            "min_height": null,
            "min_width": null,
            "object_fit": null,
            "object_position": null,
            "order": null,
            "overflow": null,
            "overflow_x": null,
            "overflow_y": null,
            "padding": null,
            "right": null,
            "top": null,
            "visibility": null,
            "width": null
          }
        },
        "5d6409a0191c4058a5973eba18daec1f": {
          "model_module": "@jupyter-widgets/controls",
          "model_name": "DescriptionStyleModel",
          "model_module_version": "1.5.0",
          "state": {
            "_model_module": "@jupyter-widgets/controls",
            "_model_module_version": "1.5.0",
            "_model_name": "DescriptionStyleModel",
            "_view_count": null,
            "_view_module": "@jupyter-widgets/base",
            "_view_module_version": "1.2.0",
            "_view_name": "StyleView",
            "description_width": ""
          }
        },
        "313893670d684c4ca18b2285972a6d93": {
          "model_module": "@jupyter-widgets/controls",
          "model_name": "HBoxModel",
          "model_module_version": "1.5.0",
          "state": {
            "_dom_classes": [],
            "_model_module": "@jupyter-widgets/controls",
            "_model_module_version": "1.5.0",
            "_model_name": "HBoxModel",
            "_view_count": null,
            "_view_module": "@jupyter-widgets/controls",
            "_view_module_version": "1.5.0",
            "_view_name": "HBoxView",
            "box_style": "",
            "children": [
              "IPY_MODEL_decea8c098bd457a8d741ab450db630c",
              "IPY_MODEL_928e28677cd747e8b35f04bd98473b20",
              "IPY_MODEL_32279f42020944418e664567f6e591f8"
            ],
            "layout": "IPY_MODEL_726993e9d01340a0a25cf7f928c0182c"
          }
        },
        "decea8c098bd457a8d741ab450db630c": {
          "model_module": "@jupyter-widgets/controls",
          "model_name": "HTMLModel",
          "model_module_version": "1.5.0",
          "state": {
            "_dom_classes": [],
            "_model_module": "@jupyter-widgets/controls",
            "_model_module_version": "1.5.0",
            "_model_name": "HTMLModel",
            "_view_count": null,
            "_view_module": "@jupyter-widgets/controls",
            "_view_module_version": "1.5.0",
            "_view_name": "HTMLView",
            "description": "",
            "description_tooltip": null,
            "layout": "IPY_MODEL_d8f051c96ca24f94ba20c416be3330bd",
            "placeholder": "​",
            "style": "IPY_MODEL_d0236725a05c40629ba27fb7572c310e",
            "value": "Downloading builder script: "
          }
        },
        "928e28677cd747e8b35f04bd98473b20": {
          "model_module": "@jupyter-widgets/controls",
          "model_name": "FloatProgressModel",
          "model_module_version": "1.5.0",
          "state": {
            "_dom_classes": [],
            "_model_module": "@jupyter-widgets/controls",
            "_model_module_version": "1.5.0",
            "_model_name": "FloatProgressModel",
            "_view_count": null,
            "_view_module": "@jupyter-widgets/controls",
            "_view_module_version": "1.5.0",
            "_view_name": "ProgressView",
            "bar_style": "success",
            "description": "",
            "description_tooltip": null,
            "layout": "IPY_MODEL_839f84cf0f3f436ead6d5558e7f2b556",
            "max": 2922,
            "min": 0,
            "orientation": "horizontal",
            "style": "IPY_MODEL_2b0bd23575c24d15ab4f24c023f2a811",
            "value": 2922
          }
        },
        "32279f42020944418e664567f6e591f8": {
          "model_module": "@jupyter-widgets/controls",
          "model_name": "HTMLModel",
          "model_module_version": "1.5.0",
          "state": {
            "_dom_classes": [],
            "_model_module": "@jupyter-widgets/controls",
            "_model_module_version": "1.5.0",
            "_model_name": "HTMLModel",
            "_view_count": null,
            "_view_module": "@jupyter-widgets/controls",
            "_view_module_version": "1.5.0",
            "_view_name": "HTMLView",
            "description": "",
            "description_tooltip": null,
            "layout": "IPY_MODEL_80998da670e14390919e6dc262749142",
            "placeholder": "​",
            "style": "IPY_MODEL_2f707455d95d4d4697858f412f92ec3d",
            "value": " 8.10k/? [00:00&lt;00:00, 442kB/s]"
          }
        },
        "726993e9d01340a0a25cf7f928c0182c": {
          "model_module": "@jupyter-widgets/base",
          "model_name": "LayoutModel",
          "model_module_version": "1.2.0",
          "state": {
            "_model_module": "@jupyter-widgets/base",
            "_model_module_version": "1.2.0",
            "_model_name": "LayoutModel",
            "_view_count": null,
            "_view_module": "@jupyter-widgets/base",
            "_view_module_version": "1.2.0",
            "_view_name": "LayoutView",
            "align_content": null,
            "align_items": null,
            "align_self": null,
            "border": null,
            "bottom": null,
            "display": null,
            "flex": null,
            "flex_flow": null,
            "grid_area": null,
            "grid_auto_columns": null,
            "grid_auto_flow": null,
            "grid_auto_rows": null,
            "grid_column": null,
            "grid_gap": null,
            "grid_row": null,
            "grid_template_areas": null,
            "grid_template_columns": null,
            "grid_template_rows": null,
            "height": null,
            "justify_content": null,
            "justify_items": null,
            "left": null,
            "margin": null,
            "max_height": null,
            "max_width": null,
            "min_height": null,
            "min_width": null,
            "object_fit": null,
            "object_position": null,
            "order": null,
            "overflow": null,
            "overflow_x": null,
            "overflow_y": null,
            "padding": null,
            "right": null,
            "top": null,
            "visibility": null,
            "width": null
          }
        },
        "d8f051c96ca24f94ba20c416be3330bd": {
          "model_module": "@jupyter-widgets/base",
          "model_name": "LayoutModel",
          "model_module_version": "1.2.0",
          "state": {
            "_model_module": "@jupyter-widgets/base",
            "_model_module_version": "1.2.0",
            "_model_name": "LayoutModel",
            "_view_count": null,
            "_view_module": "@jupyter-widgets/base",
            "_view_module_version": "1.2.0",
            "_view_name": "LayoutView",
            "align_content": null,
            "align_items": null,
            "align_self": null,
            "border": null,
            "bottom": null,
            "display": null,
            "flex": null,
            "flex_flow": null,
            "grid_area": null,
            "grid_auto_columns": null,
            "grid_auto_flow": null,
            "grid_auto_rows": null,
            "grid_column": null,
            "grid_gap": null,
            "grid_row": null,
            "grid_template_areas": null,
            "grid_template_columns": null,
            "grid_template_rows": null,
            "height": null,
            "justify_content": null,
            "justify_items": null,
            "left": null,
            "margin": null,
            "max_height": null,
            "max_width": null,
            "min_height": null,
            "min_width": null,
            "object_fit": null,
            "object_position": null,
            "order": null,
            "overflow": null,
            "overflow_x": null,
            "overflow_y": null,
            "padding": null,
            "right": null,
            "top": null,
            "visibility": null,
            "width": null
          }
        },
        "d0236725a05c40629ba27fb7572c310e": {
          "model_module": "@jupyter-widgets/controls",
          "model_name": "DescriptionStyleModel",
          "model_module_version": "1.5.0",
          "state": {
            "_model_module": "@jupyter-widgets/controls",
            "_model_module_version": "1.5.0",
            "_model_name": "DescriptionStyleModel",
            "_view_count": null,
            "_view_module": "@jupyter-widgets/base",
            "_view_module_version": "1.2.0",
            "_view_name": "StyleView",
            "description_width": ""
          }
        },
        "839f84cf0f3f436ead6d5558e7f2b556": {
          "model_module": "@jupyter-widgets/base",
          "model_name": "LayoutModel",
          "model_module_version": "1.2.0",
          "state": {
            "_model_module": "@jupyter-widgets/base",
            "_model_module_version": "1.2.0",
            "_model_name": "LayoutModel",
            "_view_count": null,
            "_view_module": "@jupyter-widgets/base",
            "_view_module_version": "1.2.0",
            "_view_name": "LayoutView",
            "align_content": null,
            "align_items": null,
            "align_self": null,
            "border": null,
            "bottom": null,
            "display": null,
            "flex": null,
            "flex_flow": null,
            "grid_area": null,
            "grid_auto_columns": null,
            "grid_auto_flow": null,
            "grid_auto_rows": null,
            "grid_column": null,
            "grid_gap": null,
            "grid_row": null,
            "grid_template_areas": null,
            "grid_template_columns": null,
            "grid_template_rows": null,
            "height": null,
            "justify_content": null,
            "justify_items": null,
            "left": null,
            "margin": null,
            "max_height": null,
            "max_width": null,
            "min_height": null,
            "min_width": null,
            "object_fit": null,
            "object_position": null,
            "order": null,
            "overflow": null,
            "overflow_x": null,
            "overflow_y": null,
            "padding": null,
            "right": null,
            "top": null,
            "visibility": null,
            "width": null
          }
        },
        "2b0bd23575c24d15ab4f24c023f2a811": {
          "model_module": "@jupyter-widgets/controls",
          "model_name": "ProgressStyleModel",
          "model_module_version": "1.5.0",
          "state": {
            "_model_module": "@jupyter-widgets/controls",
            "_model_module_version": "1.5.0",
            "_model_name": "ProgressStyleModel",
            "_view_count": null,
            "_view_module": "@jupyter-widgets/base",
            "_view_module_version": "1.2.0",
            "_view_name": "StyleView",
            "bar_color": null,
            "description_width": ""
          }
        },
        "80998da670e14390919e6dc262749142": {
          "model_module": "@jupyter-widgets/base",
          "model_name": "LayoutModel",
          "model_module_version": "1.2.0",
          "state": {
            "_model_module": "@jupyter-widgets/base",
            "_model_module_version": "1.2.0",
            "_model_name": "LayoutModel",
            "_view_count": null,
            "_view_module": "@jupyter-widgets/base",
            "_view_module_version": "1.2.0",
            "_view_name": "LayoutView",
            "align_content": null,
            "align_items": null,
            "align_self": null,
            "border": null,
            "bottom": null,
            "display": null,
            "flex": null,
            "flex_flow": null,
            "grid_area": null,
            "grid_auto_columns": null,
            "grid_auto_flow": null,
            "grid_auto_rows": null,
            "grid_column": null,
            "grid_gap": null,
            "grid_row": null,
            "grid_template_areas": null,
            "grid_template_columns": null,
            "grid_template_rows": null,
            "height": null,
            "justify_content": null,
            "justify_items": null,
            "left": null,
            "margin": null,
            "max_height": null,
            "max_width": null,
            "min_height": null,
            "min_width": null,
            "object_fit": null,
            "object_position": null,
            "order": null,
            "overflow": null,
            "overflow_x": null,
            "overflow_y": null,
            "padding": null,
            "right": null,
            "top": null,
            "visibility": null,
            "width": null
          }
        },
        "2f707455d95d4d4697858f412f92ec3d": {
          "model_module": "@jupyter-widgets/controls",
          "model_name": "DescriptionStyleModel",
          "model_module_version": "1.5.0",
          "state": {
            "_model_module": "@jupyter-widgets/controls",
            "_model_module_version": "1.5.0",
            "_model_name": "DescriptionStyleModel",
            "_view_count": null,
            "_view_module": "@jupyter-widgets/base",
            "_view_module_version": "1.2.0",
            "_view_name": "StyleView",
            "description_width": ""
          }
        }
      }
    }
  },
  "cells": [
    {
      "cell_type": "markdown",
      "source": [
        "#Nested Summarization with Heading Hierarchy\n"
      ],
      "metadata": {
        "id": "_JxYG1pZpGcX"
      }
    },
    {
      "cell_type": "code",
      "execution_count": null,
      "metadata": {
        "id": "cGn593rAJFIo"
      },
      "outputs": [],
      "source": [
        "import numpy as np\n",
        "import pandas as pd"
      ]
    },
    {
      "cell_type": "code",
      "source": [
        "\n",
        "document = \"Health was earlier said to be the ability of the body functioning well. However, as time evolved, the definition of health also evolved. It cannot be stressed enough that health is the primary thing after which everything else follows. When you maintain good health, everything else falls into place.Similarly, maintaining good health is dependent on a lot of factors. It ranges from the air you breathe to the type of people you choose to spend your time with. Health has a lot of components that carry equal importance. If even one of them is missing, a person cannot be completely healthy. First, we have our physical health. This means being fit physically and in the absence of any kind of disease or illness. When you have good physical health, you will have a longer life span. One may maintain their physical health by having a balanced diet. Do not miss out on the essential nutrients; take each of them in appropriate quantities. Junk foods taste good that’s why it is mostly liked by everyone of any age group especially kids and school going children. They generally ask for the junk food daily because they have been trend so by their parents from the childhood. They never have been discussed by their parents about the harmful effects of junk foods over health. According to the research by scientists, it has been found that junk foods have negative effects on the health in many ways. They are generally fried food found in the market in the packets. They become high in calories, high in cholesterol, low in healthy nutrients, high in sodium mineral, high in sugar, starch, unhealthy fat, lack of protein and lack of dietary fibers. Processed and junk foods are the means of rapid and unhealthy weight gain and negatively impact the whole body throughout the life. It makes able a person to gain excessive weight which is called as obesity. Junk foods tastes good and looks good however do not fulfil the healthy calorie requirement of the body. Some of the foods like french fries, fried foods, pizza, burgers, candy, soft drinks, baked goods, ice cream, cookies, etc are the example of high-sugar and high-fat containing foods. It is found according to the Centres for Disease Control and Prevention that Kids and children eating junk food are more prone to the type-2 diabetes. \""
      ],
      "metadata": {
        "id": "RBD6jGGLJyH-"
      },
      "execution_count": null,
      "outputs": []
    },
    {
      "cell_type": "markdown",
      "source": [
        "#Preprocessing\n",
        "\n",
        "Expanding Contractions\n",
        "\n",
        "Eg: he's -> he is"
      ],
      "metadata": {
        "id": "tOLMWEfWK11h"
      }
    },
    {
      "cell_type": "code",
      "source": [
        "\n",
        "!pip install contractions\n",
        "import contractions\n",
        "from nltk.tokenize import word_tokenize\n",
        "import re"
      ],
      "metadata": {
        "colab": {
          "base_uri": "https://localhost:8080/"
        },
        "id": "9N1f2ZD1K-3S",
        "outputId": "b2449322-99fd-4803-d09b-2c27c89f1379"
      },
      "execution_count": null,
      "outputs": [
        {
          "output_type": "stream",
          "name": "stdout",
          "text": [
            "Requirement already satisfied: contractions in /usr/local/lib/python3.10/dist-packages (0.1.73)\n",
            "Requirement already satisfied: textsearch>=0.0.21 in /usr/local/lib/python3.10/dist-packages (from contractions) (0.0.24)\n",
            "Requirement already satisfied: anyascii in /usr/local/lib/python3.10/dist-packages (from textsearch>=0.0.21->contractions) (0.3.2)\n",
            "Requirement already satisfied: pyahocorasick in /usr/local/lib/python3.10/dist-packages (from textsearch>=0.0.21->contractions) (2.1.0)\n"
          ]
        }
      ]
    },
    {
      "cell_type": "code",
      "source": [
        "def expand_contractions(sentence):\n",
        "    contractions_expanded = [contractions.fix(word) for word in sentence.split()]\n",
        "    return ' '.join(contractions_expanded)"
      ],
      "metadata": {
        "id": "Dh72oTbELQDo"
      },
      "execution_count": null,
      "outputs": []
    },
    {
      "cell_type": "code",
      "source": [
        "document = expand_contractions(document)"
      ],
      "metadata": {
        "id": "G6xiSO_qLTdI"
      },
      "execution_count": null,
      "outputs": []
    },
    {
      "cell_type": "code",
      "source": [
        "def split_into_sentences(doc):\n",
        "    return [x for x in doc.split('.') if x != '']"
      ],
      "metadata": {
        "id": "fc1dM-6VLWm7"
      },
      "execution_count": null,
      "outputs": []
    },
    {
      "cell_type": "code",
      "source": [
        "def remove_punctuation(tokens):\n",
        "    return [re.sub(r'[^\\w\\s]', '', word) for word in tokens]\n",
        "def lower_case(tokens):\n",
        "    return [word.lower() for word in tokens if word != '']"
      ],
      "metadata": {
        "id": "OZWMbAIPLWeK"
      },
      "execution_count": null,
      "outputs": []
    },
    {
      "cell_type": "code",
      "source": [
        "def sentences_to_vectors(doc):\n",
        "# doc is a list of sentences\n",
        "# tokenize every sentence, convert to lower case and remove punctuation\n",
        "    vectors = [word_tokenize(sentence) for sentence in doc]\n",
        "    for i in range(len(vectors)):\n",
        "        vectors[i] = lower_case(remove_punctuation(vectors[i]))\n",
        "    return vectors"
      ],
      "metadata": {
        "id": "phEm-ps2LbYS"
      },
      "execution_count": null,
      "outputs": []
    },
    {
      "cell_type": "code",
      "source": [
        "import nltk\n",
        "nltk.download('punkt')\n"
      ],
      "metadata": {
        "colab": {
          "base_uri": "https://localhost:8080/"
        },
        "id": "jy4AxA50L9F-",
        "outputId": "c6265d36-f416-4ba5-c039-f2e388a83d63"
      },
      "execution_count": null,
      "outputs": [
        {
          "output_type": "stream",
          "name": "stderr",
          "text": [
            "[nltk_data] Downloading package punkt to /root/nltk_data...\n",
            "[nltk_data]   Package punkt is already up-to-date!\n"
          ]
        },
        {
          "output_type": "execute_result",
          "data": {
            "text/plain": [
              "True"
            ]
          },
          "metadata": {},
          "execution_count": 56
        }
      ]
    },
    {
      "cell_type": "code",
      "source": [
        "sentences = split_into_sentences(document)\n",
        "sentence_vectors = sentences_to_vectors(sentences)\n",
        "preprocessed_sentences = [\" \".join(sentence) for sentence in sentence_vectors]"
      ],
      "metadata": {
        "id": "XLp72cqBLbUy"
      },
      "execution_count": null,
      "outputs": []
    },
    {
      "cell_type": "markdown",
      "source": [
        "# Sentence Clustering\n",
        "\n",
        "Since this is an unsupervised task, we use hierarchical agglomerative clustering.\n",
        "Tf-Idf is used to obtain vectors corresponding to the sentences.\n",
        "The optimal number of clusters is found using hierarchy.linkage() which gives the clusters at every iteration of the hierarchical clustering."
      ],
      "metadata": {
        "id": "wUDBn8ddMEDq"
      }
    },
    {
      "cell_type": "markdown",
      "source": [
        "#Tf-idf\n",
        "\n"
      ],
      "metadata": {
        "id": "fWI-HbPZML_-"
      }
    },
    {
      "cell_type": "code",
      "source": [
        "from sklearn.feature_extraction.text import TfidfVectorizer"
      ],
      "metadata": {
        "id": "mJVzL9kzLbQG"
      },
      "execution_count": null,
      "outputs": []
    },
    {
      "cell_type": "code",
      "source": [
        "tfidf = TfidfVectorizer(analyzer='word', min_df=0)"
      ],
      "metadata": {
        "id": "IhfqduyGLbGP"
      },
      "execution_count": null,
      "outputs": []
    },
    {
      "cell_type": "code",
      "source": [
        "tfidf_wm = tfidf.fit_transform(preprocessed_sentences)\n",
        "tfidf_tokens = tfidf.get_feature_names_out()\n",
        "X = pd.DataFrame(data=tfidf_wm.toarray(), columns=tfidf_tokens)\n"
      ],
      "metadata": {
        "id": "s68aOmhOMYqE"
      },
      "execution_count": null,
      "outputs": []
    },
    {
      "cell_type": "markdown",
      "source": [
        "#Hierarchical clustering"
      ],
      "metadata": {
        "id": "Fr3FB5xrMui-"
      }
    },
    {
      "cell_type": "code",
      "source": [
        "from scipy.cluster import hierarchy\n",
        "from sklearn.cluster import AgglomerativeClustering"
      ],
      "metadata": {
        "id": "7nvmenzHMyFK"
      },
      "execution_count": null,
      "outputs": []
    },
    {
      "cell_type": "code",
      "source": [
        "Z = hierarchy.linkage(X, 'ward')"
      ],
      "metadata": {
        "id": "VDqjhEcjM0w6"
      },
      "execution_count": null,
      "outputs": []
    },
    {
      "cell_type": "code",
      "source": [
        "dend = hierarchy.dendrogram(Z)"
      ],
      "metadata": {
        "colab": {
          "base_uri": "https://localhost:8080/",
          "height": 438
        },
        "id": "xcSFVPEWM6eb",
        "outputId": "4c1b2ce2-5266-4644-b9d2-b3dcf35f8066"
      },
      "execution_count": null,
      "outputs": [
        {
          "output_type": "display_data",
          "data": {
            "text/plain": [
              "<Figure size 640x480 with 1 Axes>"
            ],
            "image/png": "[encoded data removed]"
          },
          "metadata": {}
        }
      ]
    },
    {
      "cell_type": "markdown",
      "source": [
        "This will be used to find the number of clusters."
      ],
      "metadata": {
        "id": "Mo9U-8VANDnv"
      }
    },
    {
      "cell_type": "code",
      "source": [],
      "metadata": {
        "id": "ZD3b8iykM-nM"
      },
      "execution_count": null,
      "outputs": []
    },
    {
      "cell_type": "code",
      "source": [
        "def find_num_clusters(Z):\n",
        "    # sort by distance\n",
        "    Z = Z[Z[:, 2].argsort()]\n",
        "    max_diff = 0\n",
        "    max_index = 0\n",
        "    for i in range(len(Z)-1):\n",
        "        if Z[i+1][2]-Z[i][2] > max_diff:\n",
        "            max_diff = Z[i+1][2]-Z[i][2]\n",
        "            max_index = i\n",
        "    return len(Z)-max_index"
      ],
      "metadata": {
        "id": "Tcr5G5jYM-j5"
      },
      "execution_count": null,
      "outputs": []
    },
    {
      "cell_type": "code",
      "source": [
        "\n",
        "num_clusters = find_num_clusters(Z)"
      ],
      "metadata": {
        "id": "AyLNjKcoM-gc"
      },
      "execution_count": null,
      "outputs": []
    },
    {
      "cell_type": "code",
      "source": [
        "\n",
        "hc = AgglomerativeClustering(n_clusters=num_clusters, affinity='euclidean', linkage='ward')"
      ],
      "metadata": {
        "id": "IkRJ2wKWM-Mg"
      },
      "execution_count": null,
      "outputs": []
    },
    {
      "cell_type": "code",
      "source": [
        "y_hc = hc.fit_predict(X)"
      ],
      "metadata": {
        "colab": {
          "base_uri": "https://localhost:8080/"
        },
        "id": "LCmuh1LkNWYF",
        "outputId": "89f206a6-0433-43ce-d156-f02a4121110f"
      },
      "execution_count": null,
      "outputs": [
        {
          "output_type": "stream",
          "name": "stderr",
          "text": [
            "/usr/local/lib/python3.10/dist-packages/sklearn/cluster/_agglomerative.py:983: FutureWarning:\n",
            "\n",
            "Attribute `affinity` was deprecated in version 1.2 and will be removed in 1.4. Use `metric` instead\n",
            "\n"
          ]
        }
      ]
    },
    {
      "cell_type": "code",
      "source": [
        "y_hc"
      ],
      "metadata": {
        "colab": {
          "base_uri": "https://localhost:8080/"
        },
        "id": "RpOC9mwxNbJx",
        "outputId": "8a103039-7454-4520-9d2f-1cf709dc011f"
      },
      "execution_count": null,
      "outputs": [
        {
          "output_type": "execute_result",
          "data": {
            "text/plain": [
              "array([1, 1, 0, 0, 0, 1, 0, 0, 0, 1, 0, 0, 1, 1, 1, 1, 1, 1, 1, 1, 0, 1,\n",
              "       1, 1])"
            ]
          },
          "metadata": {},
          "execution_count": 68
        }
      ]
    },
    {
      "cell_type": "code",
      "source": [
        "clustered_sentences = [[] for i in range(num_clusters)]"
      ],
      "metadata": {
        "id": "9_bX_fs9NbGr"
      },
      "execution_count": null,
      "outputs": []
    },
    {
      "cell_type": "code",
      "source": [
        "for i, sentence in enumerate(preprocessed_sentences):\n",
        "    cluster_id = y_hc[i]\n",
        "    clustered_sentences[cluster_id].append(sentences[i])"
      ],
      "metadata": {
        "id": "buvJmIKUNbD5"
      },
      "execution_count": null,
      "outputs": []
    },
    {
      "cell_type": "code",
      "source": [
        "for i, sentence in enumerate(preprocessed_sentences):\n",
        "    cluster_id = y_hc[i]\n",
        "    clustered_sentences[cluster_id].append(sentences[i])"
      ],
      "metadata": {
        "id": "_ZnRbw0iNbA5"
      },
      "execution_count": null,
      "outputs": []
    },
    {
      "cell_type": "code",
      "source": [
        "clustered_sentences"
      ],
      "metadata": {
        "colab": {
          "base_uri": "https://localhost:8080/"
        },
        "id": "cjSrvaG_Nwaz",
        "outputId": "15c2b6a3-6120-4685-a992-dbc0a815b580"
      },
      "execution_count": null,
      "outputs": [
        {
          "output_type": "execute_result",
          "data": {
            "text/plain": [
              "[[' It cannot be stressed enough that health is the primary thing after which everything else follows',\n",
              "  ' When you maintain good health, everything else falls into place',\n",
              "  'Similarly, maintaining good health is dependent on a lot of factors',\n",
              "  ' Health has a lot of components that carry equal importance',\n",
              "  ' If even one of them is missing, a person cannot be completely healthy',\n",
              "  ' First, we have our physical health',\n",
              "  ' When you have good physical health, you will have a longer life span',\n",
              "  ' One may maintain their physical health by having a balanced diet',\n",
              "  ' It makes able a person to gain excessive weight which is called as obesity',\n",
              "  ' It cannot be stressed enough that health is the primary thing after which everything else follows',\n",
              "  ' When you maintain good health, everything else falls into place',\n",
              "  'Similarly, maintaining good health is dependent on a lot of factors',\n",
              "  ' Health has a lot of components that carry equal importance',\n",
              "  ' If even one of them is missing, a person cannot be completely healthy',\n",
              "  ' First, we have our physical health',\n",
              "  ' When you have good physical health, you will have a longer life span',\n",
              "  ' One may maintain their physical health by having a balanced diet',\n",
              "  ' It makes able a person to gain excessive weight which is called as obesity'],\n",
              " ['Health was earlier said to be the ability of the body functioning well',\n",
              "  ' However, as time evolved, the definition of health also evolved',\n",
              "  ' It ranges from the air you breathe to the type of people you choose to spend your time with',\n",
              "  ' This means being fit physically and in the absence of any kind of disease or illness',\n",
              "  ' Do not miss out on the essential nutrients; take each of them in appropriate quantities',\n",
              "  ' Junk foods taste good that is why it is mostly liked by everyone of any age group especially kids and school going children',\n",
              "  ' They generally ask for the junk food daily because they have been trend so by their parents from the childhood',\n",
              "  ' They never have been discussed by their parents about the harmful effects of junk foods over health',\n",
              "  ' According to the research by scientists, it has been found that junk foods have negative effects on the health in many ways',\n",
              "  ' They are generally fried food found in the market in the packets',\n",
              "  ' They become high in calories, high in cholesterol, low in healthy nutrients, high in sodium mineral, high in sugar, starch, unhealthy fat, lack of protein and lack of dietary fibers',\n",
              "  ' Processed and junk foods are the means of rapid and unhealthy weight gain and negatively impact the whole body throughout the life',\n",
              "  ' Junk foods tastes good and looks good however do not fulfil the healthy calorie requirement of the body',\n",
              "  ' Some of the foods like french fries, fried foods, pizza, burgers, candy, soft drinks, baked goods, ice cream, cookies, etc are the example of high-sugar and high-fat containing foods',\n",
              "  ' It is found according to the Centres for Disease Control and Prevention that Kids and children eating junk food are more prone to the type-2 diabetes',\n",
              "  'Health was earlier said to be the ability of the body functioning well',\n",
              "  ' However, as time evolved, the definition of health also evolved',\n",
              "  ' It ranges from the air you breathe to the type of people you choose to spend your time with',\n",
              "  ' This means being fit physically and in the absence of any kind of disease or illness',\n",
              "  ' Do not miss out on the essential nutrients; take each of them in appropriate quantities',\n",
              "  ' Junk foods taste good that is why it is mostly liked by everyone of any age group especially kids and school going children',\n",
              "  ' They generally ask for the junk food daily because they have been trend so by their parents from the childhood',\n",
              "  ' They never have been discussed by their parents about the harmful effects of junk foods over health',\n",
              "  ' According to the research by scientists, it has been found that junk foods have negative effects on the health in many ways',\n",
              "  ' They are generally fried food found in the market in the packets',\n",
              "  ' They become high in calories, high in cholesterol, low in healthy nutrients, high in sodium mineral, high in sugar, starch, unhealthy fat, lack of protein and lack of dietary fibers',\n",
              "  ' Processed and junk foods are the means of rapid and unhealthy weight gain and negatively impact the whole body throughout the life',\n",
              "  ' Junk foods tastes good and looks good however do not fulfil the healthy calorie requirement of the body',\n",
              "  ' Some of the foods like french fries, fried foods, pizza, burgers, candy, soft drinks, baked goods, ice cream, cookies, etc are the example of high-sugar and high-fat containing foods',\n",
              "  ' It is found according to the Centres for Disease Control and Prevention that Kids and children eating junk food are more prone to the type-2 diabetes']]"
            ]
          },
          "metadata": {},
          "execution_count": 72
        }
      ]
    },
    {
      "cell_type": "code",
      "source": [],
      "metadata": {
        "id": "iimUwK45NwXz"
      },
      "execution_count": null,
      "outputs": []
    },
    {
      "cell_type": "markdown",
      "source": [
        "# Title Generation/ Topic Modeling\n"
      ],
      "metadata": {
        "id": "jXYjF7TvN7bO"
      }
    },
    {
      "cell_type": "code",
      "source": [
        "import nltk\n",
        "from nltk.corpus import stopwords\n",
        "import gensim\n",
        "from gensim import corpora"
      ],
      "metadata": {
        "id": "tffg3kozNwPd"
      },
      "execution_count": null,
      "outputs": []
    },
    {
      "cell_type": "code",
      "source": [
        "\n",
        "nltk.download('stopwords')\n"
      ],
      "metadata": {
        "colab": {
          "base_uri": "https://localhost:8080/"
        },
        "id": "YUl67XcXOdOS",
        "outputId": "78c8a810-e014-4d74-f123-fe8969f9ab87"
      },
      "execution_count": null,
      "outputs": [
        {
          "output_type": "stream",
          "name": "stderr",
          "text": [
            "[nltk_data] Downloading package stopwords to /root/nltk_data...\n",
            "[nltk_data]   Package stopwords is already up-to-date!\n"
          ]
        },
        {
          "output_type": "execute_result",
          "data": {
            "text/plain": [
              "True"
            ]
          },
          "metadata": {},
          "execution_count": 74
        }
      ]
    },
    {
      "cell_type": "code",
      "source": [
        "\n",
        "stopwords = set(stopwords.words('english'))\n",
        "def remove_stopwords(tokens):\n",
        "    return [word for word in tokens if word not in stopwords and word]"
      ],
      "metadata": {
        "id": "2gSkosuUNwMf"
      },
      "execution_count": null,
      "outputs": []
    },
    {
      "cell_type": "code",
      "source": [
        "\n",
        "def clean_for_topic_modeling(docs):\n",
        "#\n",
        "    return [remove_stopwords(doc) for doc in docs]"
      ],
      "metadata": {
        "id": "dxFtBTHTOgaJ"
      },
      "execution_count": null,
      "outputs": []
    },
    {
      "cell_type": "code",
      "source": [
        "def get_topics(sentence_tokens, num_topics=1, num_words=2):\n",
        "    dictionary = corpora.Dictionary(sentence_tokens)\n",
        "    doc_term_matrix = [dictionary.doc2bow(doc) for doc in sentence_tokens]\n",
        "    Lda = gensim.models.ldamodel.LdaModel\n",
        "    ldamodel = Lda(doc_term_matrix, num_topics, id2word=dictionary, passes=30)\n",
        "    return ldamodel.print_topics(num_topics, num_words)"
      ],
      "metadata": {
        "id": "YzfYusaZOqcb"
      },
      "execution_count": null,
      "outputs": []
    },
    {
      "cell_type": "code",
      "source": [
        "\n",
        "def topic_for_para(doc, num_topics=1, num_words=2):\n",
        "    sentences = split_into_sentences(doc)\n",
        "    sentence_vectors = sentences_to_vectors(sentences)\n",
        "    sentence_tokens = clean_for_topic_modeling(sentence_vectors)\n",
        "    return get_topics(sentence_tokens, num_topics, num_words)"
      ],
      "metadata": {
        "id": "MFFSamdZNwJe"
      },
      "execution_count": null,
      "outputs": []
    },
    {
      "cell_type": "code",
      "source": [
        "\n",
        "topic_for_para(document, num_topics=1, num_words=3)"
      ],
      "metadata": {
        "colab": {
          "base_uri": "https://localhost:8080/"
        },
        "id": "Bxoc1AX8NwGd",
        "outputId": "451d9b33-8576-4ebd-c562-44567d93fdf7"
      },
      "execution_count": null,
      "outputs": [
        {
          "output_type": "execute_result",
          "data": {
            "text/plain": [
              "[(0, '0.031*\"health\" + 0.024*\"foods\" + 0.021*\"junk\"')]"
            ]
          },
          "metadata": {},
          "execution_count": 79
        }
      ]
    },
    {
      "cell_type": "markdown",
      "source": [
        "# Loading data for training model for summarization and title generation"
      ],
      "metadata": {
        "id": "tid-xB8HPZ-a"
      }
    },
    {
      "cell_type": "code",
      "source": [
        "\n",
        "from os import listdir\n",
        "from string import punctuation\n",
        "punctuation+='\\n'\n",
        "import re\n",
        "from bs4 import BeautifulSoup\n",
        "import pandas as pd\n",
        "import math\n",
        "from tqdm import tqdm"
      ],
      "metadata": {
        "id": "9-Hn3Qo_NwC6"
      },
      "execution_count": null,
      "outputs": []
    },
    {
      "cell_type": "code",
      "source": [
        "def load_doc(filename):\n",
        "    file = open(filename, encoding='utf-8')\n",
        "    text = file.read()\n",
        "    file.close()\n",
        "    return text"
      ],
      "metadata": {
        "id": "fs60JxkYPjyV"
      },
      "execution_count": null,
      "outputs": []
    },
    {
      "cell_type": "code",
      "source": [
        "def split_story(doc):\n",
        "    index = doc.find('@highlight')\n",
        "    story, highlights = doc[:index], doc[index:].split('@highlight')\n",
        "    highlights = [h.strip() for h in highlights if len(h) > 0]\n",
        "    return story, highlights"
      ],
      "metadata": {
        "id": "WlIuhxANNa94"
      },
      "execution_count": null,
      "outputs": []
    },
    {
      "cell_type": "code",
      "source": [
        "def load_stories(directory):\n",
        "    all_stories = list()\n",
        "    for name in tqdm(listdir(directory)):\n",
        "        filename = directory + '/' + name\n",
        "        doc = load_doc(filename)\n",
        "        story, highlights = split_story(doc)\n",
        "        all_stories.append({'story':story, 'highlights':highlights})\n",
        "    return all_stories"
      ],
      "metadata": {
        "id": "svEtDWZqPqFa"
      },
      "execution_count": null,
      "outputs": []
    },
    {
      "cell_type": "code",
      "source": [],
      "metadata": {
        "id": "FIDMA-y6QYBi"
      },
      "execution_count": null,
      "outputs": []
    },
    {
      "cell_type": "code",
      "source": [],
      "metadata": {
        "id": "hM9xQVDnRsKQ"
      },
      "execution_count": null,
      "outputs": []
    },
    {
      "cell_type": "code",
      "source": [
        "directory = '/content/cnn/stories'\n",
        "data = load_stories(directory)\n",
        "print('Loaded Stories %d' % len(data))"
      ],
      "metadata": {
        "colab": {
          "base_uri": "https://localhost:8080/"
        },
        "id": "IhUpUKqjPubf",
        "outputId": "700e1c6d-9ea7-4b93-c218-fc7a5145ba1f"
      },
      "execution_count": null,
      "outputs": [
        {
          "output_type": "stream",
          "name": "stderr",
          "text": [
            "100%|██████████| 119/119 [00:00<00:00, 15099.75it/s]"
          ]
        },
        {
          "output_type": "stream",
          "name": "stdout",
          "text": [
            "Loaded Stories 119\n"
          ]
        },
        {
          "output_type": "stream",
          "name": "stderr",
          "text": [
            "\n"
          ]
        }
      ]
    },
    {
      "cell_type": "code",
      "source": [
        "stories = [story['story'] for story in data]"
      ],
      "metadata": {
        "id": "0xf3OCjxU5b3"
      },
      "execution_count": null,
      "outputs": []
    },
    {
      "cell_type": "code",
      "source": [
        "data_df = [[d['story'], d['highlights']] for d in data]"
      ],
      "metadata": {
        "id": "6dAnvveuU8HO"
      },
      "execution_count": null,
      "outputs": []
    },
    {
      "cell_type": "code",
      "source": [
        "df = pd.DataFrame(data_df).rename(columns={0:\"text\", 1:\"summary\"})\n",
        "df.head()"
      ],
      "metadata": {
        "colab": {
          "base_uri": "https://localhost:8080/",
          "height": 1000
        },
        "id": "6J0dBO-9VBDa",
        "outputId": "074858d7-3a57-45e7-9f1f-0b79ca37889d"
      },
      "execution_count": null,
      "outputs": [
        {
          "output_type": "execute_result",
          "data": {
            "text/plain": [
              "                                                                                                                                                                                                                                                                                                                                                                                                                                                                                                                                                                                                                      text  \\\n",
              "0  Greenville, South Carolina (CNN) -- Some are girlish 22-year-olds; others are women approaching 40. They come from South Carolina's rural counties and its booming cities. They are loud and muted, lively and vacant, hopeful and desperate.\\n\\nAs different as they are, they share a connection to two powerful forces : their addictions and their babies.\\n\\nThey are swallowed by the same shameful past. They don't know if they can be good mothers. They don't know if they can be clean mothers.\\n\\nThey're here at a state-run drug-treatment program to learn how to do both.\\n\\nOn this summer day, Ash...   \n",
              "1  Riverside, California (CNN) -- Authorities said Wednesday they are reasonably sure that the body found inside the burned cabin near Big Bear Lake, California, is that of Christopher Dorner, the rogue ex-cop who had been pursuing a vendetta against his fellow officers.\\n\\n\"We believe that this investigation is over, at this point, and we'll just need to move on from here,\" San Bernardino Sheriff John McMahon told reporters.\\n\\nAlthough the description and behavior of the man who was killed are consistent with Dorner, officials \"cannot absolutely, positively confirm it was him,\" McMahon said...   \n",
              "2  (CNN) -- It was a year of crippling -- and creative -- hacks, a year of blockbuster sequels and (yet again) a year of slinging vengeful birds at corpulent pigs.\\n\\nIt was also a year in which gaming continued to expand beyond the traditional console to your phone, your tablet, your TV and your Facebook page.\\n\\nVideo gaming in 2011 had plenty of ups and downs -- and we're not even talking about the actual video game titles that were released.\\n\\nHere, in no particular order, are our choices for gaming's 10 biggest stories of the year:\\n\\nSony's PlayStation Network hacked\\n\\nWhile the explo...   \n",
              "3  (CNN) -- The flagging economy has been the clear-cut No. 1 issue for this year's presidential race.\\n\\nBut some other concerns are just timeless.\\n\\n\"Don't underestimate the pull of safety and security in the minds of American voters,\" said Candy Crowley, host of CNN's \"State of the Union\" and moderator of last week's presidential debate. \"There is no issue closer to home and hearth than the safety and security of your family. That is the most basic question the federal government has to answer.\"\\n\\nPresident Obama and Republican challenger Mitt Romney face off Monday night in the last of ...   \n",
              "4  (CNN) -- We're all know the saying \"to be the best, you've got to learn from the best.\"\\n\\nAnd while it might be true that there are plenty of quality regular people out there who can help you refine your game -- ski, fish, dunk, bluff, drive -- it's nice to get instruction from a legit superstar of the craft.\\n\\nBut book a session with a big name -- an Olympic hero, a Bassmaster Classic champ, an NBA star, a World Series of Poker bracelet winner, a NASCAR legend -- and it's not (let's face it) just about improving.\\n\\nIt's about luxuriating in the experience of doing something -- anything...   \n",
              "\n",
              "                                                                                                                                                                                                                                                                                                                           summary  \n",
              "0  [Serenity Place in South Carolina caters treatment programs to pregnant addicts, South Carolina has been known to prosecute women in their third trimester, A pregnant Ashley Hendrix sought treatment earlier this year for her addiction, \"If these women don't get this treatment, they are going to die,\" a counselor says]  \n",
              "1                                                                               [Slain officer's widow thanks mourners: \"A lot of people loved Mike\", Villaraigosa says police have a \"reasonable belief\" that Dorner died in a mountain standoff, Authorities have not conclusively identified the body found near Big Bear Lake]  \n",
              "2                             [The top gaming stories of 2011 revolved around hacks, sequels, innovation, It was the year of 3 : \"Modern Warfare 3,\" \"Uncharted 3,\" and \"Battlefield 3\", Hackers created new uses for Microsoft's motion-controlled Kinect system, \"Angry Birds\" moved from just a game to pop culture phenomenon]  \n",
              "3              [Foreign policy is the focus of the third and last presidential debate Monday night, Safety, security have always been important issues to the American public, Decisions on Afghanistan, Iran, Syria might have a major impact on the military, China's policies are having a direct effect on U.S. economy, jobs]  \n",
              "4                                                             [Ski, fish, play drums? You can learn how at the feet of the stars, In games with NBA pros you won't be taunted, but welcomed to the team, Poker legends Joe Hachem and Tom McEvoy share secrets, You can book a golf lesson with ex-Tiger Woods coach Butch Harmon]  "
            ],
            "text/html": [
              "\n",
              "  <div id=\"df-9eeac3da-3063-45de-a737-576650567ef4\" class=\"colab-df-container\">\n",
              "    <div>\n",
              "<style scoped>\n",
              "    .dataframe tbody tr th:only-of-type {\n",
              "        vertical-align: middle;\n",
              "    }\n",
              "\n",
              "    .dataframe tbody tr th {\n",
              "        vertical-align: top;\n",
              "    }\n",
              "\n",
              "    .dataframe thead th {\n",
              "        text-align: right;\n",
              "    }\n",
              "</style>\n",
              "<table border=\"1\" class=\"dataframe\">\n",
              "  <thead>\n",
              "    <tr style=\"text-align: right;\">\n",
              "      <th></th>\n",
              "      <th>text</th>\n",
              "      <th>summary</th>\n",
              "    </tr>\n",
              "  </thead>\n",
              "  <tbody>\n",
              "    <tr>\n",
              "      <th>0</th>\n",
              "      <td>Greenville, South Carolina (CNN) -- Some are girlish 22-year-olds; others are women approaching 40. They come from South Carolina's rural counties and its booming cities. They are loud and muted, lively and vacant, hopeful and desperate.\\n\\nAs different as they are, they share a connection to two powerful forces : their addictions and their babies.\\n\\nThey are swallowed by the same shameful past. They don't know if they can be good mothers. They don't know if they can be clean mothers.\\n\\nThey're here at a state-run drug-treatment program to learn how to do both.\\n\\nOn this summer day, Ash...</td>\n",
              "      <td>[Serenity Place in South Carolina caters treatment programs to pregnant addicts, South Carolina has been known to prosecute women in their third trimester, A pregnant Ashley Hendrix sought treatment earlier this year for her addiction, \"If these women don't get this treatment, they are going to die,\" a counselor says]</td>\n",
              "    </tr>\n",
              "    <tr>\n",
              "      <th>1</th>\n",
              "      <td>Riverside, California (CNN) -- Authorities said Wednesday they are reasonably sure that the body found inside the burned cabin near Big Bear Lake, California, is that of Christopher Dorner, the rogue ex-cop who had been pursuing a vendetta against his fellow officers.\\n\\n\"We believe that this investigation is over, at this point, and we'll just need to move on from here,\" San Bernardino Sheriff John McMahon told reporters.\\n\\nAlthough the description and behavior of the man who was killed are consistent with Dorner, officials \"cannot absolutely, positively confirm it was him,\" McMahon said...</td>\n",
              "      <td>[Slain officer's widow thanks mourners: \"A lot of people loved Mike\", Villaraigosa says police have a \"reasonable belief\" that Dorner died in a mountain standoff, Authorities have not conclusively identified the body found near Big Bear Lake]</td>\n",
              "    </tr>\n",
              "    <tr>\n",
              "      <th>2</th>\n",
              "      <td>(CNN) -- It was a year of crippling -- and creative -- hacks, a year of blockbuster sequels and (yet again) a year of slinging vengeful birds at corpulent pigs.\\n\\nIt was also a year in which gaming continued to expand beyond the traditional console to your phone, your tablet, your TV and your Facebook page.\\n\\nVideo gaming in 2011 had plenty of ups and downs -- and we're not even talking about the actual video game titles that were released.\\n\\nHere, in no particular order, are our choices for gaming's 10 biggest stories of the year:\\n\\nSony's PlayStation Network hacked\\n\\nWhile the explo...</td>\n",
              "      <td>[The top gaming stories of 2011 revolved around hacks, sequels, innovation, It was the year of 3 : \"Modern Warfare 3,\" \"Uncharted 3,\" and \"Battlefield 3\", Hackers created new uses for Microsoft's motion-controlled Kinect system, \"Angry Birds\" moved from just a game to pop culture phenomenon]</td>\n",
              "    </tr>\n",
              "    <tr>\n",
              "      <th>3</th>\n",
              "      <td>(CNN) -- The flagging economy has been the clear-cut No. 1 issue for this year's presidential race.\\n\\nBut some other concerns are just timeless.\\n\\n\"Don't underestimate the pull of safety and security in the minds of American voters,\" said Candy Crowley, host of CNN's \"State of the Union\" and moderator of last week's presidential debate. \"There is no issue closer to home and hearth than the safety and security of your family. That is the most basic question the federal government has to answer.\"\\n\\nPresident Obama and Republican challenger Mitt Romney face off Monday night in the last of ...</td>\n",
              "      <td>[Foreign policy is the focus of the third and last presidential debate Monday night, Safety, security have always been important issues to the American public, Decisions on Afghanistan, Iran, Syria might have a major impact on the military, China's policies are having a direct effect on U.S. economy, jobs]</td>\n",
              "    </tr>\n",
              "    <tr>\n",
              "      <th>4</th>\n",
              "      <td>(CNN) -- We're all know the saying \"to be the best, you've got to learn from the best.\"\\n\\nAnd while it might be true that there are plenty of quality regular people out there who can help you refine your game -- ski, fish, dunk, bluff, drive -- it's nice to get instruction from a legit superstar of the craft.\\n\\nBut book a session with a big name -- an Olympic hero, a Bassmaster Classic champ, an NBA star, a World Series of Poker bracelet winner, a NASCAR legend -- and it's not (let's face it) just about improving.\\n\\nIt's about luxuriating in the experience of doing something -- anything...</td>\n",
              "      <td>[Ski, fish, play drums? You can learn how at the feet of the stars, In games with NBA pros you won't be taunted, but welcomed to the team, Poker legends Joe Hachem and Tom McEvoy share secrets, You can book a golf lesson with ex-Tiger Woods coach Butch Harmon]</td>\n",
              "    </tr>\n",
              "  </tbody>\n",
              "</table>\n",
              "</div>\n",
              "    <div class=\"colab-df-buttons\">\n",
              "\n",
              "  <div class=\"colab-df-container\">\n",
              "    <button class=\"colab-df-convert\" onclick=\"convertToInteractive('df-9eeac3da-3063-45de-a737-576650567ef4')\"\n",
              "            title=\"Convert this dataframe to an interactive table.\"\n",
              "            style=\"display:none;\">\n",
              "\n",
              "  <svg xmlns=\"http://www.w3.org/2000/svg\" height=\"24px\" viewBox=\"0 -960 960 960\">\n",
              "    <path d=\"M120-120v-720h720v720H120Zm60-500h600v-160H180v160Zm220 220h160v-160H400v160Zm0 220h160v-160H400v160ZM180-400h160v-160H180v160Zm440 0h160v-160H620v160ZM180-180h160v-160H180v160Zm440 0h160v-160H620v160Z\"/>\n",
              "  </svg>\n",
              "    </button>\n",
              "\n",
              "  <style>\n",
              "    .colab-df-container {\n",
              "      display:flex;\n",
              "      gap: 12px;\n",
              "    }\n",
              "\n",
              "    .colab-df-convert {\n",
              "      background-color: #E8F0FE;\n",
              "      border: none;\n",
              "      border-radius: 50%;\n",
              "      cursor: pointer;\n",
              "      display: none;\n",
              "      fill: #1967D2;\n",
              "      height: 32px;\n",
              "      padding: 0 0 0 0;\n",
              "      width: 32px;\n",
              "    }\n",
              "\n",
              "    .colab-df-convert:hover {\n",
              "      background-color: #E2EBFA;\n",
              "      box-shadow: 0px 1px 2px rgba(60, 64, 67, 0.3), 0px 1px 3px 1px rgba(60, 64, 67, 0.15);\n",
              "      fill: #174EA6;\n",
              "    }\n",
              "\n",
              "    .colab-df-buttons div {\n",
              "      margin-bottom: 4px;\n",
              "    }\n",
              "\n",
              "    [theme=dark] .colab-df-convert {\n",
              "      background-color: #3B4455;\n",
              "      fill: #D2E3FC;\n",
              "    }\n",
              "\n",
              "    [theme=dark] .colab-df-convert:hover {\n",
              "      background-color: #434B5C;\n",
              "      box-shadow: 0px 1px 3px 1px rgba(0, 0, 0, 0.15);\n",
              "      filter: drop-shadow(0px 1px 2px rgba(0, 0, 0, 0.3));\n",
              "      fill: #FFFFFF;\n",
              "    }\n",
              "  </style>\n",
              "\n",
              "    <script>\n",
              "      const buttonEl =\n",
              "        document.querySelector('#df-9eeac3da-3063-45de-a737-576650567ef4 button.colab-df-convert');\n",
              "      buttonEl.style.display =\n",
              "        google.colab.kernel.accessAllowed ? 'block' : 'none';\n",
              "\n",
              "      async function convertToInteractive(key) {\n",
              "        const element = document.querySelector('#df-9eeac3da-3063-45de-a737-576650567ef4');\n",
              "        const dataTable =\n",
              "          await google.colab.kernel.invokeFunction('convertToInteractive',\n",
              "                                                    [key], {});\n",
              "        if (!dataTable) return;\n",
              "\n",
              "        const docLinkHtml = 'Like what you see? Visit the ' +\n",
              "          '<a target=\"_blank\" href=https://colab.research.google.com/notebooks/data_table.ipynb>data table notebook</a>'\n",
              "          + ' to learn more about interactive tables.';\n",
              "        element.innerHTML = '';\n",
              "        dataTable['output_type'] = 'display_data';\n",
              "        await google.colab.output.renderOutput(dataTable, element);\n",
              "        const docLink = document.createElement('div');\n",
              "        docLink.innerHTML = docLinkHtml;\n",
              "        element.appendChild(docLink);\n",
              "      }\n",
              "    </script>\n",
              "  </div>\n",
              "\n",
              "\n",
              "<div id=\"df-3375cd65-b1b4-496e-becb-344e9c4088c0\">\n",
              "  <button class=\"colab-df-quickchart\" onclick=\"quickchart('df-3375cd65-b1b4-496e-becb-344e9c4088c0')\"\n",
              "            title=\"Suggest charts\"\n",
              "            style=\"display:none;\">\n",
              "\n",
              "<svg xmlns=\"http://www.w3.org/2000/svg\" height=\"24px\"viewBox=\"0 0 24 24\"\n",
              "     width=\"24px\">\n",
              "    <g>\n",
              "        <path d=\"M19 3H5c-1.1 0-2 .9-2 2v14c0 1.1.9 2 2 2h14c1.1 0 2-.9 2-2V5c0-1.1-.9-2-2-2zM9 17H7v-7h2v7zm4 0h-2V7h2v10zm4 0h-2v-4h2v4z\"/>\n",
              "    </g>\n",
              "</svg>\n",
              "  </button>\n",
              "\n",
              "<style>\n",
              "  .colab-df-quickchart {\n",
              "      --bg-color: #E8F0FE;\n",
              "      --fill-color: #1967D2;\n",
              "      --hover-bg-color: #E2EBFA;\n",
              "      --hover-fill-color: #174EA6;\n",
              "      --disabled-fill-color: #AAA;\n",
              "      --disabled-bg-color: #DDD;\n",
              "  }\n",
              "\n",
              "  [theme=dark] .colab-df-quickchart {\n",
              "      --bg-color: #3B4455;\n",
              "      --fill-color: #D2E3FC;\n",
              "      --hover-bg-color: #434B5C;\n",
              "      --hover-fill-color: #FFFFFF;\n",
              "      --disabled-bg-color: #3B4455;\n",
              "      --disabled-fill-color: #666;\n",
              "  }\n",
              "\n",
              "  .colab-df-quickchart {\n",
              "    background-color: var(--bg-color);\n",
              "    border: none;\n",
              "    border-radius: 50%;\n",
              "    cursor: pointer;\n",
              "    display: none;\n",
              "    fill: var(--fill-color);\n",
              "    height: 32px;\n",
              "    padding: 0;\n",
              "    width: 32px;\n",
              "  }\n",
              "\n",
              "  .colab-df-quickchart:hover {\n",
              "    background-color: var(--hover-bg-color);\n",
              "    box-shadow: 0 1px 2px rgba(60, 64, 67, 0.3), 0 1px 3px 1px rgba(60, 64, 67, 0.15);\n",
              "    fill: var(--button-hover-fill-color);\n",
              "  }\n",
              "\n",
              "  .colab-df-quickchart-complete:disabled,\n",
              "  .colab-df-quickchart-complete:disabled:hover {\n",
              "    background-color: var(--disabled-bg-color);\n",
              "    fill: var(--disabled-fill-color);\n",
              "    box-shadow: none;\n",
              "  }\n",
              "\n",
              "  .colab-df-spinner {\n",
              "    border: 2px solid var(--fill-color);\n",
              "    border-color: transparent;\n",
              "    border-bottom-color: var(--fill-color);\n",
              "    animation:\n",
              "      spin 1s steps(1) infinite;\n",
              "  }\n",
              "\n",
              "  @keyframes spin {\n",
              "    0% {\n",
              "      border-color: transparent;\n",
              "      border-bottom-color: var(--fill-color);\n",
              "      border-left-color: var(--fill-color);\n",
              "    }\n",
              "    20% {\n",
              "      border-color: transparent;\n",
              "      border-left-color: var(--fill-color);\n",
              "      border-top-color: var(--fill-color);\n",
              "    }\n",
              "    30% {\n",
              "      border-color: transparent;\n",
              "      border-left-color: var(--fill-color);\n",
              "      border-top-color: var(--fill-color);\n",
              "      border-right-color: var(--fill-color);\n",
              "    }\n",
              "    40% {\n",
              "      border-color: transparent;\n",
              "      border-right-color: var(--fill-color);\n",
              "      border-top-color: var(--fill-color);\n",
              "    }\n",
              "    60% {\n",
              "      border-color: transparent;\n",
              "      border-right-color: var(--fill-color);\n",
              "    }\n",
              "    80% {\n",
              "      border-color: transparent;\n",
              "      border-right-color: var(--fill-color);\n",
              "      border-bottom-color: var(--fill-color);\n",
              "    }\n",
              "    90% {\n",
              "      border-color: transparent;\n",
              "      border-bottom-color: var(--fill-color);\n",
              "    }\n",
              "  }\n",
              "</style>\n",
              "\n",
              "  <script>\n",
              "    async function quickchart(key) {\n",
              "      const quickchartButtonEl =\n",
              "        document.querySelector('#' + key + ' button');\n",
              "      quickchartButtonEl.disabled = true;  // To prevent multiple clicks.\n",
              "      quickchartButtonEl.classList.add('colab-df-spinner');\n",
              "      try {\n",
              "        const charts = await google.colab.kernel.invokeFunction(\n",
              "            'suggestCharts', [key], {});\n",
              "      } catch (error) {\n",
              "        console.error('Error during call to suggestCharts:', error);\n",
              "      }\n",
              "      quickchartButtonEl.classList.remove('colab-df-spinner');\n",
              "      quickchartButtonEl.classList.add('colab-df-quickchart-complete');\n",
              "    }\n",
              "    (() => {\n",
              "      let quickchartButtonEl =\n",
              "        document.querySelector('#df-3375cd65-b1b4-496e-becb-344e9c4088c0 button');\n",
              "      quickchartButtonEl.style.display =\n",
              "        google.colab.kernel.accessAllowed ? 'block' : 'none';\n",
              "    })();\n",
              "  </script>\n",
              "</div>\n",
              "\n",
              "    </div>\n",
              "  </div>\n"
            ],
            "application/vnd.google.colaboratory.intrinsic+json": {
              "type": "dataframe",
              "variable_name": "df",
              "summary": "{\n  \"name\": \"df\",\n  \"rows\": 119,\n  \"fields\": [\n    {\n      \"column\": \"text\",\n      \"properties\": {\n        \"dtype\": \"string\",\n        \"num_unique_values\": 119,\n        \"samples\": [\n          \"Hardcore Italian football \\\"ultra\\\" Federico is a Lazio supporter who happily admits directing monkey chants at black players.\\n\\nIt is \\\"a means to distract opposition players\\\" says Federico, a member of the Irriducibili (\\\"The Unbeatables\\\") group which follows the Rome-based team.\\n\\n\\\"I am against anyone who calls me a Nazi,\\\" Federico told academic Alberto Testa, who spent time \\\"embedded\\\" with Lazio and Roma ultras for the book \\\"Football, Fascism and Fandom: The UltraS of Italian Football,\\\" co-authored by Gary Armstrong.\\n\\n\\\"What I do not like is people who come to my country and commit crimes; Albanians and Romanians are destroying Rome with their camps,\\\" Federico adds.\\n\\n\\\"But I'm not a racist. One day, I was waiting in my car at the traffic lights and, as usual, there was a young female gypsy who was trying to clean the car windscreen and was asking for money.\\n\\n\\\"Suddenly municipal police officers started to mistreat the girl. I jumped out of my car and almost kicked his arse. I hate injustice.\\\"\\n\\nThere is nothing black and white about Italian football.\\n\\nRacist abuse has provided the backdrop to the Serie A season, with the latest incident -- not for the first time -- involving AC Milan striker Mario Balotelli, who was targeted by visiting Roma fans throughout a match at the San Siro Stadium in May.\\n\\nIn the second half referee Gianluca Rocchi called the game to a halt for a few minutes, having warned the crowd via the public address system.\\n\\nDays after his return to Serie A earlier in 2013, following his move from Manchester City to AC Milan, Italy-born Balotelli was referred to by his new club's vice president Paulo Berlusconi -- the younger brother of the team's owner and the former Italian prime minister, Silvio Berlusconi -- as \\\"the family's little black boy.\\\"\\n\\nThat remark came after, in what appeared to be an innocuous friendly match against fourth tier Italian side Pro Patria last month, Milan midfielder Kevin-Prince Boateng picked up the ball and kicked it into the stands before tearing off his black-and-red striped shirt and walking off in protest at the persistent monkey chanting to which he and three of his black teammates had been subjected.\\n\\nIn the aftermath of Boateng's walkout, Italian interior minister Annamaria Cancellieri told Radio 24 that if only a small group of fans were involved in  racist chanting, games should not be suspended, but if \\\"a significant part of the fans take part\\\" the game should be stopped \\\"by those responsible for public order.\\\"\\n\\nAs Italy grapples with how best to confront racism, it is worth remembering it's not the only country working out a solution as to how to deal with the problem.\\n\\nNeo-Nazis and neo-Fascists\\n\\nThis season, matches across Europe have been punctuated by repeated racist outbursts, which have led to calls for world governing body FIFA and European counterpart UEFA to show greater leadership and impose harsher sanctions.\\n\\nAmid the monkey chants and racial stereotyping, there are no easy answers to the question of just how prevalent is the incidence of racist abuse in Italian football.\\n\\nAccording to the Italian Football Federation (FIGC) in Feburary, there have been 50 incidents in Italy of racist abuse over the last six years. Of those 50 cases, 48 relate to racist chanting, with two relating to abusive banners.\\n\\n\\\"And the total of violent episodes diminished from 209 to 60 and the majority of them happened outside the football venues,\\\" FIGC spokesman Diego Antenozio told CNN.\\n\\n\\\"The introduction of stewarding has also reduced the need of intervention by police officers inside the venues significantly.\\\"\\n\\nHowever, talk to the head of Italy's Observatory on Racism and Anti-racism in Football, Mauro Valeri, who has been monitoring racism in Italian football for over a decade, and a different picture emerges.\\n\\nHis organization estimates there have been over 660 racial incidents since 2000 and puts the number since 2007 at 282, nearly six times as much as the FIGC figure. In all, fines of $5 million have been handed out as punishment in those 660-plus cases, equating to a fine of $7,500 per incident.\\n\\n\\\"The numbers I record relate to the decision that the judge takes in the sports court and lays down fines and any disqualifications. The FIGC figures concern the criminal law,\\\" said Valeri.\\n\\n\\\"So in the Boateng case the sports court ruled that Pro Patria had to play the game ... 'behind closed doors' and were fined $6,689.\\n\\n\\\"But the ordinary court -- the criminal law -- has instead decided that those songs were not racist. For me it's racism, for the Ministry of the Interior, no.\\\"\\n\\nValeri added: \\\"In Italy, no club has a real anti-racist strategy, because it believes the fight against racism is not a priority.\\n\\n\\\"Since the early 1990s, many curves of the stadium have been occupied by neo-Nazi and neo-Fascist groups, but this problem has been addressed only as a problem of public order.\\\"\\n\\nThat is a view that is supported by Italian football writer Charles Ducksbury, a fan of Verona, who added: \\\"The ultra still, and always will hold all the power at clubs. They choose what is sung, what everyone does and how they do it.\\n\\n\\\"Stewards and police hardly ever enter the curve as they would most likely get beaten up. Ultras say if the authorities stay out the curve, there won't be any problems. Almost all trouble happens outside the ground anyway, so that's where police tend to hang around.\\\"\\n\\nTime warp\\n\\nWhile Boateng walked off, former Netherlands international Edgar Davids, who played for both AC Milan and Inter Milan as well as Juventus, said he felt it was important to show that racist abuse did not affect him as a player during the many years of his career he spent in Italy.\\n\\n\\\"You would have a problem in certain areas,\\\" Davids told CNN. \\\"But you are a professional, you have an obligation to your team. My opinion was I'm a professional and the smartest way is to play so good that you make them even angrier.\\n\\n\\\"It is also about ignorance, a fear of the unknown. If you are interested in different cultures, it's normal.\\n\\n\\\"If you're not, you don't understand that concept. It is not only in Italy and it is not the whole of Italy. It was only certain teams you played, but 80-90% I didn't have a problem in Italy,\\\" added Davids, though Valeri's analysis suggests the problem is much more widespread.\\n\\nIf football, race and politics make for a combustible mix in Italy, it is also arguable that the standard of the country's stadia is not helping.\\n\\nWhile English football was forced to grapple with extensive stadium renovation to improve facilities for fans due to recommendations made by Lord Justice Taylor after the deadly crowd disasters at Hillsborough and Heysel in the 1980s, Italian football was left in a time warp.\\n\\n\\\"I really don't believe that Italian football has learned the lessons of Heysel and Hillsborough, or at least hasn't implemented any tangible changes at anything like the pace required,\\\" said another Italian football writer Adam Digby.\\n\\n\\\"While the Taylor report and formation of the Premier League put English football at the forefront of fan safety and gave it ultra-modern stadia almost throughout the league, Serie A still plays host to a number of ancient, decrepit grounds.\\n\\n\\\"Many are still those built for Italia '90 with places such as Verona's Bentegodi and the San Paolo in Naples particularly poor on both counts.\\n\\n\\\"The problems extend to a lack of quality stewarding and lax ticket security while the ultras bring even greater problems to the situation.\\\"\\n\\nOwen Neilson, who is writing a book about Italian football stadia -- \\\"Stadio: The Life and Death of Italian Football\\\" -- concurs that the lack of stadium redevelopment has held back Italian football. Of Serie A's big clubs, only Juventus has built a new stadium, he notes.\\n\\n\\\"The modernity of the stadia is the central issue to declining attendances -- families do not want to sit in the cold, unfriendly surroundings,\\\" said Neilson.\\n\\n\\\"In my opinion the league needs to harness to new stadiums to help maximize Serie A's re-emergence.\\\"\\n\\nSo what's the solution?\\n\\n\\\"The FIGC makes a relevant anti-racism activity both in the national and international domain according to the UEFA policy and guidelines, and is member of anti-discrimination organization Football against Racism in Europe,\\\" said the Italian Football Federation in its statement to CNN.\\n\\n\\\"Specific guidelines are part of National License Club System's requirements, as are the anti-racism initiatives that are made through FIGC Youth & School Department to involve 860,000 young footballers.\\\"\\n\\nBut as Italian historian John Foot, author of the authoritative book on Italian football \\\"Calcio\\\" points out: \\\"The Italian authorities have been all over the place on racism for a long time.\\\"\\n\\nRacist chants\\n\\nValeri, meanwhile, urged the FIGC to donate the racism fines it recoups from the clubs for initiatives against racism, as does UEFA in its work with FARE.\\n\\n\\\"Any solution has to revolve around the football authorities,\\\" added Professor Clifford Stott, who has advised governments and police forces internationally on crowd management policy and practice.\\n\\nStott calls on FIFA and UEFA to do more.\\n\\n\\\"The FIGC, FIFA and UEFA must empower fan-based initiatives that are capable of creating a culture of self-regulation. The anti-racism agenda has come a long way in the last decades.\\n\\n\\\"By walking off Kevin-Prince and his fellow players have forced the agenda. The high-level political support for his action now means this might happen again, but this time during a much higher profile game -- perhaps even in the Champions League. The authorities have to react to this potential.\\\"\\n\\nBut Stott also warned against an indiscriminate reaction by the authorities.\\n\\n\\\"We have learned a great deal about crowd management since the Heysel disaster, and there must be recognition that it is not appropriate or constructive to sanction whole crowds,\\\" he said.\\n\\n\\\"The approach to security must be capable of differentiating between those fans that are acting illegally and those fans that are not. Failure to recognize this and to react indiscriminately runs a very real danger of escalating not reducing the problems.\\\"\\n\\n\",\n          \"(CNN) -- When my friend Elaine Rivera died, it felt almost like the end of a fireworks show, when the smoke hangs in the air and crowds walk slowly home. The fun was over in a flash.\\n\\nElaine was the life of the party, the girl who urged you to stay for just one more drink, a journalist who could splash life into a good story. She was also, as it turned out, an alcoholic whose drinking was so severe it corroded her liver until it just stopped working.\\n\\nJust a few weeks before her October 26 death from cirrhosis, she looked out the window of her condo in the Bronx at a stunning view of the crowds whooping it up at Yankee Stadium.\\n\\n\\\"Here I am, just another Puerto Rican in the Bronx watching the Yankees. Every one of those people has a beer in their hand,\\\" she rambled on, noting how Puerto Ricans are big baseball fans. \\\"What is it about Puerto Ricans and drinking?\\\"\\n\\nThat was the same day she said: \\\"Rose, I don't think I'm going to make it.\\\"\\n\\nAnd then she didn't.\\n\\nElaine, 54 when she died, was a well-educated Latina who had devoted her career to reporting on the neglect of poor, ethnic communities. Now she'd ended her life like the anecdotal lead to one of her stories -- this one on how Latinos are dying from alcoholism-related cirrhosis at higher rates than other ethnic or racial groups, and no one seems to know precisely why.\\n\\nVideo: Oscar De La Hoya: I started drinking at 8\\n\\nLatino men die at 1.7 times the rate of whites and Latinas at 1.5 times the rate, according to statistics compiled by the National Institutes of Health. Both genders die from alcoholism-related cirrhosis at twice the rate of African-Americans. Only Native Americans suffer mortality rates at higher levels.\\n\\n\\\"You probably have a bed here where you put the Puerto Rican from the Bronx,\\\" she had yelled sarcastically, irascible during her first visit to a New York emergency room. She wasn't far off when it comes to cirrhosis.\\n\\nPuerto Ricans have a higher rate of alcohol abuse than other Latinos, says Dr. Raul Caetano, who has studied alcohol abuse in minority groups for the University of Texas. There are few explanations as to why.\\n\\n\\\"Yes, it's binge drinking, and drinking in general, but as to why (no one knows),\\\" Caetano said.\\n\\nSome of the problem may begin on the island and get worse as Puerto Ricans move stateside, says Hector Diaz, who co-authored a 2005 book on alcohol abuse among Puerto Ricans.\\n\\n\\\"In Latin America, the tendency is for people to drink in large amounts but less frequently. When they drink, they get drunk,\\\" Diaz said. \\\"Then they come to the U.S., where people drink with more frequency, and Latinos adopt both habits.\\\"\\n\\nDiaz, who has a doctorate in social work, believes that colonization and migration leave some Puerto Ricans feeling like they are immigrants even though they are born U.S. citizens. They feel beaten down as they face new economic and social challenges without the strong family structures they left behind on the island.\\n\\n\\\"All that drives people nuts,\\\" he said bluntly. \\\"You are always having to reinvent yourself.\\\" He thinks studying why Latinos, and Puerto Ricans in particular, seem prone to drink will help social workers like him develop better prevention and treatment.\\n\\nVideo: Alcoholism, eating disorders may be genetically linked\\n\\nElaine knew all about Puerto Ricans fighting off a culture of drinking. In the weeks before she was diagnosed, she raged about a dustup between some Puerto Rican leaders and Coors.\\n\\nThe beer company had apologized after some Puerto Ricans felt insulted by a Coors can emblazoned with the Puerto Rican flag in honor of the community's 2013 annual pride parade. The parade theme was \\\"Salud: Celebrating Your Health.\\\"\\n\\n\\\"The hypocrisy of this!\\\" she would say, screaming at the TV set, noting the Puerto Ricans organizing the parade supported Coors. \\\"I'm going to have my students look into it.\\\"\\n\\nCoors later issued an apology, noted its sponsorship of scholarships for Latinos and said it was trying to celebrate culture. It stopped production of the cans.\\n\\nElaine had left full-time journalism to teach journalism at Lehman College and was hoping her students would adopt her passion for covering racial and ethnic minorities.\\n\\nShe noted that in 2011, Puerto Ricans were divided over another Coors ad campaign titled \\\"Emboricuate.\\\"\\n\\nBoriqua is a slang term for Puerto Ricans and \\\"Emboriquate\\\" was an obvious play on the Spanish word \\\"Emborrachate,\\\" meaning \\\"get drunk.\\\" Coors later apologized for offending anyone and dropped the ad, and the partnership between the Puerto Rican parade and the beer company continued.\\n\\nEven as she talked about the community's divisions, though, Elaine never fully acknowledged she had a drinking problem.\\n\\nAlcohol abuse is often a disease that can hide in plain sight in Latino communities, says Judith Arroyo, who studies minority health disparities for the National Institute on Alcohol Abuse and Alcoholism.\\n\\nLatinos sometimes diminish heavy drinking, said Arroyo, believing that people who drink excessively once a month or every six weeks have nothing more significant than \\\"un vicio,\\\" just a vice.\\n\\nElaine's family didn't see it coming until very late. \\\"She'd have a little traguito, (drink) as they say, but I didn't think she was an addict,\\\" said her brother, Randy Rivera.\\n\\nElaine came from a solid working-class family from Cleveland, a destination for Puerto Ricans searching for manufacturing jobs in years past. She called it \\\"the Puerto Rican Brady Bunch\\\" -- three boys and three girls, living in a house with one bathroom.\\n\\nLast Christmas, her brother said, \\\"she came home looking white like a ghost. She looked swollen. She didn't eat well at dinner.\\\" The family always bought a bottle of liquor for guests, and when her brother woke up the morning after her arrival, it was mysteriously empty.\\n\\nThe year before, their sister Joyce had died from cirrhosis. Randy Rivera remembers trying to wrench a bottle of alcohol from Joyce's hands.\\n\\n\\\"I told Joyce, 'The only way you'll stop is in the grave,' and that turned out to be true,\\\" her brother said.\\n\\nThey recognized the physical signs in Elaine, but didn't connect it to heavy drinking.\\n\\n\\\"We knew Joyce was an alcoholic. She wouldn't go to rehab. It was gradual, but we knew it was her destiny,\\\" said her other sister, Marisel Rivera.\\n\\n\\\"With Elaine, we didn't know the severity of her drinking. She'd be up late drinking when she visited, but we thought she was just stressed from work. Now I can't believe this disease has taken two of my sisters.\\\"\\n\\nThe next time Elaine's family visited, she was in Mount Sinai Hospital having fluid drained from her body because her liver was not filtering fluids adequately.\\n\\nNot targeting discreet communities for early prevention can have devastating consequences once they are diagnosed with cirrhosis.\\n\\nDr. Gene Im, who treated Elaine at Mount Sinai in New York, said concerns over continued alcoholic behavior among cirrhosis patients means most doctors won't provide life-saving transplants unless a patient has stopped drinking for six months. Elaine was in rehabilitation when she died suddenly.\\n\\nIm describes cirrhosis as a particularly cruel disease because it's caused by scarring in the liver as it's trying to regenerate and maintain its function against the onslaught of abuse. It basically hurts itself trying to survive.\\n\\n\\\"This comes about over decades of injury to the liver, and often times it's silent,\\\" Im says.\\n\\nThe millions of people in the United States who suffer from alohol-related cirrhosis, an indicator of heavy drinking, face more than just a grave health risk, particularly if they are a member of a vulnerable minority group. Drinking excessively has also been linked to increased criminality, family and work life issues and health consequences.\\n\\n\\\"Alcoholism is one of the preventable agents that keeps Latino people from being able to advance in this country,\\\" Arroyo said. \\\"It affects families, it's money that should be spent on education and providing a good household. If we can address and prevent this, I truly believe we would see Latinos advance economically much more rapidly in this country.\\\"\\n\\nWhile liver disease results from long-term abuse, Arroyo said, not enough research has been done as to whether higher rates of hepatitis C and fatty liver disease among Latinos weaken the liver and increase the rates of cirrhosis.\\n\\nShe also said that poor diet and lack of exercise might also be contributing factors. \\\"Latinos suffer alcohol use disorders, both dependency and abuse, in smaller numbers, but for those of us who drink, tomamos con ganas (we do it with gusto),\\\" she said. \\\"And there are all those things that can contribute.\\\"\\n\\nElaine was a journalist, a profession where much-romanticized pub crawls are legendary. As I told her former colleagues of her death, many asked whether something else might have caused cirrhosis or how much drinking might make you sick. When I told them the autopsy firmly connected her death to long-term alcohol consumption, they seemed incredulous.\\n\\nHers had been a slow, unintentional suicide, aided by the many drinks she shared with her reporter buddies in celebration of the last big story. In that other culture of hers, no one had seen it coming either.\\n\\nProblem teen drinking is not just a phase\\n\\nElaine's friends and family gather will Saturday to celebrate her life and work and raise money for a scholarship fund for poor, minority journalism students devoted to continuing her work.\\n\\nI find it all so heart-crushing I can't bring myself to join the speech-making. There will just be too much talk of the importance of her kind of reporting, but little, if any, about why she died.\\n\\nI'll remember her by telling the story of how her easy smile and zest for justice was snuffed out by an awful disease plaguing her own community. I just wish she were here to have written it herself.\\n\\n\",\n          \"(CNN) -- We're all know the saying \\\"to be the best, you've got to learn from the best.\\\"\\n\\nAnd while it might be true that there are plenty of quality regular people out there who can help you refine your game -- ski, fish, dunk, bluff, drive -- it's nice to get instruction from a legit superstar of the craft.\\n\\nBut book a session with a big name -- an Olympic hero, a Bassmaster Classic champ, an NBA star, a World Series of Poker bracelet winner, a NASCAR legend -- and it's not (let's face it) just about improving.\\n\\nIt's about luxuriating in the experience of doing something -- anything -- under the tutelage of a famous, field-tested elite.\\n\\nAnd, yeah, picking up your game a notch, too, and with you'll never believe who ...\\n\\nSki with Tommy Moe (Jackson Hole, Wyoming)\\n\\nIn 1994, Olympian Tommy Moe made history by becoming the first U.S. alpine skier to win two medals (a gold and silver) in the same Winter Games -- before he had a Super Nintendo game named after him.\\n\\nToday, when he's not running rivers or guiding heli-skiing trips in Alaska, Moe avails himself to the intermediate-to-expert skiing public at Jackson Hole Mountain Resort as a Ski Ambassador.\\n\\nFor half or full days, groups of up to five can arrange for Moe himself to whisk them to some of his favorite spots on the hill.\\n\\nIncluded in the deal: field-tested Olympian ski tips and answers to all those pressing questions only a genial Super-G champion can answer, e.g. What's it feel like doing this at over 75 mph?\\n\\nTommy Moe\\n\\nFantasy Sports Camp with Deion Sanders, Walt Frazier, others\\n\\nMaybe the Cowboys, Pirates and Knicks have missed out on your athletic services, but that doesn't mean you can't scrimmage with some of the finest former pros who've worn their colors.\\n\\nCustomized Fantasy Sports Camps (coordinated by unique experiences specialist Goviva) have put together flag football games with Deion Sanders and Jerome Bettis, hosted by ESPN personalities Mike and Mike; basketball workshops with Walt Frazier, Alex English and other former NBA stars; and opportunities to play in places like the Rose Bowl in Pasadena, California, Madison Square Garden in New York and PNC Park in Pittsburgh.\\n\\nMost fantasy camps can run up to three days for groups of 10 to 20, and include interactive game instruction as well as actual game play with pros who aren't here to tackle or taunt you -- but welcome you to the team.\\n\\nGoviva\\n\\nRichard Petty Driving Experience\\n\\nYou can sit behind the wheel of a 600-horsepower race car, log lap after blurry lap at an official racing track and then get direct feedback from NASCAR Hall of Famer Richard Petty.\\n\\nEven if your name isn't Ricky Bobby, that's a pretty sweet ride.\\n\\nThe Richard Petty Driving Experience offers several stock car racing experiences at hallowed ovals around the country -- from shotgun ride-alongs with expert drivers to a \\\"rookie experience\\\" that lets racing wannabes do eight laps in the driver's seat of a NASCAR vehicle.\\n\\nThe premier program -- Richard Petty Fantasy Racing Camp -- is a multi-day event held at revolving locations (next up: Charlotte, North Carolina, in October 2013) that lets groups of 10 to 12 people take hundreds of laps behind the wheel with the King himself, as well as fellow NASCAR legends like Dale Inman and Randy Lajoie, in attendance.\\n\\nRichard Petty Driving Experience.\\n\\nTexas Hold'em with Joe Hachem and Friends\\n\\n\\\"We will teach you to win like us.\\\"\\n\\nSo says the WSOP Academy (the official poker school of the World Series of Poker), whose roster of pro instructors has collectively pooled more than $20 million in winnings, and includes bracelet winners Joe Hachem, Greg Raymer and Tom McEvoy.\\n\\nHeld on select dates at several metro areas around the United States, the WSOP's curriculum of classes for every skill level includes its flagship, two-day No Limit Hold'em Tournament Academy (featuring proven tournament tactics taught by poker stars), a Live Hand Analysis class (designed to find and fix your weak spots) and a Cash Game Academy for when you're ready to turn this all into your day job.\\n\\nRecent alumni have included a 2011 WSOP Seniors Event bracelet winner, a 2010 WSOP event second place finisher ($375,627) and several people cleaning up back home at their neighborhood poker nights.\\n\\nWorld Series of Poker Academy\\n\\nBass Fish with Paul Elias (Pachuta, Mississippi)\\n\\nCompetitive bass fishing groupies need no introduction to Bassmaster Classic champ Paul Elias, who's logged nearly three decades of wins and Top 10 finishes on the elite circuit.\\n\\nPros and amateur weekend anglers alike can glean one-on-one insights from the legend himself during single- or two-day private structure fishing classes on 780-acre Lake Eddins, Elias' bass-filled home waters in eastern Mississippi, near Meridian.\\n\\nMap reading, lure-gear-and-bait selection and effective GPS use all factor into the customized open lake curriculum.\\n\\nClasses center on structure-fishing techniques, but can also include lessons on flippin' and pitchin', top water and shallow swim baits -- and if terms like these are already too familiar to you, you're ahead of the game.\\n\\nElias provides the tackle, but feel free to bring your own.\\n\\nRoom and meals included.\\n\\nIn Depth Fishing\\n\\nGolf with Butch Harmon (Las Vegas)\\n\\nButch Harmon coached Tiger Woods for years and has helped other huge names in the sport (or just plain huge names, including five American presidents) analyze and improve their games.\\n\\nAttend an intensive multi-day golf clinic at The Butch Harmon School of Golf's state of the art facility and you can take your own game to the next level in the company of Harmon himself -- no green jacket or Air Force One reservation required.\\n\\nThree days of instruction with Harmon and his staff (two-day clinics are available, too) include nine-hole and 18-hole lessons at Rio Secco and Cascata Golf Clubs, video swing analysis and four nights at Caesars Palace on the Vegas Strip.\\n\\nYou'll be covering long and short irons, wedge and sand shots, trouble shots, chipping, putting and why, in Harmon's words, \\\"Many people play golf, but few truly understand it.\\\"\\n\\nButch Harmon\\n\\nAdventure Photography with Tyler Stableford\\n\\nTapped as one of Canon's distinguished \\\"Explorers of Light\\\" and Men's Journal's seven \\\"World's Greatest Adventure Photographers,\\\" Aspen, Colorado-based photographer and cinematographer Tyler Stableford is a master of capturing humans of all kinds in their element.\\n\\nCowboys on horses.\\n\\nSkiers in midair.\\n\\nFighter pilots in jets.\\n\\nRoughnecks on rigs.\\n\\nWhere can you catch up with an award-winning, page-stopping action photog for National Geographic, Outside, Sports Illustrated, The North Face campaigns and beyond?\\n\\nAt a personalized photography seminar catering to small-ish groups inspired to take better shots of interesting people in beautiful places.\\n\\nStableford's multi-day Canon Destination Workshops have taken place in Utah's Moab, Arizona's Mesa Verde and Maine's Bar Harbor.\\n\\nNext stop: Maroon Bells, Colorado, in October 2014.\\n\\nTyler Stableford\\n\\nDrum with Chad/Steve Smith (New York)\\n\\nOK, so maybe you won't be Keith Moon in this lifetime.\\n\\nThat's not an entirely bad thing, and it doesn't mean you can't meet up with a famous living drummer in New York to briefly pretend.\\n\\nHoused in a new facility in Chelsea with a separate wing dedicated solely to drum instruction, the Collective School of Music (formerly The Drummers Collective) offers short- and long-term programs focusing on contemporary rhythm music performance.\\n\\nBut if you just want an hour or two with some big-name drummer, you can hook up for a master class or private lesson.\\n\\nThe Collective's recent roster of guest teacher names -- Chad Smith (Red Hot Chili Peppers), Steve Smith (Journey), Will Calhoun (Living Colour) and others -- may be exactly the quick boost your fantasy drumming career needs.\\n\\nThe Collective School of Music\\n\\nKung Fu with Dr. Yang, Swing-Ming (Miranda, California)\\n\\nMaster instructor and acclaimed author, Dr. Yang, Jwing-Ming, is a leading authority in the world of kung fu, tai chi chuan and qigong -- and has been named by Inside Kung Fu magazine as one of the most important teachers and practitioners of martial arts in the last century.\\n\\nA variety of short- or longer-term summer seminars at his YMAA Retreat Center, located in the hills of Northern California's Humboldt County, cover kung fu, tajiquan, quiqong and other specialized martial arts topics under Dr. Yang's direct instruction in a remote (i.e. ideal) setting for training.\\n\\nPrivate one-on-one hour sessions with Dr. Yang can be arranged, with advance notice.\\n\\nYang's Martial Arts Association\\n\\nMotorcycle Race with Jason Pridmore (Buena Park, California)\\n\\nHandling a sport bike -- at insane track speeds or in comparably crazy road traffic -- takes guts, confidence and (hopefully not too hard-earned) experience.\\n\\nTrack or street riders looking to raise their speed and safety quotients (simultaneously!) can take riding lessons from one of the best in the business -- AMA Supersport champion Jason Pridmore.\\n\\nHeadquartered at Chuckwalla Valley Raceway, Pridmore's long-running STAR Motorcycle School (Skills and Techniques of Advanced Riding) employs a staff of pro riders who also visit several other tracks around the country during the warmer months -- including Minneapolis's Brainerd International Raceway, Illinois' Blackhawk Farms Raceway and New Jersey's Motorsports Park.\\n\\nTwo-day group schools are divided into street riders eager to build on their road skills and track riders looking to improve their lower-body steering techniques and explore their limits.\\n\\nYou can also sign up for a one-on-one with Pridmore for a private videoed session you can one day show your grandkids.\\n\\nJason Pridmore's STAR School\\n\\n\"\n        ],\n        \"semantic_type\": \"\",\n        \"description\": \"\"\n      }\n    },\n    {\n      \"column\": \"summary\",\n      \"properties\": {\n        \"dtype\": \"object\",\n        \"semantic_type\": \"\",\n        \"description\": \"\"\n      }\n    }\n  ]\n}"
            }
          },
          "metadata": {},
          "execution_count": 87
        }
      ]
    },
    {
      "cell_type": "code",
      "source": [
        "df['text'] = df['text'].apply(lambda x: x.replace('\\n',''))\n",
        "df['text'] = df['text'].apply(lambda x: x.replace(\"\\\"\", \"\"))\n",
        "df['summary'] = df['summary'].apply(lambda x: \". \".join(x))\n",
        "df.head()"
      ],
      "metadata": {
        "colab": {
          "base_uri": "https://localhost:8080/",
          "height": 1000
        },
        "id": "f12695n3VDUb",
        "outputId": "6f31ada2-adb7-4e35-c754-34d8239f9026"
      },
      "execution_count": null,
      "outputs": [
        {
          "output_type": "execute_result",
          "data": {
            "text/plain": [
              "                                                                                                                                                                                                                                                                                                                                                                                                                                                                                                                                                                                                                      text  \\\n",
              "0  Greenville, South Carolina (CNN) -- Some are girlish 22-year-olds; others are women approaching 40. They come from South Carolina's rural counties and its booming cities. They are loud and muted, lively and vacant, hopeful and desperate.As different as they are, they share a connection to two powerful forces : their addictions and their babies.They are swallowed by the same shameful past. They don't know if they can be good mothers. They don't know if they can be clean mothers.They're here at a state-run drug-treatment program to learn how to do both.On this summer day, Ashley Hendrix, 24,...   \n",
              "1  Riverside, California (CNN) -- Authorities said Wednesday they are reasonably sure that the body found inside the burned cabin near Big Bear Lake, California, is that of Christopher Dorner, the rogue ex-cop who had been pursuing a vendetta against his fellow officers.We believe that this investigation is over, at this point, and we'll just need to move on from here, San Bernardino Sheriff John McMahon told reporters.Although the description and behavior of the man who was killed are consistent with Dorner, officials cannot absolutely, positively confirm it was him, McMahon said.We're not c...   \n",
              "2  (CNN) -- It was a year of crippling -- and creative -- hacks, a year of blockbuster sequels and (yet again) a year of slinging vengeful birds at corpulent pigs.It was also a year in which gaming continued to expand beyond the traditional console to your phone, your tablet, your TV and your Facebook page.Video gaming in 2011 had plenty of ups and downs -- and we're not even talking about the actual video game titles that were released.Here, in no particular order, are our choices for gaming's 10 biggest stories of the year:Sony's PlayStation Network hackedWhile the explosion of social and m...   \n",
              "3  (CNN) -- The flagging economy has been the clear-cut No. 1 issue for this year's presidential race.But some other concerns are just timeless.Don't underestimate the pull of safety and security in the minds of American voters, said Candy Crowley, host of CNN's State of the Union and moderator of last week's presidential debate. There is no issue closer to home and hearth than the safety and security of your family. That is the most basic question the federal government has to answer.President Obama and Republican challenger Mitt Romney face off Monday night in the last of the three presiden...   \n",
              "4  (CNN) -- We're all know the saying to be the best, you've got to learn from the best.And while it might be true that there are plenty of quality regular people out there who can help you refine your game -- ski, fish, dunk, bluff, drive -- it's nice to get instruction from a legit superstar of the craft.But book a session with a big name -- an Olympic hero, a Bassmaster Classic champ, an NBA star, a World Series of Poker bracelet winner, a NASCAR legend -- and it's not (let's face it) just about improving.It's about luxuriating in the experience of doing something -- anything -- under the ...   \n",
              "\n",
              "                                                                                                                                                                                                                                                                                                                         summary  \n",
              "0  Serenity Place in South Carolina caters treatment programs to pregnant addicts. South Carolina has been known to prosecute women in their third trimester. A pregnant Ashley Hendrix sought treatment earlier this year for her addiction. \"If these women don't get this treatment, they are going to die,\" a counselor says  \n",
              "1                                                                               Slain officer's widow thanks mourners: \"A lot of people loved Mike\". Villaraigosa says police have a \"reasonable belief\" that Dorner died in a mountain standoff. Authorities have not conclusively identified the body found near Big Bear Lake  \n",
              "2                             The top gaming stories of 2011 revolved around hacks, sequels, innovation. It was the year of 3 : \"Modern Warfare 3,\" \"Uncharted 3,\" and \"Battlefield 3\". Hackers created new uses for Microsoft's motion-controlled Kinect system. \"Angry Birds\" moved from just a game to pop culture phenomenon  \n",
              "3              Foreign policy is the focus of the third and last presidential debate Monday night. Safety, security have always been important issues to the American public. Decisions on Afghanistan, Iran, Syria might have a major impact on the military. China's policies are having a direct effect on U.S. economy, jobs  \n",
              "4                                                             Ski, fish, play drums? You can learn how at the feet of the stars. In games with NBA pros you won't be taunted, but welcomed to the team. Poker legends Joe Hachem and Tom McEvoy share secrets. You can book a golf lesson with ex-Tiger Woods coach Butch Harmon  "
            ],
            "text/html": [
              "\n",
              "  <div id=\"df-278baf3d-6719-4bfe-9c6b-2b38bf9360bc\" class=\"colab-df-container\">\n",
              "    <div>\n",
              "<style scoped>\n",
              "    .dataframe tbody tr th:only-of-type {\n",
              "        vertical-align: middle;\n",
              "    }\n",
              "\n",
              "    .dataframe tbody tr th {\n",
              "        vertical-align: top;\n",
              "    }\n",
              "\n",
              "    .dataframe thead th {\n",
              "        text-align: right;\n",
              "    }\n",
              "</style>\n",
              "<table border=\"1\" class=\"dataframe\">\n",
              "  <thead>\n",
              "    <tr style=\"text-align: right;\">\n",
              "      <th></th>\n",
              "      <th>text</th>\n",
              "      <th>summary</th>\n",
              "    </tr>\n",
              "  </thead>\n",
              "  <tbody>\n",
              "    <tr>\n",
              "      <th>0</th>\n",
              "      <td>Greenville, South Carolina (CNN) -- Some are girlish 22-year-olds; others are women approaching 40. They come from South Carolina's rural counties and its booming cities. They are loud and muted, lively and vacant, hopeful and desperate.As different as they are, they share a connection to two powerful forces : their addictions and their babies.They are swallowed by the same shameful past. They don't know if they can be good mothers. They don't know if they can be clean mothers.They're here at a state-run drug-treatment program to learn how to do both.On this summer day, Ashley Hendrix, 24,...</td>\n",
              "      <td>Serenity Place in South Carolina caters treatment programs to pregnant addicts. South Carolina has been known to prosecute women in their third trimester. A pregnant Ashley Hendrix sought treatment earlier this year for her addiction. \"If these women don't get this treatment, they are going to die,\" a counselor says</td>\n",
              "    </tr>\n",
              "    <tr>\n",
              "      <th>1</th>\n",
              "      <td>Riverside, California (CNN) -- Authorities said Wednesday they are reasonably sure that the body found inside the burned cabin near Big Bear Lake, California, is that of Christopher Dorner, the rogue ex-cop who had been pursuing a vendetta against his fellow officers.We believe that this investigation is over, at this point, and we'll just need to move on from here, San Bernardino Sheriff John McMahon told reporters.Although the description and behavior of the man who was killed are consistent with Dorner, officials cannot absolutely, positively confirm it was him, McMahon said.We're not c...</td>\n",
              "      <td>Slain officer's widow thanks mourners: \"A lot of people loved Mike\". Villaraigosa says police have a \"reasonable belief\" that Dorner died in a mountain standoff. Authorities have not conclusively identified the body found near Big Bear Lake</td>\n",
              "    </tr>\n",
              "    <tr>\n",
              "      <th>2</th>\n",
              "      <td>(CNN) -- It was a year of crippling -- and creative -- hacks, a year of blockbuster sequels and (yet again) a year of slinging vengeful birds at corpulent pigs.It was also a year in which gaming continued to expand beyond the traditional console to your phone, your tablet, your TV and your Facebook page.Video gaming in 2011 had plenty of ups and downs -- and we're not even talking about the actual video game titles that were released.Here, in no particular order, are our choices for gaming's 10 biggest stories of the year:Sony's PlayStation Network hackedWhile the explosion of social and m...</td>\n",
              "      <td>The top gaming stories of 2011 revolved around hacks, sequels, innovation. It was the year of 3 : \"Modern Warfare 3,\" \"Uncharted 3,\" and \"Battlefield 3\". Hackers created new uses for Microsoft's motion-controlled Kinect system. \"Angry Birds\" moved from just a game to pop culture phenomenon</td>\n",
              "    </tr>\n",
              "    <tr>\n",
              "      <th>3</th>\n",
              "      <td>(CNN) -- The flagging economy has been the clear-cut No. 1 issue for this year's presidential race.But some other concerns are just timeless.Don't underestimate the pull of safety and security in the minds of American voters, said Candy Crowley, host of CNN's State of the Union and moderator of last week's presidential debate. There is no issue closer to home and hearth than the safety and security of your family. That is the most basic question the federal government has to answer.President Obama and Republican challenger Mitt Romney face off Monday night in the last of the three presiden...</td>\n",
              "      <td>Foreign policy is the focus of the third and last presidential debate Monday night. Safety, security have always been important issues to the American public. Decisions on Afghanistan, Iran, Syria might have a major impact on the military. China's policies are having a direct effect on U.S. economy, jobs</td>\n",
              "    </tr>\n",
              "    <tr>\n",
              "      <th>4</th>\n",
              "      <td>(CNN) -- We're all know the saying to be the best, you've got to learn from the best.And while it might be true that there are plenty of quality regular people out there who can help you refine your game -- ski, fish, dunk, bluff, drive -- it's nice to get instruction from a legit superstar of the craft.But book a session with a big name -- an Olympic hero, a Bassmaster Classic champ, an NBA star, a World Series of Poker bracelet winner, a NASCAR legend -- and it's not (let's face it) just about improving.It's about luxuriating in the experience of doing something -- anything -- under the ...</td>\n",
              "      <td>Ski, fish, play drums? You can learn how at the feet of the stars. In games with NBA pros you won't be taunted, but welcomed to the team. Poker legends Joe Hachem and Tom McEvoy share secrets. You can book a golf lesson with ex-Tiger Woods coach Butch Harmon</td>\n",
              "    </tr>\n",
              "  </tbody>\n",
              "</table>\n",
              "</div>\n",
              "    <div class=\"colab-df-buttons\">\n",
              "\n",
              "  <div class=\"colab-df-container\">\n",
              "    <button class=\"colab-df-convert\" onclick=\"convertToInteractive('df-278baf3d-6719-4bfe-9c6b-2b38bf9360bc')\"\n",
              "            title=\"Convert this dataframe to an interactive table.\"\n",
              "            style=\"display:none;\">\n",
              "\n",
              "  <svg xmlns=\"http://www.w3.org/2000/svg\" height=\"24px\" viewBox=\"0 -960 960 960\">\n",
              "    <path d=\"M120-120v-720h720v720H120Zm60-500h600v-160H180v160Zm220 220h160v-160H400v160Zm0 220h160v-160H400v160ZM180-400h160v-160H180v160Zm440 0h160v-160H620v160ZM180-180h160v-160H180v160Zm440 0h160v-160H620v160Z\"/>\n",
              "  </svg>\n",
              "    </button>\n",
              "\n",
              "  <style>\n",
              "    .colab-df-container {\n",
              "      display:flex;\n",
              "      gap: 12px;\n",
              "    }\n",
              "\n",
              "    .colab-df-convert {\n",
              "      background-color: #E8F0FE;\n",
              "      border: none;\n",
              "      border-radius: 50%;\n",
              "      cursor: pointer;\n",
              "      display: none;\n",
              "      fill: #1967D2;\n",
              "      height: 32px;\n",
              "      padding: 0 0 0 0;\n",
              "      width: 32px;\n",
              "    }\n",
              "\n",
              "    .colab-df-convert:hover {\n",
              "      background-color: #E2EBFA;\n",
              "      box-shadow: 0px 1px 2px rgba(60, 64, 67, 0.3), 0px 1px 3px 1px rgba(60, 64, 67, 0.15);\n",
              "      fill: #174EA6;\n",
              "    }\n",
              "\n",
              "    .colab-df-buttons div {\n",
              "      margin-bottom: 4px;\n",
              "    }\n",
              "\n",
              "    [theme=dark] .colab-df-convert {\n",
              "      background-color: #3B4455;\n",
              "      fill: #D2E3FC;\n",
              "    }\n",
              "\n",
              "    [theme=dark] .colab-df-convert:hover {\n",
              "      background-color: #434B5C;\n",
              "      box-shadow: 0px 1px 3px 1px rgba(0, 0, 0, 0.15);\n",
              "      filter: drop-shadow(0px 1px 2px rgba(0, 0, 0, 0.3));\n",
              "      fill: #FFFFFF;\n",
              "    }\n",
              "  </style>\n",
              "\n",
              "    <script>\n",
              "      const buttonEl =\n",
              "        document.querySelector('#df-278baf3d-6719-4bfe-9c6b-2b38bf9360bc button.colab-df-convert');\n",
              "      buttonEl.style.display =\n",
              "        google.colab.kernel.accessAllowed ? 'block' : 'none';\n",
              "\n",
              "      async function convertToInteractive(key) {\n",
              "        const element = document.querySelector('#df-278baf3d-6719-4bfe-9c6b-2b38bf9360bc');\n",
              "        const dataTable =\n",
              "          await google.colab.kernel.invokeFunction('convertToInteractive',\n",
              "                                                    [key], {});\n",
              "        if (!dataTable) return;\n",
              "\n",
              "        const docLinkHtml = 'Like what you see? Visit the ' +\n",
              "          '<a target=\"_blank\" href=https://colab.research.google.com/notebooks/data_table.ipynb>data table notebook</a>'\n",
              "          + ' to learn more about interactive tables.';\n",
              "        element.innerHTML = '';\n",
              "        dataTable['output_type'] = 'display_data';\n",
              "        await google.colab.output.renderOutput(dataTable, element);\n",
              "        const docLink = document.createElement('div');\n",
              "        docLink.innerHTML = docLinkHtml;\n",
              "        element.appendChild(docLink);\n",
              "      }\n",
              "    </script>\n",
              "  </div>\n",
              "\n",
              "\n",
              "<div id=\"df-bb82c4a4-48ba-4b64-8c75-dc793245fb9e\">\n",
              "  <button class=\"colab-df-quickchart\" onclick=\"quickchart('df-bb82c4a4-48ba-4b64-8c75-dc793245fb9e')\"\n",
              "            title=\"Suggest charts\"\n",
              "            style=\"display:none;\">\n",
              "\n",
              "<svg xmlns=\"http://www.w3.org/2000/svg\" height=\"24px\"viewBox=\"0 0 24 24\"\n",
              "     width=\"24px\">\n",
              "    <g>\n",
              "        <path d=\"M19 3H5c-1.1 0-2 .9-2 2v14c0 1.1.9 2 2 2h14c1.1 0 2-.9 2-2V5c0-1.1-.9-2-2-2zM9 17H7v-7h2v7zm4 0h-2V7h2v10zm4 0h-2v-4h2v4z\"/>\n",
              "    </g>\n",
              "</svg>\n",
              "  </button>\n",
              "\n",
              "<style>\n",
              "  .colab-df-quickchart {\n",
              "      --bg-color: #E8F0FE;\n",
              "      --fill-color: #1967D2;\n",
              "      --hover-bg-color: #E2EBFA;\n",
              "      --hover-fill-color: #174EA6;\n",
              "      --disabled-fill-color: #AAA;\n",
              "      --disabled-bg-color: #DDD;\n",
              "  }\n",
              "\n",
              "  [theme=dark] .colab-df-quickchart {\n",
              "      --bg-color: #3B4455;\n",
              "      --fill-color: #D2E3FC;\n",
              "      --hover-bg-color: #434B5C;\n",
              "      --hover-fill-color: #FFFFFF;\n",
              "      --disabled-bg-color: #3B4455;\n",
              "      --disabled-fill-color: #666;\n",
              "  }\n",
              "\n",
              "  .colab-df-quickchart {\n",
              "    background-color: var(--bg-color);\n",
              "    border: none;\n",
              "    border-radius: 50%;\n",
              "    cursor: pointer;\n",
              "    display: none;\n",
              "    fill: var(--fill-color);\n",
              "    height: 32px;\n",
              "    padding: 0;\n",
              "    width: 32px;\n",
              "  }\n",
              "\n",
              "  .colab-df-quickchart:hover {\n",
              "    background-color: var(--hover-bg-color);\n",
              "    box-shadow: 0 1px 2px rgba(60, 64, 67, 0.3), 0 1px 3px 1px rgba(60, 64, 67, 0.15);\n",
              "    fill: var(--button-hover-fill-color);\n",
              "  }\n",
              "\n",
              "  .colab-df-quickchart-complete:disabled,\n",
              "  .colab-df-quickchart-complete:disabled:hover {\n",
              "    background-color: var(--disabled-bg-color);\n",
              "    fill: var(--disabled-fill-color);\n",
              "    box-shadow: none;\n",
              "  }\n",
              "\n",
              "  .colab-df-spinner {\n",
              "    border: 2px solid var(--fill-color);\n",
              "    border-color: transparent;\n",
              "    border-bottom-color: var(--fill-color);\n",
              "    animation:\n",
              "      spin 1s steps(1) infinite;\n",
              "  }\n",
              "\n",
              "  @keyframes spin {\n",
              "    0% {\n",
              "      border-color: transparent;\n",
              "      border-bottom-color: var(--fill-color);\n",
              "      border-left-color: var(--fill-color);\n",
              "    }\n",
              "    20% {\n",
              "      border-color: transparent;\n",
              "      border-left-color: var(--fill-color);\n",
              "      border-top-color: var(--fill-color);\n",
              "    }\n",
              "    30% {\n",
              "      border-color: transparent;\n",
              "      border-left-color: var(--fill-color);\n",
              "      border-top-color: var(--fill-color);\n",
              "      border-right-color: var(--fill-color);\n",
              "    }\n",
              "    40% {\n",
              "      border-color: transparent;\n",
              "      border-right-color: var(--fill-color);\n",
              "      border-top-color: var(--fill-color);\n",
              "    }\n",
              "    60% {\n",
              "      border-color: transparent;\n",
              "      border-right-color: var(--fill-color);\n",
              "    }\n",
              "    80% {\n",
              "      border-color: transparent;\n",
              "      border-right-color: var(--fill-color);\n",
              "      border-bottom-color: var(--fill-color);\n",
              "    }\n",
              "    90% {\n",
              "      border-color: transparent;\n",
              "      border-bottom-color: var(--fill-color);\n",
              "    }\n",
              "  }\n",
              "</style>\n",
              "\n",
              "  <script>\n",
              "    async function quickchart(key) {\n",
              "      const quickchartButtonEl =\n",
              "        document.querySelector('#' + key + ' button');\n",
              "      quickchartButtonEl.disabled = true;  // To prevent multiple clicks.\n",
              "      quickchartButtonEl.classList.add('colab-df-spinner');\n",
              "      try {\n",
              "        const charts = await google.colab.kernel.invokeFunction(\n",
              "            'suggestCharts', [key], {});\n",
              "      } catch (error) {\n",
              "        console.error('Error during call to suggestCharts:', error);\n",
              "      }\n",
              "      quickchartButtonEl.classList.remove('colab-df-spinner');\n",
              "      quickchartButtonEl.classList.add('colab-df-quickchart-complete');\n",
              "    }\n",
              "    (() => {\n",
              "      let quickchartButtonEl =\n",
              "        document.querySelector('#df-bb82c4a4-48ba-4b64-8c75-dc793245fb9e button');\n",
              "      quickchartButtonEl.style.display =\n",
              "        google.colab.kernel.accessAllowed ? 'block' : 'none';\n",
              "    })();\n",
              "  </script>\n",
              "</div>\n",
              "\n",
              "    </div>\n",
              "  </div>\n"
            ],
            "application/vnd.google.colaboratory.intrinsic+json": {
              "type": "dataframe",
              "variable_name": "df",
              "summary": "{\n  \"name\": \"df\",\n  \"rows\": 119,\n  \"fields\": [\n    {\n      \"column\": \"text\",\n      \"properties\": {\n        \"dtype\": \"string\",\n        \"num_unique_values\": 119,\n        \"samples\": [\n          \"Hardcore Italian football ultra Federico is a Lazio supporter who happily admits directing monkey chants at black players.It is a means to distract opposition players says Federico, a member of the Irriducibili (The Unbeatables) group which follows the Rome-based team.I am against anyone who calls me a Nazi, Federico told academic Alberto Testa, who spent time embedded with Lazio and Roma ultras for the book Football, Fascism and Fandom: The UltraS of Italian Football, co-authored by Gary Armstrong.What I do not like is people who come to my country and commit crimes; Albanians and Romanians are destroying Rome with their camps, Federico adds.But I'm not a racist. One day, I was waiting in my car at the traffic lights and, as usual, there was a young female gypsy who was trying to clean the car windscreen and was asking for money.Suddenly municipal police officers started to mistreat the girl. I jumped out of my car and almost kicked his arse. I hate injustice.There is nothing black and white about Italian football.Racist abuse has provided the backdrop to the Serie A season, with the latest incident -- not for the first time -- involving AC Milan striker Mario Balotelli, who was targeted by visiting Roma fans throughout a match at the San Siro Stadium in May.In the second half referee Gianluca Rocchi called the game to a halt for a few minutes, having warned the crowd via the public address system.Days after his return to Serie A earlier in 2013, following his move from Manchester City to AC Milan, Italy-born Balotelli was referred to by his new club's vice president Paulo Berlusconi -- the younger brother of the team's owner and the former Italian prime minister, Silvio Berlusconi -- as the family's little black boy.That remark came after, in what appeared to be an innocuous friendly match against fourth tier Italian side Pro Patria last month, Milan midfielder Kevin-Prince Boateng picked up the ball and kicked it into the stands before tearing off his black-and-red striped shirt and walking off in protest at the persistent monkey chanting to which he and three of his black teammates had been subjected.In the aftermath of Boateng's walkout, Italian interior minister Annamaria Cancellieri told Radio 24 that if only a small group of fans were involved in  racist chanting, games should not be suspended, but if a significant part of the fans take part the game should be stopped by those responsible for public order.As Italy grapples with how best to confront racism, it is worth remembering it's not the only country working out a solution as to how to deal with the problem.Neo-Nazis and neo-FascistsThis season, matches across Europe have been punctuated by repeated racist outbursts, which have led to calls for world governing body FIFA and European counterpart UEFA to show greater leadership and impose harsher sanctions.Amid the monkey chants and racial stereotyping, there are no easy answers to the question of just how prevalent is the incidence of racist abuse in Italian football.According to the Italian Football Federation (FIGC) in Feburary, there have been 50 incidents in Italy of racist abuse over the last six years. Of those 50 cases, 48 relate to racist chanting, with two relating to abusive banners.And the total of violent episodes diminished from 209 to 60 and the majority of them happened outside the football venues, FIGC spokesman Diego Antenozio told CNN.The introduction of stewarding has also reduced the need of intervention by police officers inside the venues significantly.However, talk to the head of Italy's Observatory on Racism and Anti-racism in Football, Mauro Valeri, who has been monitoring racism in Italian football for over a decade, and a different picture emerges.His organization estimates there have been over 660 racial incidents since 2000 and puts the number since 2007 at 282, nearly six times as much as the FIGC figure. In all, fines of $5 million have been handed out as punishment in those 660-plus cases, equating to a fine of $7,500 per incident.The numbers I record relate to the decision that the judge takes in the sports court and lays down fines and any disqualifications. The FIGC figures concern the criminal law, said Valeri.So in the Boateng case the sports court ruled that Pro Patria had to play the game ... 'behind closed doors' and were fined $6,689.But the ordinary court -- the criminal law -- has instead decided that those songs were not racist. For me it's racism, for the Ministry of the Interior, no.Valeri added: In Italy, no club has a real anti-racist strategy, because it believes the fight against racism is not a priority.Since the early 1990s, many curves of the stadium have been occupied by neo-Nazi and neo-Fascist groups, but this problem has been addressed only as a problem of public order.That is a view that is supported by Italian football writer Charles Ducksbury, a fan of Verona, who added: The ultra still, and always will hold all the power at clubs. They choose what is sung, what everyone does and how they do it.Stewards and police hardly ever enter the curve as they would most likely get beaten up. Ultras say if the authorities stay out the curve, there won't be any problems. Almost all trouble happens outside the ground anyway, so that's where police tend to hang around.Time warpWhile Boateng walked off, former Netherlands international Edgar Davids, who played for both AC Milan and Inter Milan as well as Juventus, said he felt it was important to show that racist abuse did not affect him as a player during the many years of his career he spent in Italy.You would have a problem in certain areas, Davids told CNN. But you are a professional, you have an obligation to your team. My opinion was I'm a professional and the smartest way is to play so good that you make them even angrier.It is also about ignorance, a fear of the unknown. If you are interested in different cultures, it's normal.If you're not, you don't understand that concept. It is not only in Italy and it is not the whole of Italy. It was only certain teams you played, but 80-90% I didn't have a problem in Italy, added Davids, though Valeri's analysis suggests the problem is much more widespread.If football, race and politics make for a combustible mix in Italy, it is also arguable that the standard of the country's stadia is not helping.While English football was forced to grapple with extensive stadium renovation to improve facilities for fans due to recommendations made by Lord Justice Taylor after the deadly crowd disasters at Hillsborough and Heysel in the 1980s, Italian football was left in a time warp.I really don't believe that Italian football has learned the lessons of Heysel and Hillsborough, or at least hasn't implemented any tangible changes at anything like the pace required, said another Italian football writer Adam Digby.While the Taylor report and formation of the Premier League put English football at the forefront of fan safety and gave it ultra-modern stadia almost throughout the league, Serie A still plays host to a number of ancient, decrepit grounds.Many are still those built for Italia '90 with places such as Verona's Bentegodi and the San Paolo in Naples particularly poor on both counts.The problems extend to a lack of quality stewarding and lax ticket security while the ultras bring even greater problems to the situation.Owen Neilson, who is writing a book about Italian football stadia -- Stadio: The Life and Death of Italian Football -- concurs that the lack of stadium redevelopment has held back Italian football. Of Serie A's big clubs, only Juventus has built a new stadium, he notes.The modernity of the stadia is the central issue to declining attendances -- families do not want to sit in the cold, unfriendly surroundings, said Neilson.In my opinion the league needs to harness to new stadiums to help maximize Serie A's re-emergence.So what's the solution?The FIGC makes a relevant anti-racism activity both in the national and international domain according to the UEFA policy and guidelines, and is member of anti-discrimination organization Football against Racism in Europe, said the Italian Football Federation in its statement to CNN.Specific guidelines are part of National License Club System's requirements, as are the anti-racism initiatives that are made through FIGC Youth & School Department to involve 860,000 young footballers.But as Italian historian John Foot, author of the authoritative book on Italian football Calcio points out: The Italian authorities have been all over the place on racism for a long time.Racist chantsValeri, meanwhile, urged the FIGC to donate the racism fines it recoups from the clubs for initiatives against racism, as does UEFA in its work with FARE.Any solution has to revolve around the football authorities, added Professor Clifford Stott, who has advised governments and police forces internationally on crowd management policy and practice.Stott calls on FIFA and UEFA to do more.The FIGC, FIFA and UEFA must empower fan-based initiatives that are capable of creating a culture of self-regulation. The anti-racism agenda has come a long way in the last decades.By walking off Kevin-Prince and his fellow players have forced the agenda. The high-level political support for his action now means this might happen again, but this time during a much higher profile game -- perhaps even in the Champions League. The authorities have to react to this potential.But Stott also warned against an indiscriminate reaction by the authorities.We have learned a great deal about crowd management since the Heysel disaster, and there must be recognition that it is not appropriate or constructive to sanction whole crowds, he said.The approach to security must be capable of differentiating between those fans that are acting illegally and those fans that are not. Failure to recognize this and to react indiscriminately runs a very real danger of escalating not reducing the problems.\",\n          \"(CNN) -- When my friend Elaine Rivera died, it felt almost like the end of a fireworks show, when the smoke hangs in the air and crowds walk slowly home. The fun was over in a flash.Elaine was the life of the party, the girl who urged you to stay for just one more drink, a journalist who could splash life into a good story. She was also, as it turned out, an alcoholic whose drinking was so severe it corroded her liver until it just stopped working.Just a few weeks before her October 26 death from cirrhosis, she looked out the window of her condo in the Bronx at a stunning view of the crowds whooping it up at Yankee Stadium.Here I am, just another Puerto Rican in the Bronx watching the Yankees. Every one of those people has a beer in their hand, she rambled on, noting how Puerto Ricans are big baseball fans. What is it about Puerto Ricans and drinking?That was the same day she said: Rose, I don't think I'm going to make it.And then she didn't.Elaine, 54 when she died, was a well-educated Latina who had devoted her career to reporting on the neglect of poor, ethnic communities. Now she'd ended her life like the anecdotal lead to one of her stories -- this one on how Latinos are dying from alcoholism-related cirrhosis at higher rates than other ethnic or racial groups, and no one seems to know precisely why.Video: Oscar De La Hoya: I started drinking at 8Latino men die at 1.7 times the rate of whites and Latinas at 1.5 times the rate, according to statistics compiled by the National Institutes of Health. Both genders die from alcoholism-related cirrhosis at twice the rate of African-Americans. Only Native Americans suffer mortality rates at higher levels.You probably have a bed here where you put the Puerto Rican from the Bronx, she had yelled sarcastically, irascible during her first visit to a New York emergency room. She wasn't far off when it comes to cirrhosis.Puerto Ricans have a higher rate of alcohol abuse than other Latinos, says Dr. Raul Caetano, who has studied alcohol abuse in minority groups for the University of Texas. There are few explanations as to why.Yes, it's binge drinking, and drinking in general, but as to why (no one knows), Caetano said.Some of the problem may begin on the island and get worse as Puerto Ricans move stateside, says Hector Diaz, who co-authored a 2005 book on alcohol abuse among Puerto Ricans.In Latin America, the tendency is for people to drink in large amounts but less frequently. When they drink, they get drunk, Diaz said. Then they come to the U.S., where people drink with more frequency, and Latinos adopt both habits.Diaz, who has a doctorate in social work, believes that colonization and migration leave some Puerto Ricans feeling like they are immigrants even though they are born U.S. citizens. They feel beaten down as they face new economic and social challenges without the strong family structures they left behind on the island.All that drives people nuts, he said bluntly. You are always having to reinvent yourself. He thinks studying why Latinos, and Puerto Ricans in particular, seem prone to drink will help social workers like him develop better prevention and treatment.Video: Alcoholism, eating disorders may be genetically linkedElaine knew all about Puerto Ricans fighting off a culture of drinking. In the weeks before she was diagnosed, she raged about a dustup between some Puerto Rican leaders and Coors.The beer company had apologized after some Puerto Ricans felt insulted by a Coors can emblazoned with the Puerto Rican flag in honor of the community's 2013 annual pride parade. The parade theme was Salud: Celebrating Your Health.The hypocrisy of this! she would say, screaming at the TV set, noting the Puerto Ricans organizing the parade supported Coors. I'm going to have my students look into it.Coors later issued an apology, noted its sponsorship of scholarships for Latinos and said it was trying to celebrate culture. It stopped production of the cans.Elaine had left full-time journalism to teach journalism at Lehman College and was hoping her students would adopt her passion for covering racial and ethnic minorities.She noted that in 2011, Puerto Ricans were divided over another Coors ad campaign titled Emboricuate.Boriqua is a slang term for Puerto Ricans and Emboriquate was an obvious play on the Spanish word Emborrachate, meaning get drunk. Coors later apologized for offending anyone and dropped the ad, and the partnership between the Puerto Rican parade and the beer company continued.Even as she talked about the community's divisions, though, Elaine never fully acknowledged she had a drinking problem.Alcohol abuse is often a disease that can hide in plain sight in Latino communities, says Judith Arroyo, who studies minority health disparities for the National Institute on Alcohol Abuse and Alcoholism.Latinos sometimes diminish heavy drinking, said Arroyo, believing that people who drink excessively once a month or every six weeks have nothing more significant than un vicio, just a vice.Elaine's family didn't see it coming until very late. She'd have a little traguito, (drink) as they say, but I didn't think she was an addict, said her brother, Randy Rivera.Elaine came from a solid working-class family from Cleveland, a destination for Puerto Ricans searching for manufacturing jobs in years past. She called it the Puerto Rican Brady Bunch -- three boys and three girls, living in a house with one bathroom.Last Christmas, her brother said, she came home looking white like a ghost. She looked swollen. She didn't eat well at dinner. The family always bought a bottle of liquor for guests, and when her brother woke up the morning after her arrival, it was mysteriously empty.The year before, their sister Joyce had died from cirrhosis. Randy Rivera remembers trying to wrench a bottle of alcohol from Joyce's hands.I told Joyce, 'The only way you'll stop is in the grave,' and that turned out to be true, her brother said.They recognized the physical signs in Elaine, but didn't connect it to heavy drinking.We knew Joyce was an alcoholic. She wouldn't go to rehab. It was gradual, but we knew it was her destiny, said her other sister, Marisel Rivera.With Elaine, we didn't know the severity of her drinking. She'd be up late drinking when she visited, but we thought she was just stressed from work. Now I can't believe this disease has taken two of my sisters.The next time Elaine's family visited, she was in Mount Sinai Hospital having fluid drained from her body because her liver was not filtering fluids adequately.Not targeting discreet communities for early prevention can have devastating consequences once they are diagnosed with cirrhosis.Dr. Gene Im, who treated Elaine at Mount Sinai in New York, said concerns over continued alcoholic behavior among cirrhosis patients means most doctors won't provide life-saving transplants unless a patient has stopped drinking for six months. Elaine was in rehabilitation when she died suddenly.Im describes cirrhosis as a particularly cruel disease because it's caused by scarring in the liver as it's trying to regenerate and maintain its function against the onslaught of abuse. It basically hurts itself trying to survive.This comes about over decades of injury to the liver, and often times it's silent, Im says.The millions of people in the United States who suffer from alohol-related cirrhosis, an indicator of heavy drinking, face more than just a grave health risk, particularly if they are a member of a vulnerable minority group. Drinking excessively has also been linked to increased criminality, family and work life issues and health consequences.Alcoholism is one of the preventable agents that keeps Latino people from being able to advance in this country, Arroyo said. It affects families, it's money that should be spent on education and providing a good household. If we can address and prevent this, I truly believe we would see Latinos advance economically much more rapidly in this country.While liver disease results from long-term abuse, Arroyo said, not enough research has been done as to whether higher rates of hepatitis C and fatty liver disease among Latinos weaken the liver and increase the rates of cirrhosis.She also said that poor diet and lack of exercise might also be contributing factors. Latinos suffer alcohol use disorders, both dependency and abuse, in smaller numbers, but for those of us who drink, tomamos con ganas (we do it with gusto), she said. And there are all those things that can contribute.Elaine was a journalist, a profession where much-romanticized pub crawls are legendary. As I told her former colleagues of her death, many asked whether something else might have caused cirrhosis or how much drinking might make you sick. When I told them the autopsy firmly connected her death to long-term alcohol consumption, they seemed incredulous.Hers had been a slow, unintentional suicide, aided by the many drinks she shared with her reporter buddies in celebration of the last big story. In that other culture of hers, no one had seen it coming either.Problem teen drinking is not just a phaseElaine's friends and family gather will Saturday to celebrate her life and work and raise money for a scholarship fund for poor, minority journalism students devoted to continuing her work.I find it all so heart-crushing I can't bring myself to join the speech-making. There will just be too much talk of the importance of her kind of reporting, but little, if any, about why she died.I'll remember her by telling the story of how her easy smile and zest for justice was snuffed out by an awful disease plaguing her own community. I just wish she were here to have written it herself.\",\n          \"(CNN) -- We're all know the saying to be the best, you've got to learn from the best.And while it might be true that there are plenty of quality regular people out there who can help you refine your game -- ski, fish, dunk, bluff, drive -- it's nice to get instruction from a legit superstar of the craft.But book a session with a big name -- an Olympic hero, a Bassmaster Classic champ, an NBA star, a World Series of Poker bracelet winner, a NASCAR legend -- and it's not (let's face it) just about improving.It's about luxuriating in the experience of doing something -- anything -- under the tutelage of a famous, field-tested elite.And, yeah, picking up your game a notch, too, and with you'll never believe who ...Ski with Tommy Moe (Jackson Hole, Wyoming)In 1994, Olympian Tommy Moe made history by becoming the first U.S. alpine skier to win two medals (a gold and silver) in the same Winter Games -- before he had a Super Nintendo game named after him.Today, when he's not running rivers or guiding heli-skiing trips in Alaska, Moe avails himself to the intermediate-to-expert skiing public at Jackson Hole Mountain Resort as a Ski Ambassador.For half or full days, groups of up to five can arrange for Moe himself to whisk them to some of his favorite spots on the hill.Included in the deal: field-tested Olympian ski tips and answers to all those pressing questions only a genial Super-G champion can answer, e.g. What's it feel like doing this at over 75 mph?Tommy MoeFantasy Sports Camp with Deion Sanders, Walt Frazier, othersMaybe the Cowboys, Pirates and Knicks have missed out on your athletic services, but that doesn't mean you can't scrimmage with some of the finest former pros who've worn their colors.Customized Fantasy Sports Camps (coordinated by unique experiences specialist Goviva) have put together flag football games with Deion Sanders and Jerome Bettis, hosted by ESPN personalities Mike and Mike; basketball workshops with Walt Frazier, Alex English and other former NBA stars; and opportunities to play in places like the Rose Bowl in Pasadena, California, Madison Square Garden in New York and PNC Park in Pittsburgh.Most fantasy camps can run up to three days for groups of 10 to 20, and include interactive game instruction as well as actual game play with pros who aren't here to tackle or taunt you -- but welcome you to the team.GovivaRichard Petty Driving ExperienceYou can sit behind the wheel of a 600-horsepower race car, log lap after blurry lap at an official racing track and then get direct feedback from NASCAR Hall of Famer Richard Petty.Even if your name isn't Ricky Bobby, that's a pretty sweet ride.The Richard Petty Driving Experience offers several stock car racing experiences at hallowed ovals around the country -- from shotgun ride-alongs with expert drivers to a rookie experience that lets racing wannabes do eight laps in the driver's seat of a NASCAR vehicle.The premier program -- Richard Petty Fantasy Racing Camp -- is a multi-day event held at revolving locations (next up: Charlotte, North Carolina, in October 2013) that lets groups of 10 to 12 people take hundreds of laps behind the wheel with the King himself, as well as fellow NASCAR legends like Dale Inman and Randy Lajoie, in attendance.Richard Petty Driving Experience.Texas Hold'em with Joe Hachem and FriendsWe will teach you to win like us.So says the WSOP Academy (the official poker school of the World Series of Poker), whose roster of pro instructors has collectively pooled more than $20 million in winnings, and includes bracelet winners Joe Hachem, Greg Raymer and Tom McEvoy.Held on select dates at several metro areas around the United States, the WSOP's curriculum of classes for every skill level includes its flagship, two-day No Limit Hold'em Tournament Academy (featuring proven tournament tactics taught by poker stars), a Live Hand Analysis class (designed to find and fix your weak spots) and a Cash Game Academy for when you're ready to turn this all into your day job.Recent alumni have included a 2011 WSOP Seniors Event bracelet winner, a 2010 WSOP event second place finisher ($375,627) and several people cleaning up back home at their neighborhood poker nights.World Series of Poker AcademyBass Fish with Paul Elias (Pachuta, Mississippi)Competitive bass fishing groupies need no introduction to Bassmaster Classic champ Paul Elias, who's logged nearly three decades of wins and Top 10 finishes on the elite circuit.Pros and amateur weekend anglers alike can glean one-on-one insights from the legend himself during single- or two-day private structure fishing classes on 780-acre Lake Eddins, Elias' bass-filled home waters in eastern Mississippi, near Meridian.Map reading, lure-gear-and-bait selection and effective GPS use all factor into the customized open lake curriculum.Classes center on structure-fishing techniques, but can also include lessons on flippin' and pitchin', top water and shallow swim baits -- and if terms like these are already too familiar to you, you're ahead of the game.Elias provides the tackle, but feel free to bring your own.Room and meals included.In Depth FishingGolf with Butch Harmon (Las Vegas)Butch Harmon coached Tiger Woods for years and has helped other huge names in the sport (or just plain huge names, including five American presidents) analyze and improve their games.Attend an intensive multi-day golf clinic at The Butch Harmon School of Golf's state of the art facility and you can take your own game to the next level in the company of Harmon himself -- no green jacket or Air Force One reservation required.Three days of instruction with Harmon and his staff (two-day clinics are available, too) include nine-hole and 18-hole lessons at Rio Secco and Cascata Golf Clubs, video swing analysis and four nights at Caesars Palace on the Vegas Strip.You'll be covering long and short irons, wedge and sand shots, trouble shots, chipping, putting and why, in Harmon's words, Many people play golf, but few truly understand it.Butch HarmonAdventure Photography with Tyler StablefordTapped as one of Canon's distinguished Explorers of Light and Men's Journal's seven World's Greatest Adventure Photographers, Aspen, Colorado-based photographer and cinematographer Tyler Stableford is a master of capturing humans of all kinds in their element.Cowboys on horses.Skiers in midair.Fighter pilots in jets.Roughnecks on rigs.Where can you catch up with an award-winning, page-stopping action photog for National Geographic, Outside, Sports Illustrated, The North Face campaigns and beyond?At a personalized photography seminar catering to small-ish groups inspired to take better shots of interesting people in beautiful places.Stableford's multi-day Canon Destination Workshops have taken place in Utah's Moab, Arizona's Mesa Verde and Maine's Bar Harbor.Next stop: Maroon Bells, Colorado, in October 2014.Tyler StablefordDrum with Chad/Steve Smith (New York)OK, so maybe you won't be Keith Moon in this lifetime.That's not an entirely bad thing, and it doesn't mean you can't meet up with a famous living drummer in New York to briefly pretend.Housed in a new facility in Chelsea with a separate wing dedicated solely to drum instruction, the Collective School of Music (formerly The Drummers Collective) offers short- and long-term programs focusing on contemporary rhythm music performance.But if you just want an hour or two with some big-name drummer, you can hook up for a master class or private lesson.The Collective's recent roster of guest teacher names -- Chad Smith (Red Hot Chili Peppers), Steve Smith (Journey), Will Calhoun (Living Colour) and others -- may be exactly the quick boost your fantasy drumming career needs.The Collective School of MusicKung Fu with Dr. Yang, Swing-Ming (Miranda, California)Master instructor and acclaimed author, Dr. Yang, Jwing-Ming, is a leading authority in the world of kung fu, tai chi chuan and qigong -- and has been named by Inside Kung Fu magazine as one of the most important teachers and practitioners of martial arts in the last century.A variety of short- or longer-term summer seminars at his YMAA Retreat Center, located in the hills of Northern California's Humboldt County, cover kung fu, tajiquan, quiqong and other specialized martial arts topics under Dr. Yang's direct instruction in a remote (i.e. ideal) setting for training.Private one-on-one hour sessions with Dr. Yang can be arranged, with advance notice.Yang's Martial Arts AssociationMotorcycle Race with Jason Pridmore (Buena Park, California)Handling a sport bike -- at insane track speeds or in comparably crazy road traffic -- takes guts, confidence and (hopefully not too hard-earned) experience.Track or street riders looking to raise their speed and safety quotients (simultaneously!) can take riding lessons from one of the best in the business -- AMA Supersport champion Jason Pridmore.Headquartered at Chuckwalla Valley Raceway, Pridmore's long-running STAR Motorcycle School (Skills and Techniques of Advanced Riding) employs a staff of pro riders who also visit several other tracks around the country during the warmer months -- including Minneapolis's Brainerd International Raceway, Illinois' Blackhawk Farms Raceway and New Jersey's Motorsports Park.Two-day group schools are divided into street riders eager to build on their road skills and track riders looking to improve their lower-body steering techniques and explore their limits.You can also sign up for a one-on-one with Pridmore for a private videoed session you can one day show your grandkids.Jason Pridmore's STAR School\"\n        ],\n        \"semantic_type\": \"\",\n        \"description\": \"\"\n      }\n    },\n    {\n      \"column\": \"summary\",\n      \"properties\": {\n        \"dtype\": \"string\",\n        \"num_unique_values\": 119,\n        \"samples\": [\n          \"Racism in Italian football is a complex issue, highlighting different attitudes. \\\"Ultra\\\" fan groups admit targeting their clubs' black opponents with racial abuse. Anti-racism group says official figures about racist incidents are not accurate. Academic urges football authorities to take stronger action against racist offenders\",\n          \"Journalist Elaine Rivera died October 26 at age 54. \\\"What is it about Puerto Ricans and drinking,\\\" she asked before her death. Puerto Ricans have a higher rate of alcohol abuse than other Latinos, expert says. Millions in the United States suffer from cirrhosis\",\n          \"Ski, fish, play drums? You can learn how at the feet of the stars. In games with NBA pros you won't be taunted, but welcomed to the team. Poker legends Joe Hachem and Tom McEvoy share secrets. You can book a golf lesson with ex-Tiger Woods coach Butch Harmon\"\n        ],\n        \"semantic_type\": \"\",\n        \"description\": \"\"\n      }\n    }\n  ]\n}"
            }
          },
          "metadata": {},
          "execution_count": 88
        }
      ]
    },
    {
      "cell_type": "markdown",
      "source": [
        "#Train-test split\n"
      ],
      "metadata": {
        "id": "BcAmez3RVI28"
      }
    },
    {
      "cell_type": "code",
      "source": [
        "train_size = math.floor(0.9*len(df))\n",
        "train_df = df[:train_size]\n",
        "test_df = df[train_size:].copy()"
      ],
      "metadata": {
        "id": "X5X4FB5jVL1q"
      },
      "execution_count": null,
      "outputs": []
    },
    {
      "cell_type": "code",
      "source": [
        "test_df['text']"
      ],
      "metadata": {
        "colab": {
          "base_uri": "https://localhost:8080/"
        },
        "id": "SFea5joPfuMY",
        "outputId": "4404195f-cf82-43ca-ed38-0b07b727193b"
      },
      "execution_count": null,
      "outputs": [
        {
          "output_type": "execute_result",
          "data": {
            "text/plain": [
              "107    (CNN) -- North Korea's longtime leader Kim Jong Il, the embodiment of the reclusive state where his cult of personality is deeply entrenched, has died.He was believed to be 69.Regarded as one of the world's most-repressive leaders, Kim Jong Il always cut a slightly bizarre figure. His diminutive stature and characteristically bouffant hair have been parodied by some in the West.He's a mysterious person -- I think by design, said Han S. Park, director of the Center for the Study of Global Issues at the University of Georgia and a frequent visitor to North Korea. Mystery is a source of lever...\n",
              "108    Washington (CNN) -- When President Barack Obama headed to the Jersey Shore this week to tout the recovery effort from Superstorm Sandy, congressional Republicans sought to keep the nation's focus on Washington.On the same day Obama played Touchdown Fever with New Jersey Gov. Chris Christie on the Point Pleasant boardwalk and urged Americans to come spend money in the devastated region, House GOP committee leaders ensured that a series of controversies dominating the start of the president's second term remained in the headlines.Obama quoted from the Tom Waits song Jersey Girl popularized b...\n",
              "109    Kiev, Ukraine (CNN) -- Did a Russian fire the missile that downed Malaysia Airlines Flight 17? That depends on who you ask.A top Ukrainian official says he has no doubt.Vitaly Nayda, Ukraine's director of informational security, told CNN the person who shot down the flight was absolutely a Russian. A Russian-trained, well-equipped, well-educated officer ... pushed that button deliberately, he said.We taped conversations between a Russian officer and his office in Moscow, Nayda said. We know for sure that several minutes before the missile was launched, there was a report to a Russian offic...\n",
              "110    Tacloban, Philippines (CNN) -- The Philippines struggled to bury the dead and get food, water and medicine to the living Tuesday, four days after Super Typhoon Haiyan claimed untold lives and flattened countless buildings.Right now, we don't have enough water, typhoon survivor Roselda Sumapit told CNN in Tacloban, a city of more than 200,000 that was flattened by the storm. What they can get may not be clean, she said -- but she added, We still drink it, because we need to survive.The government's confirmed death toll was 1,774 early Tuesday, said Jose Lampe Cuisa Jr., the Philippine ambas...\n",
              "111    (CNN) -- President Barack Obama promised accountability, but he made clear Wednesday he won't fire Veterans Affairs Secretary Eric Shinseki -- yet -- over excessive and sometimes deadly waiting times faced by veterans seeking government health care.The controversy has mushroomed since CNN first reported the problem last November in a detailed investigation examining several VA hospitals.Hospital delays are killing war veteransAfter meeting with Shinseki at the White House, Obama held a hastily arranged news conference in which he said he needed more time to review what was going on.If thes...\n",
              "112    (CNN) -- A court in Egypt has sentenced to death more than 500 supporters of the now-banned Muslim Brotherhood following violence that broke out in the southern city of Minya last August. The Egyptian Foreign Ministry puts the number of those sentenced at 529.A single policeman was killed.Only 147 of the defendants were reportedly in court Monday. Sixteen people were also acquitted at the hearing. Another 683 defendants -- including the Muslim Brotherhood's spiritual leader Mohamed Badie -- appeared before the same judge Tuesday in relation to the unrest. Their case was adjourned until Apr...\n",
              "113    When does the ordinary -- letters, gloves, wallets -- become extraordinary?When the objects tell a story: a stack of personal letters that fell to the ground after a hijacked plane plowed into the World Trade Center; leather gloves worn in the recovery effort; a red wallet belonging to a woman who worked for Cantor Fitzgerald.Tragedy turns the mundane into memorial. Something as simple as a wallet can evoke the immense sadness of a day like September 11, 2001.Objects big and small from the greatest terrorist attack on American soil now make up a museum dedicated to that tragedy and the 2,9...\n",
              "114    (CNN)The cost of college has rapidly increased over the past 30 years. Students today face annual costs, between tuition and living, that can easily exceed $10,000 at a community college, $18,000 at a public four-year college (in-state), and $40,000 at a private four-year school. It's unsurprising that today's students often graduate with large debt loads. More than two-thirds of students graduate with debt. And the average amount of debt owed is about $30,000.Given the cost of college, students and families need to know that they're making a good investment. That's why we need to move to ...\n",
              "115    (CNN) -- Egyptian authorities have charged seven Coptic Christians living in the United States and a Florida pastor with insulting Islam and inciting sectarian strife for their alleged links to an online video that has enraged much of the Muslim world.Egypt's public prosecutor announced the charges Tuesday, the latest development in the deadly backlash against the low-budget, amateurish 14-minute movie trailer produced privately in the United States and posted on YouTube.The clip from The Innocence of Muslims mocks the Muslim Prophet Mohammed as a womanizer, child molester and killer.Belie...\n",
              "116    Washington (CNN) -- It looks like Marco Rubio isn't laying low anymore.The senator from Florida and possible 2016 Republican presidential candidate followed up a Friday swing through the first-in-the-nation primary state of New Hampshire with some candid comments on Sunday talk shows about the next race for the White House.And following a White House report that declared the effects of climate change are upon us, Rubio said in numerous interviews that he doesn't believe that humans are causing global warming, and doesn't think any action can reverse that course.The moves by Rubio put him b...\n",
              "117    (Health.com)  -- Lana, a 38 year-old publicist in Los Angeles, California, was diagnosed with genital herpes in 1997.Since then, she has kind of been hiding from the dating scene.Let's face it: How do you drop that bomb on a potential love interest? And when?She considered a number of online dating venues, but she says Match.com asked too many questions on its enrollment form, eHarmony was too religious, and MySpace was too much of a hookup zone.I wanted to meet men with my same diagnosis so we wouldn't [need to] have 'the talk,' or fear of rejection and transmitting, she says. Most of us ...\n",
              "118    (CNN) -- Demonstrations in support of immigrants' rights are scheduled Saturday in at least 21 states, the District of Columbia and two Canadian provinces. In all, protests are planned for 47 cities.The demonstrations come amid a swirl of controversy surrounding a new immigration law in Arizona that allows police to demand proof of legal residency. Arizona lawmakers say the law is needed because the federal government has failed to enforce border security with Mexico, allowing more than 450,000 illegal immigrants to move into in the state.Critics say the law is unconstitutional and will le...\n",
              "Name: text, dtype: object"
            ]
          },
          "metadata": {},
          "execution_count": 90
        }
      ]
    },
    {
      "cell_type": "markdown",
      "source": [
        "#Summarization\n",
        "We use the pre-trained BART model and fine-tuned it for our dataset (CNN-Dailymail).\n",
        "\n",
        "#Fine-tuning BART\n",
        "BART uses a standard Transformer-based neural machine translation architecture. It uses a standard seq2seq/machine translation architecture with a bidirectional encoder (like BERT) and a left-to-right decoder (like GPT). Here, BART is trained over the cnn-dailymail dataset."
      ],
      "metadata": {
        "id": "uk_iv2bXVPEC"
      }
    },
    {
      "cell_type": "code",
      "source": [
        "\n",
        "\n",
        "!pip install bert-score -q\n",
        "!pip install blurr"
      ],
      "metadata": {
        "colab": {
          "base_uri": "https://localhost:8080/"
        },
        "id": "B50qlliMVSKz",
        "outputId": "bbfb953d-fc86-4cac-b452-577ada0a6367"
      },
      "execution_count": null,
      "outputs": [
        {
          "output_type": "stream",
          "name": "stdout",
          "text": [
            "Requirement already satisfied: blurr in /usr/local/lib/python3.10/dist-packages (0.4.1)\n",
            "Requirement already satisfied: pyyaml in /usr/local/lib/python3.10/dist-packages (from blurr) (6.0.1)\n",
            "Requirement already satisfied: python-dateutil in /usr/local/lib/python3.10/dist-packages (from blurr) (2.8.2)\n",
            "Requirement already satisfied: docopt in /usr/local/lib/python3.10/dist-packages (from blurr) (0.6.2)\n",
            "Requirement already satisfied: boto3 in /usr/local/lib/python3.10/dist-packages (from blurr) (1.34.91)\n",
            "Requirement already satisfied: smart-open in /usr/local/lib/python3.10/dist-packages (from blurr) (6.4.0)\n",
            "Requirement already satisfied: botocore<1.35.0,>=1.34.91 in /usr/local/lib/python3.10/dist-packages (from boto3->blurr) (1.34.91)\n",
            "Requirement already satisfied: jmespath<2.0.0,>=0.7.1 in /usr/local/lib/python3.10/dist-packages (from boto3->blurr) (1.0.1)\n",
            "Requirement already satisfied: s3transfer<0.11.0,>=0.10.0 in /usr/local/lib/python3.10/dist-packages (from boto3->blurr) (0.10.1)\n",
            "Requirement already satisfied: six>=1.5 in /usr/local/lib/python3.10/dist-packages (from python-dateutil->blurr) (1.16.0)\n",
            "Requirement already satisfied: urllib3!=2.2.0,<3,>=1.25.4 in /usr/local/lib/python3.10/dist-packages (from botocore<1.35.0,>=1.34.91->boto3->blurr) (2.0.7)\n"
          ]
        }
      ]
    },
    {
      "cell_type": "code",
      "source": [
        "!pip install ohmeow-blurr\n"
      ],
      "metadata": {
        "colab": {
          "base_uri": "https://localhost:8080/"
        },
        "id": "AL88CpnYcDm_",
        "outputId": "b21d17fe-8b3d-42c2-d4b6-d8c9c117a7ac"
      },
      "execution_count": null,
      "outputs": [
        {
          "output_type": "stream",
          "name": "stdout",
          "text": [
            "Requirement already satisfied: ohmeow-blurr in /usr/local/lib/python3.10/dist-packages (1.0.5)\n",
            "Requirement already satisfied: torch<2.0.0,>=1.7.0 in /usr/local/lib/python3.10/dist-packages (from ohmeow-blurr) (1.13.1)\n",
            "Requirement already satisfied: fastcore>=1.4.1 in /usr/local/lib/python3.10/dist-packages (from ohmeow-blurr) (1.5.29)\n",
            "Requirement already satisfied: fastai>=2.5 in /usr/local/lib/python3.10/dist-packages (from ohmeow-blurr) (2.7.14)\n",
            "Requirement already satisfied: transformers>=4.6 in /usr/local/lib/python3.10/dist-packages (from ohmeow-blurr) (4.40.0)\n",
            "Requirement already satisfied: datasets in /usr/local/lib/python3.10/dist-packages (from ohmeow-blurr) (2.19.0)\n",
            "Requirement already satisfied: sentencepiece in /usr/local/lib/python3.10/dist-packages (from ohmeow-blurr) (0.1.99)\n",
            "Requirement already satisfied: seqeval in /usr/local/lib/python3.10/dist-packages (from ohmeow-blurr) (1.2.2)\n",
            "Requirement already satisfied: rouge-score in /usr/local/lib/python3.10/dist-packages (from ohmeow-blurr) (0.1.2)\n",
            "Requirement already satisfied: openpyxl<4.0,>=3.0.7 in /usr/local/lib/python3.10/dist-packages (from ohmeow-blurr) (3.1.2)\n",
            "Requirement already satisfied: xlrd<3.0,>=2.0.1 in /usr/local/lib/python3.10/dist-packages (from ohmeow-blurr) (2.0.1)\n",
            "Requirement already satisfied: pip in /usr/local/lib/python3.10/dist-packages (from fastai>=2.5->ohmeow-blurr) (23.1.2)\n",
            "Requirement already satisfied: packaging in /usr/local/lib/python3.10/dist-packages (from fastai>=2.5->ohmeow-blurr) (24.0)\n",
            "Requirement already satisfied: fastdownload<2,>=0.0.5 in /usr/local/lib/python3.10/dist-packages (from fastai>=2.5->ohmeow-blurr) (0.0.7)\n",
            "Requirement already satisfied: torchvision>=0.11 in /usr/local/lib/python3.10/dist-packages (from fastai>=2.5->ohmeow-blurr) (0.14.1)\n",
            "Requirement already satisfied: matplotlib in /usr/local/lib/python3.10/dist-packages (from fastai>=2.5->ohmeow-blurr) (3.7.1)\n",
            "Requirement already satisfied: pandas in /usr/local/lib/python3.10/dist-packages (from fastai>=2.5->ohmeow-blurr) (2.0.3)\n",
            "Requirement already satisfied: requests in /usr/local/lib/python3.10/dist-packages (from fastai>=2.5->ohmeow-blurr) (2.31.0)\n",
            "Requirement already satisfied: pyyaml in /usr/local/lib/python3.10/dist-packages (from fastai>=2.5->ohmeow-blurr) (6.0.1)\n",
            "Requirement already satisfied: fastprogress>=0.2.4 in /usr/local/lib/python3.10/dist-packages (from fastai>=2.5->ohmeow-blurr) (1.0.3)\n",
            "Requirement already satisfied: pillow>=9.0.0 in /usr/local/lib/python3.10/dist-packages (from fastai>=2.5->ohmeow-blurr) (9.4.0)\n",
            "Requirement already satisfied: scikit-learn in /usr/local/lib/python3.10/dist-packages (from fastai>=2.5->ohmeow-blurr) (1.2.2)\n",
            "Requirement already satisfied: scipy in /usr/local/lib/python3.10/dist-packages (from fastai>=2.5->ohmeow-blurr) (1.11.4)\n",
            "Requirement already satisfied: spacy<4 in /usr/local/lib/python3.10/dist-packages (from fastai>=2.5->ohmeow-blurr) (3.7.4)\n",
            "Requirement already satisfied: et-xmlfile in /usr/local/lib/python3.10/dist-packages (from openpyxl<4.0,>=3.0.7->ohmeow-blurr) (1.1.0)\n",
            "Requirement already satisfied: typing-extensions in /usr/local/lib/python3.10/dist-packages (from torch<2.0.0,>=1.7.0->ohmeow-blurr) (4.11.0)\n",
            "Requirement already satisfied: nvidia-cuda-runtime-cu11==11.7.99 in /usr/local/lib/python3.10/dist-packages (from torch<2.0.0,>=1.7.0->ohmeow-blurr) (11.7.99)\n",
            "Requirement already satisfied: nvidia-cudnn-cu11==8.5.0.96 in /usr/local/lib/python3.10/dist-packages (from torch<2.0.0,>=1.7.0->ohmeow-blurr) (8.5.0.96)\n",
            "Requirement already satisfied: nvidia-cublas-cu11==11.10.3.66 in /usr/local/lib/python3.10/dist-packages (from torch<2.0.0,>=1.7.0->ohmeow-blurr) (11.10.3.66)\n",
            "Requirement already satisfied: nvidia-cuda-nvrtc-cu11==11.7.99 in /usr/local/lib/python3.10/dist-packages (from torch<2.0.0,>=1.7.0->ohmeow-blurr) (11.7.99)\n",
            "Requirement already satisfied: setuptools in /usr/local/lib/python3.10/dist-packages (from nvidia-cublas-cu11==11.10.3.66->torch<2.0.0,>=1.7.0->ohmeow-blurr) (67.7.2)\n",
            "Requirement already satisfied: wheel in /usr/local/lib/python3.10/dist-packages (from nvidia-cublas-cu11==11.10.3.66->torch<2.0.0,>=1.7.0->ohmeow-blurr) (0.43.0)\n",
            "Requirement already satisfied: filelock in /usr/local/lib/python3.10/dist-packages (from transformers>=4.6->ohmeow-blurr) (3.13.4)\n",
            "Requirement already satisfied: huggingface-hub<1.0,>=0.19.3 in /usr/local/lib/python3.10/dist-packages (from transformers>=4.6->ohmeow-blurr) (0.22.2)\n",
            "Requirement already satisfied: numpy>=1.17 in /usr/local/lib/python3.10/dist-packages (from transformers>=4.6->ohmeow-blurr) (1.25.2)\n",
            "Requirement already satisfied: regex!=2019.12.17 in /usr/local/lib/python3.10/dist-packages (from transformers>=4.6->ohmeow-blurr) (2023.12.25)\n",
            "Requirement already satisfied: tokenizers<0.20,>=0.19 in /usr/local/lib/python3.10/dist-packages (from transformers>=4.6->ohmeow-blurr) (0.19.1)\n",
            "Requirement already satisfied: safetensors>=0.4.1 in /usr/local/lib/python3.10/dist-packages (from transformers>=4.6->ohmeow-blurr) (0.4.3)\n",
            "Requirement already satisfied: tqdm>=4.27 in /usr/local/lib/python3.10/dist-packages (from transformers>=4.6->ohmeow-blurr) (4.66.2)\n",
            "Requirement already satisfied: pyarrow>=12.0.0 in /usr/local/lib/python3.10/dist-packages (from datasets->ohmeow-blurr) (14.0.2)\n",
            "Requirement already satisfied: pyarrow-hotfix in /usr/local/lib/python3.10/dist-packages (from datasets->ohmeow-blurr) (0.6)\n",
            "Requirement already satisfied: dill<0.3.9,>=0.3.0 in /usr/local/lib/python3.10/dist-packages (from datasets->ohmeow-blurr) (0.3.8)\n",
            "Requirement already satisfied: xxhash in /usr/local/lib/python3.10/dist-packages (from datasets->ohmeow-blurr) (3.4.1)\n",
            "Requirement already satisfied: multiprocess in /usr/local/lib/python3.10/dist-packages (from datasets->ohmeow-blurr) (0.70.16)\n",
            "Requirement already satisfied: fsspec[http]<=2024.3.1,>=2023.1.0 in /usr/local/lib/python3.10/dist-packages (from datasets->ohmeow-blurr) (2023.6.0)\n",
            "Requirement already satisfied: aiohttp in /usr/local/lib/python3.10/dist-packages (from datasets->ohmeow-blurr) (3.9.5)\n",
            "Requirement already satisfied: absl-py in /usr/local/lib/python3.10/dist-packages (from rouge-score->ohmeow-blurr) (1.4.0)\n",
            "Requirement already satisfied: nltk in /usr/local/lib/python3.10/dist-packages (from rouge-score->ohmeow-blurr) (3.8.1)\n",
            "Requirement already satisfied: six>=1.14.0 in /usr/local/lib/python3.10/dist-packages (from rouge-score->ohmeow-blurr) (1.16.0)\n",
            "Requirement already satisfied: aiosignal>=1.1.2 in /usr/local/lib/python3.10/dist-packages (from aiohttp->datasets->ohmeow-blurr) (1.3.1)\n",
            "Requirement already satisfied: attrs>=17.3.0 in /usr/local/lib/python3.10/dist-packages (from aiohttp->datasets->ohmeow-blurr) (23.2.0)\n",
            "Requirement already satisfied: frozenlist>=1.1.1 in /usr/local/lib/python3.10/dist-packages (from aiohttp->datasets->ohmeow-blurr) (1.4.1)\n",
            "Requirement already satisfied: multidict<7.0,>=4.5 in /usr/local/lib/python3.10/dist-packages (from aiohttp->datasets->ohmeow-blurr) (6.0.5)\n",
            "Requirement already satisfied: yarl<2.0,>=1.0 in /usr/local/lib/python3.10/dist-packages (from aiohttp->datasets->ohmeow-blurr) (1.9.4)\n",
            "Requirement already satisfied: async-timeout<5.0,>=4.0 in /usr/local/lib/python3.10/dist-packages (from aiohttp->datasets->ohmeow-blurr) (4.0.3)\n",
            "Requirement already satisfied: charset-normalizer<4,>=2 in /usr/local/lib/python3.10/dist-packages (from requests->fastai>=2.5->ohmeow-blurr) (3.3.2)\n",
            "Requirement already satisfied: idna<4,>=2.5 in /usr/local/lib/python3.10/dist-packages (from requests->fastai>=2.5->ohmeow-blurr) (3.7)\n",
            "Requirement already satisfied: urllib3<3,>=1.21.1 in /usr/local/lib/python3.10/dist-packages (from requests->fastai>=2.5->ohmeow-blurr) (2.0.7)\n",
            "Requirement already satisfied: certifi>=2017.4.17 in /usr/local/lib/python3.10/dist-packages (from requests->fastai>=2.5->ohmeow-blurr) (2024.2.2)\n",
            "Requirement already satisfied: joblib>=1.1.1 in /usr/local/lib/python3.10/dist-packages (from scikit-learn->fastai>=2.5->ohmeow-blurr) (1.4.0)\n",
            "Requirement already satisfied: threadpoolctl>=2.0.0 in /usr/local/lib/python3.10/dist-packages (from scikit-learn->fastai>=2.5->ohmeow-blurr) (3.4.0)\n",
            "Requirement already satisfied: spacy-legacy<3.1.0,>=3.0.11 in /usr/local/lib/python3.10/dist-packages (from spacy<4->fastai>=2.5->ohmeow-blurr) (3.0.12)\n",
            "Requirement already satisfied: spacy-loggers<2.0.0,>=1.0.0 in /usr/local/lib/python3.10/dist-packages (from spacy<4->fastai>=2.5->ohmeow-blurr) (1.0.5)\n",
            "Requirement already satisfied: murmurhash<1.1.0,>=0.28.0 in /usr/local/lib/python3.10/dist-packages (from spacy<4->fastai>=2.5->ohmeow-blurr) (1.0.10)\n",
            "Requirement already satisfied: cymem<2.1.0,>=2.0.2 in /usr/local/lib/python3.10/dist-packages (from spacy<4->fastai>=2.5->ohmeow-blurr) (2.0.8)\n",
            "Requirement already satisfied: preshed<3.1.0,>=3.0.2 in /usr/local/lib/python3.10/dist-packages (from spacy<4->fastai>=2.5->ohmeow-blurr) (3.0.9)\n",
            "Requirement already satisfied: thinc<8.3.0,>=8.2.2 in /usr/local/lib/python3.10/dist-packages (from spacy<4->fastai>=2.5->ohmeow-blurr) (8.2.3)\n",
            "Requirement already satisfied: wasabi<1.2.0,>=0.9.1 in /usr/local/lib/python3.10/dist-packages (from spacy<4->fastai>=2.5->ohmeow-blurr) (1.1.2)\n",
            "Requirement already satisfied: srsly<3.0.0,>=2.4.3 in /usr/local/lib/python3.10/dist-packages (from spacy<4->fastai>=2.5->ohmeow-blurr) (2.4.8)\n",
            "Requirement already satisfied: catalogue<2.1.0,>=2.0.6 in /usr/local/lib/python3.10/dist-packages (from spacy<4->fastai>=2.5->ohmeow-blurr) (2.0.10)\n",
            "Requirement already satisfied: weasel<0.4.0,>=0.1.0 in /usr/local/lib/python3.10/dist-packages (from spacy<4->fastai>=2.5->ohmeow-blurr) (0.3.4)\n",
            "Requirement already satisfied: typer<0.10.0,>=0.3.0 in /usr/local/lib/python3.10/dist-packages (from spacy<4->fastai>=2.5->ohmeow-blurr) (0.9.4)\n",
            "Requirement already satisfied: smart-open<7.0.0,>=5.2.1 in /usr/local/lib/python3.10/dist-packages (from spacy<4->fastai>=2.5->ohmeow-blurr) (6.4.0)\n",
            "Requirement already satisfied: pydantic!=1.8,!=1.8.1,<3.0.0,>=1.7.4 in /usr/local/lib/python3.10/dist-packages (from spacy<4->fastai>=2.5->ohmeow-blurr) (2.7.0)\n",
            "Requirement already satisfied: jinja2 in /usr/local/lib/python3.10/dist-packages (from spacy<4->fastai>=2.5->ohmeow-blurr) (3.1.3)\n",
            "Requirement already satisfied: langcodes<4.0.0,>=3.2.0 in /usr/local/lib/python3.10/dist-packages (from spacy<4->fastai>=2.5->ohmeow-blurr) (3.3.0)\n",
            "Requirement already satisfied: contourpy>=1.0.1 in /usr/local/lib/python3.10/dist-packages (from matplotlib->fastai>=2.5->ohmeow-blurr) (1.2.1)\n",
            "Requirement already satisfied: cycler>=0.10 in /usr/local/lib/python3.10/dist-packages (from matplotlib->fastai>=2.5->ohmeow-blurr) (0.12.1)\n",
            "Requirement already satisfied: fonttools>=4.22.0 in /usr/local/lib/python3.10/dist-packages (from matplotlib->fastai>=2.5->ohmeow-blurr) (4.51.0)\n",
            "Requirement already satisfied: kiwisolver>=1.0.1 in /usr/local/lib/python3.10/dist-packages (from matplotlib->fastai>=2.5->ohmeow-blurr) (1.4.5)\n",
            "Requirement already satisfied: pyparsing>=2.3.1 in /usr/local/lib/python3.10/dist-packages (from matplotlib->fastai>=2.5->ohmeow-blurr) (3.1.2)\n",
            "Requirement already satisfied: python-dateutil>=2.7 in /usr/local/lib/python3.10/dist-packages (from matplotlib->fastai>=2.5->ohmeow-blurr) (2.8.2)\n",
            "Requirement already satisfied: click in /usr/local/lib/python3.10/dist-packages (from nltk->rouge-score->ohmeow-blurr) (8.1.7)\n",
            "Requirement already satisfied: pytz>=2020.1 in /usr/local/lib/python3.10/dist-packages (from pandas->fastai>=2.5->ohmeow-blurr) (2023.4)\n",
            "Requirement already satisfied: tzdata>=2022.1 in /usr/local/lib/python3.10/dist-packages (from pandas->fastai>=2.5->ohmeow-blurr) (2024.1)\n",
            "Requirement already satisfied: annotated-types>=0.4.0 in /usr/local/lib/python3.10/dist-packages (from pydantic!=1.8,!=1.8.1,<3.0.0,>=1.7.4->spacy<4->fastai>=2.5->ohmeow-blurr) (0.6.0)\n",
            "Requirement already satisfied: pydantic-core==2.18.1 in /usr/local/lib/python3.10/dist-packages (from pydantic!=1.8,!=1.8.1,<3.0.0,>=1.7.4->spacy<4->fastai>=2.5->ohmeow-blurr) (2.18.1)\n",
            "Requirement already satisfied: blis<0.8.0,>=0.7.8 in /usr/local/lib/python3.10/dist-packages (from thinc<8.3.0,>=8.2.2->spacy<4->fastai>=2.5->ohmeow-blurr) (0.7.11)\n",
            "Requirement already satisfied: confection<1.0.0,>=0.0.1 in /usr/local/lib/python3.10/dist-packages (from thinc<8.3.0,>=8.2.2->spacy<4->fastai>=2.5->ohmeow-blurr) (0.1.4)\n",
            "Requirement already satisfied: cloudpathlib<0.17.0,>=0.7.0 in /usr/local/lib/python3.10/dist-packages (from weasel<0.4.0,>=0.1.0->spacy<4->fastai>=2.5->ohmeow-blurr) (0.16.0)\n",
            "Requirement already satisfied: MarkupSafe>=2.0 in /usr/local/lib/python3.10/dist-packages (from jinja2->spacy<4->fastai>=2.5->ohmeow-blurr) (2.1.5)\n"
          ]
        }
      ]
    },
    {
      "cell_type": "code",
      "source": [
        "from fastai.text.all import *\n",
        "\n",
        "from blurr.text.data.all import *\n",
        "from blurr.text.modeling.all import *\n",
        "\n",
        "from tqdm import tqdm"
      ],
      "metadata": {
        "id": "PA1Iz7dYV-Lk"
      },
      "execution_count": null,
      "outputs": []
    },
    {
      "cell_type": "code",
      "source": [
        "!pip show transformers"
      ],
      "metadata": {
        "colab": {
          "base_uri": "https://localhost:8080/"
        },
        "id": "wgj9i3Vnf81f",
        "outputId": "13342874-06a7-4a31-f398-63c4c0ea4ba9"
      },
      "execution_count": null,
      "outputs": [
        {
          "output_type": "stream",
          "name": "stdout",
          "text": [
            "Name: transformers\n",
            "Version: 4.40.0\n",
            "Summary: State-of-the-art Machine Learning for JAX, PyTorch and TensorFlow\n",
            "Home-page: https://github.com/huggingface/transformers\n",
            "Author: The Hugging Face team (past and future) with the help of all our contributors (https://github.com/huggingface/transformers/graphs/contributors)\n",
            "Author-email: transformers@huggingface.co\n",
            "License: Apache 2.0 License\n",
            "Location: /usr/local/lib/python3.10/dist-packages\n",
            "Requires: filelock, huggingface-hub, numpy, packaging, pyyaml, regex, requests, safetensors, tokenizers, tqdm\n",
            "Required-by: bert-score, ohmeow-blurr\n"
          ]
        }
      ]
    },
    {
      "cell_type": "code",
      "source": [
        "from transformers import AutoModel, AutoTokenizer  # Import specific modules or classes from the transformers library\n",
        "import sentencepiece\n",
        "!pip install rouge\n",
        "from rouge import Rouge"
      ],
      "metadata": {
        "colab": {
          "base_uri": "https://localhost:8080/"
        },
        "id": "hAUFgFczdqMc",
        "outputId": "098160cc-d766-4e09-ef4f-c624b7caf2a7"
      },
      "execution_count": null,
      "outputs": [
        {
          "output_type": "stream",
          "name": "stdout",
          "text": [
            "Requirement already satisfied: rouge in /usr/local/lib/python3.10/dist-packages (1.0.1)\n",
            "Requirement already satisfied: six in /usr/local/lib/python3.10/dist-packages (from rouge) (1.16.0)\n"
          ]
        }
      ]
    },
    {
      "cell_type": "code",
      "source": [
        "import torch\n",
        "import pandas as pd\n",
        "from rouge import Rouge\n",
        "from transformers import AutoModelForSeq2SeqLM, AutoTokenizer\n",
        "\n",
        "import plotly.express as px\n",
        "import matplotlib.pyplot as plt\n",
        "\n",
        "from plotly.offline import init_notebook_mode\n",
        "init_notebook_mode(connected=True)\n"
      ],
      "metadata": {
        "colab": {
          "base_uri": "https://localhost:8080/",
          "height": 17
        },
        "id": "E7nsLsFDdhbE",
        "outputId": "c23d1346-e4be-4cc6-838d-cd856e1ea749"
      },
      "execution_count": null,
      "outputs": [
        {
          "output_type": "display_data",
          "data": {
            "text/html": [
              "        <script type=\"text/javascript\">\n",
              "        window.PlotlyConfig = {MathJaxConfig: 'local'};\n",
              "        if (window.MathJax && window.MathJax.Hub && window.MathJax.Hub.Config) {window.MathJax.Hub.Config({SVG: {font: \"STIX-Web\"}});}\n",
              "        if (typeof require !== 'undefined') {\n",
              "        require.undef(\"plotly\");\n",
              "        requirejs.config({\n",
              "            paths: {\n",
              "                'plotly': ['https://cdn.plot.ly/plotly-2.24.1.min']\n",
              "            }\n",
              "        });\n",
              "        require(['plotly'], function(Plotly) {\n",
              "            window._Plotly = Plotly;\n",
              "        });\n",
              "        }\n",
              "        </script>\n",
              "        "
            ]
          },
          "metadata": {}
        }
      ]
    },
    {
      "cell_type": "code",
      "source": [
        "from transformers import BartForConditionalGeneration"
      ],
      "metadata": {
        "id": "_VbNd89Adl89"
      },
      "execution_count": null,
      "outputs": []
    },
    {
      "cell_type": "code",
      "source": [
        "bart_checkpoint = \"facebook/bart-large-cnn\""
      ],
      "metadata": {
        "id": "CIfK3yRojVfn"
      },
      "execution_count": null,
      "outputs": []
    },
    {
      "cell_type": "code",
      "source": [
        "device = \"cuda\" if torch.cuda.is_available() else \"cpu\""
      ],
      "metadata": {
        "id": "p48hH5VajVdJ"
      },
      "execution_count": null,
      "outputs": []
    },
    {
      "cell_type": "code",
      "source": [
        "tokenizer_bart = AutoTokenizer.from_pretrained(bart_checkpoint,\n",
        "                                               do_lower_case=False,\n",
        "                                               use_fast=False,\n",
        "                                               keep_accents=True)\n",
        "\n",
        "model_bart = AutoModelForSeq2SeqLM.from_pretrained(bart_checkpoint).to(device)"
      ],
      "metadata": {
        "id": "OarTjc8dd32a"
      },
      "execution_count": null,
      "outputs": []
    },
    {
      "cell_type": "markdown",
      "source": [],
      "metadata": {
        "id": "xyto6T_Dd3pR"
      }
    },
    {
      "cell_type": "code",
      "source": [
        "bos_id = tokenizer_bart._convert_token_to_id_with_added_voc(\"<s>\")\n",
        "eos_id = tokenizer_bart._convert_token_to_id_with_added_voc(\"</s>\")\n",
        "pad_id = tokenizer_bart._convert_token_to_id_with_added_voc(\"<pad>\")"
      ],
      "metadata": {
        "id": "PncsJVXqjVYY"
      },
      "execution_count": null,
      "outputs": []
    },
    {
      "cell_type": "code",
      "source": [
        "text=test_df['text']"
      ],
      "metadata": {
        "id": "KISEskC3eFqV"
      },
      "execution_count": null,
      "outputs": []
    },
    {
      "cell_type": "code",
      "source": [
        "%%time\n",
        "\n",
        "SystemSummary = []\n",
        "\n",
        "for i, input_text in enumerate(text):\n",
        "\n",
        "    inp = tokenizer_bart(input_text, add_special_tokens=False,\n",
        "                         truncation=True, return_tensors=\"pt\",\n",
        "                         padding='max_length', max_length=1024)['input_ids'].to(device)\n",
        "\n",
        "    model_output = model_bart.generate(inp, use_cache=True,\n",
        "                                        num_beams=4,\n",
        "                                        max_length=70,\n",
        "                                        min_length=30,\n",
        "                                        early_stopping=True,\n",
        "                                        pad_token_id=pad_id,\n",
        "                                        bos_token_id=bos_id,\n",
        "                                        eos_token_id=eos_id,\n",
        "                                        decoder_start_token_id=tokenizer_bart._convert_token_to_id_with_added_voc(\"<2en>\"))\n",
        "\n",
        "    decoded_output = tokenizer_bart.decode(model_output[0],\n",
        "                                    skip_special_tokens=True,\n",
        "                                    clean_up_tokenization_spaces=False)\n",
        "\n",
        "    SystemSummary.append(decoded_output)"
      ],
      "metadata": {
        "id": "2Vk-40rMjVWH",
        "colab": {
          "base_uri": "https://localhost:8080/"
        },
        "outputId": "b8bc19de-c764-4f46-d69e-fcc71b14e854"
      },
      "execution_count": null,
      "outputs": [
        {
          "output_type": "stream",
          "name": "stdout",
          "text": [
            "CPU times: user 8min 1s, sys: 18.2 s, total: 8min 19s\n",
            "Wall time: 8min 32s\n"
          ]
        }
      ]
    },
    {
      "cell_type": "code",
      "source": [
        "Summaries = pd.DataFrame(list(zip(test_df['summary'], SystemSummary)), columns =['OldSummary', 'BartSummary'])\n",
        "Summaries.head()"
      ],
      "metadata": {
        "colab": {
          "base_uri": "https://localhost:8080/",
          "height": 762
        },
        "id": "NE-bOg-4gQtN",
        "outputId": "a7d37f73-914f-4794-db06-9e455cca93df"
      },
      "execution_count": null,
      "outputs": [
        {
          "output_type": "execute_result",
          "data": {
            "text/plain": [
              "                                                                                                                                                                                                                                                                                                               OldSummary  \\\n",
              "0                                                                            Kim Jong Il took over when his father died of a heart attack in 1994. He will be remembered as one of the world's most repressive leaders. Kim was well regarded within North Korea. He played a poor hand of cards skillfully, analysts say   \n",
              "1                                                                NEW: In midst of controversies, Obama pushes Congress on student loans. Obama administration faces congressional probes of IRS, Benghazi, AP. Republicans say the issues reflect government gone wild. Democrats contend GOP foes politicize the process   \n",
              "2  NEW: It's unclear how much of a role Russia played, U.S. intelligence says. The European Union agrees on a plan for new sanctions to include Russia. Ukraine opens criminal cases against Russian defense minister and businessman. Dutch official: At least 200 bodies were on the train; more could be at crash site   \n",
              "3                                                             NEW: Disaster management agency says 2,487 people have been injured. 1,774 people are confirmed dead from Haiyan. Another 14 dead in Vietnam and five in China, those governments say. International relief heads for stricken islands, but roads a problem   \n",
              "4                                          Shinseki rescinds 2013 bonus for Phoenix VA director. President Obama defends VA Secretary Shinseki, promises accountability. The number of VA facilities under investigation has expanded to 26. NEW: House panel wants three VA officials to appear at a meeting on Thursday   \n",
              "\n",
              "                                                                                                                                                                                                                                                                                                                                                 BartSummary  \n",
              "0                                                                                                          Kim Jong Il was the first-born son of an iron-fisted dictator. His father, Kim Il Sung, founded North Korea with Soviet backing after World War II. Kim Jong Il's younger brother drowned as a child and his mother died when he was 7 years old.  \n",
              "1  NEW: Obama pushes Congress to extend student loan rates that are set to double on July 1. The White House is trying to shift the focus from the controversies that Republicans seek to emphasize. The GOP narrative depicts a government gone wild, with party leaders and strategists accusing the Obama administration of routinely abusing its powers.  \n",
              "2                                                      NEW: A top Ukrainian official says he has no doubt that a Russian fired the missile. NEW: The person who shot down the flight was absolutely a Russian, the official says. Dutch PM: Identifying bodies could take months. A train carrying the remains of crash victims arrives in Kharkiv, Ukraine.  \n",
              "3                                                                                                                                               NEW: A new tropical depression dumps heavy rain on the area. The government's confirmed death toll was 1,774 early Tuesday. The storm has injured 2,487 more, and displaced 660,000 people from their homes.  \n",
              "4                              NEW: Shinseki rescinds $8,495 bonus awarded to Phoenix VA Director Sharon Helman. President Obama says he needs more time to review what's going on at the VA. The number of VA facilities under investigation has expanded to 26, the agency says. CNN first reported the problem last November in a detailed investigation.  "
            ],
            "text/html": [
              "\n",
              "  <div id=\"df-756afd14-b385-4f8d-bf4d-17b09ef1dfab\" class=\"colab-df-container\">\n",
              "    <div>\n",
              "<style scoped>\n",
              "    .dataframe tbody tr th:only-of-type {\n",
              "        vertical-align: middle;\n",
              "    }\n",
              "\n",
              "    .dataframe tbody tr th {\n",
              "        vertical-align: top;\n",
              "    }\n",
              "\n",
              "    .dataframe thead th {\n",
              "        text-align: right;\n",
              "    }\n",
              "</style>\n",
              "<table border=\"1\" class=\"dataframe\">\n",
              "  <thead>\n",
              "    <tr style=\"text-align: right;\">\n",
              "      <th></th>\n",
              "      <th>OldSummary</th>\n",
              "      <th>BartSummary</th>\n",
              "    </tr>\n",
              "  </thead>\n",
              "  <tbody>\n",
              "    <tr>\n",
              "      <th>0</th>\n",
              "      <td>Kim Jong Il took over when his father died of a heart attack in 1994. He will be remembered as one of the world's most repressive leaders. Kim was well regarded within North Korea. He played a poor hand of cards skillfully, analysts say</td>\n",
              "      <td>Kim Jong Il was the first-born son of an iron-fisted dictator. His father, Kim Il Sung, founded North Korea with Soviet backing after World War II. Kim Jong Il's younger brother drowned as a child and his mother died when he was 7 years old.</td>\n",
              "    </tr>\n",
              "    <tr>\n",
              "      <th>1</th>\n",
              "      <td>NEW: In midst of controversies, Obama pushes Congress on student loans. Obama administration faces congressional probes of IRS, Benghazi, AP. Republicans say the issues reflect government gone wild. Democrats contend GOP foes politicize the process</td>\n",
              "      <td>NEW: Obama pushes Congress to extend student loan rates that are set to double on July 1. The White House is trying to shift the focus from the controversies that Republicans seek to emphasize. The GOP narrative depicts a government gone wild, with party leaders and strategists accusing the Obama administration of routinely abusing its powers.</td>\n",
              "    </tr>\n",
              "    <tr>\n",
              "      <th>2</th>\n",
              "      <td>NEW: It's unclear how much of a role Russia played, U.S. intelligence says. The European Union agrees on a plan for new sanctions to include Russia. Ukraine opens criminal cases against Russian defense minister and businessman. Dutch official: At least 200 bodies were on the train; more could be at crash site</td>\n",
              "      <td>NEW: A top Ukrainian official says he has no doubt that a Russian fired the missile. NEW: The person who shot down the flight was absolutely a Russian, the official says. Dutch PM: Identifying bodies could take months. A train carrying the remains of crash victims arrives in Kharkiv, Ukraine.</td>\n",
              "    </tr>\n",
              "    <tr>\n",
              "      <th>3</th>\n",
              "      <td>NEW: Disaster management agency says 2,487 people have been injured. 1,774 people are confirmed dead from Haiyan. Another 14 dead in Vietnam and five in China, those governments say. International relief heads for stricken islands, but roads a problem</td>\n",
              "      <td>NEW: A new tropical depression dumps heavy rain on the area. The government's confirmed death toll was 1,774 early Tuesday. The storm has injured 2,487 more, and displaced 660,000 people from their homes.</td>\n",
              "    </tr>\n",
              "    <tr>\n",
              "      <th>4</th>\n",
              "      <td>Shinseki rescinds 2013 bonus for Phoenix VA director. President Obama defends VA Secretary Shinseki, promises accountability. The number of VA facilities under investigation has expanded to 26. NEW: House panel wants three VA officials to appear at a meeting on Thursday</td>\n",
              "      <td>NEW: Shinseki rescinds $8,495 bonus awarded to Phoenix VA Director Sharon Helman. President Obama says he needs more time to review what's going on at the VA. The number of VA facilities under investigation has expanded to 26, the agency says. CNN first reported the problem last November in a detailed investigation.</td>\n",
              "    </tr>\n",
              "  </tbody>\n",
              "</table>\n",
              "</div>\n",
              "    <div class=\"colab-df-buttons\">\n",
              "\n",
              "  <div class=\"colab-df-container\">\n",
              "    <button class=\"colab-df-convert\" onclick=\"convertToInteractive('df-756afd14-b385-4f8d-bf4d-17b09ef1dfab')\"\n",
              "            title=\"Convert this dataframe to an interactive table.\"\n",
              "            style=\"display:none;\">\n",
              "\n",
              "  <svg xmlns=\"http://www.w3.org/2000/svg\" height=\"24px\" viewBox=\"0 -960 960 960\">\n",
              "    <path d=\"M120-120v-720h720v720H120Zm60-500h600v-160H180v160Zm220 220h160v-160H400v160Zm0 220h160v-160H400v160ZM180-400h160v-160H180v160Zm440 0h160v-160H620v160ZM180-180h160v-160H180v160Zm440 0h160v-160H620v160Z\"/>\n",
              "  </svg>\n",
              "    </button>\n",
              "\n",
              "  <style>\n",
              "    .colab-df-container {\n",
              "      display:flex;\n",
              "      gap: 12px;\n",
              "    }\n",
              "\n",
              "    .colab-df-convert {\n",
              "      background-color: #E8F0FE;\n",
              "      border: none;\n",
              "      border-radius: 50%;\n",
              "      cursor: pointer;\n",
              "      display: none;\n",
              "      fill: #1967D2;\n",
              "      height: 32px;\n",
              "      padding: 0 0 0 0;\n",
              "      width: 32px;\n",
              "    }\n",
              "\n",
              "    .colab-df-convert:hover {\n",
              "      background-color: #E2EBFA;\n",
              "      box-shadow: 0px 1px 2px rgba(60, 64, 67, 0.3), 0px 1px 3px 1px rgba(60, 64, 67, 0.15);\n",
              "      fill: #174EA6;\n",
              "    }\n",
              "\n",
              "    .colab-df-buttons div {\n",
              "      margin-bottom: 4px;\n",
              "    }\n",
              "\n",
              "    [theme=dark] .colab-df-convert {\n",
              "      background-color: #3B4455;\n",
              "      fill: #D2E3FC;\n",
              "    }\n",
              "\n",
              "    [theme=dark] .colab-df-convert:hover {\n",
              "      background-color: #434B5C;\n",
              "      box-shadow: 0px 1px 3px 1px rgba(0, 0, 0, 0.15);\n",
              "      filter: drop-shadow(0px 1px 2px rgba(0, 0, 0, 0.3));\n",
              "      fill: #FFFFFF;\n",
              "    }\n",
              "  </style>\n",
              "\n",
              "    <script>\n",
              "      const buttonEl =\n",
              "        document.querySelector('#df-756afd14-b385-4f8d-bf4d-17b09ef1dfab button.colab-df-convert');\n",
              "      buttonEl.style.display =\n",
              "        google.colab.kernel.accessAllowed ? 'block' : 'none';\n",
              "\n",
              "      async function convertToInteractive(key) {\n",
              "        const element = document.querySelector('#df-756afd14-b385-4f8d-bf4d-17b09ef1dfab');\n",
              "        const dataTable =\n",
              "          await google.colab.kernel.invokeFunction('convertToInteractive',\n",
              "                                                    [key], {});\n",
              "        if (!dataTable) return;\n",
              "\n",
              "        const docLinkHtml = 'Like what you see? Visit the ' +\n",
              "          '<a target=\"_blank\" href=https://colab.research.google.com/notebooks/data_table.ipynb>data table notebook</a>'\n",
              "          + ' to learn more about interactive tables.';\n",
              "        element.innerHTML = '';\n",
              "        dataTable['output_type'] = 'display_data';\n",
              "        await google.colab.output.renderOutput(dataTable, element);\n",
              "        const docLink = document.createElement('div');\n",
              "        docLink.innerHTML = docLinkHtml;\n",
              "        element.appendChild(docLink);\n",
              "      }\n",
              "    </script>\n",
              "  </div>\n",
              "\n",
              "\n",
              "<div id=\"df-f5c7d1eb-d350-45fa-99e4-3ea164112802\">\n",
              "  <button class=\"colab-df-quickchart\" onclick=\"quickchart('df-f5c7d1eb-d350-45fa-99e4-3ea164112802')\"\n",
              "            title=\"Suggest charts\"\n",
              "            style=\"display:none;\">\n",
              "\n",
              "<svg xmlns=\"http://www.w3.org/2000/svg\" height=\"24px\"viewBox=\"0 0 24 24\"\n",
              "     width=\"24px\">\n",
              "    <g>\n",
              "        <path d=\"M19 3H5c-1.1 0-2 .9-2 2v14c0 1.1.9 2 2 2h14c1.1 0 2-.9 2-2V5c0-1.1-.9-2-2-2zM9 17H7v-7h2v7zm4 0h-2V7h2v10zm4 0h-2v-4h2v4z\"/>\n",
              "    </g>\n",
              "</svg>\n",
              "  </button>\n",
              "\n",
              "<style>\n",
              "  .colab-df-quickchart {\n",
              "      --bg-color: #E8F0FE;\n",
              "      --fill-color: #1967D2;\n",
              "      --hover-bg-color: #E2EBFA;\n",
              "      --hover-fill-color: #174EA6;\n",
              "      --disabled-fill-color: #AAA;\n",
              "      --disabled-bg-color: #DDD;\n",
              "  }\n",
              "\n",
              "  [theme=dark] .colab-df-quickchart {\n",
              "      --bg-color: #3B4455;\n",
              "      --fill-color: #D2E3FC;\n",
              "      --hover-bg-color: #434B5C;\n",
              "      --hover-fill-color: #FFFFFF;\n",
              "      --disabled-bg-color: #3B4455;\n",
              "      --disabled-fill-color: #666;\n",
              "  }\n",
              "\n",
              "  .colab-df-quickchart {\n",
              "    background-color: var(--bg-color);\n",
              "    border: none;\n",
              "    border-radius: 50%;\n",
              "    cursor: pointer;\n",
              "    display: none;\n",
              "    fill: var(--fill-color);\n",
              "    height: 32px;\n",
              "    padding: 0;\n",
              "    width: 32px;\n",
              "  }\n",
              "\n",
              "  .colab-df-quickchart:hover {\n",
              "    background-color: var(--hover-bg-color);\n",
              "    box-shadow: 0 1px 2px rgba(60, 64, 67, 0.3), 0 1px 3px 1px rgba(60, 64, 67, 0.15);\n",
              "    fill: var(--button-hover-fill-color);\n",
              "  }\n",
              "\n",
              "  .colab-df-quickchart-complete:disabled,\n",
              "  .colab-df-quickchart-complete:disabled:hover {\n",
              "    background-color: var(--disabled-bg-color);\n",
              "    fill: var(--disabled-fill-color);\n",
              "    box-shadow: none;\n",
              "  }\n",
              "\n",
              "  .colab-df-spinner {\n",
              "    border: 2px solid var(--fill-color);\n",
              "    border-color: transparent;\n",
              "    border-bottom-color: var(--fill-color);\n",
              "    animation:\n",
              "      spin 1s steps(1) infinite;\n",
              "  }\n",
              "\n",
              "  @keyframes spin {\n",
              "    0% {\n",
              "      border-color: transparent;\n",
              "      border-bottom-color: var(--fill-color);\n",
              "      border-left-color: var(--fill-color);\n",
              "    }\n",
              "    20% {\n",
              "      border-color: transparent;\n",
              "      border-left-color: var(--fill-color);\n",
              "      border-top-color: var(--fill-color);\n",
              "    }\n",
              "    30% {\n",
              "      border-color: transparent;\n",
              "      border-left-color: var(--fill-color);\n",
              "      border-top-color: var(--fill-color);\n",
              "      border-right-color: var(--fill-color);\n",
              "    }\n",
              "    40% {\n",
              "      border-color: transparent;\n",
              "      border-right-color: var(--fill-color);\n",
              "      border-top-color: var(--fill-color);\n",
              "    }\n",
              "    60% {\n",
              "      border-color: transparent;\n",
              "      border-right-color: var(--fill-color);\n",
              "    }\n",
              "    80% {\n",
              "      border-color: transparent;\n",
              "      border-right-color: var(--fill-color);\n",
              "      border-bottom-color: var(--fill-color);\n",
              "    }\n",
              "    90% {\n",
              "      border-color: transparent;\n",
              "      border-bottom-color: var(--fill-color);\n",
              "    }\n",
              "  }\n",
              "</style>\n",
              "\n",
              "  <script>\n",
              "    async function quickchart(key) {\n",
              "      const quickchartButtonEl =\n",
              "        document.querySelector('#' + key + ' button');\n",
              "      quickchartButtonEl.disabled = true;  // To prevent multiple clicks.\n",
              "      quickchartButtonEl.classList.add('colab-df-spinner');\n",
              "      try {\n",
              "        const charts = await google.colab.kernel.invokeFunction(\n",
              "            'suggestCharts', [key], {});\n",
              "      } catch (error) {\n",
              "        console.error('Error during call to suggestCharts:', error);\n",
              "      }\n",
              "      quickchartButtonEl.classList.remove('colab-df-spinner');\n",
              "      quickchartButtonEl.classList.add('colab-df-quickchart-complete');\n",
              "    }\n",
              "    (() => {\n",
              "      let quickchartButtonEl =\n",
              "        document.querySelector('#df-f5c7d1eb-d350-45fa-99e4-3ea164112802 button');\n",
              "      quickchartButtonEl.style.display =\n",
              "        google.colab.kernel.accessAllowed ? 'block' : 'none';\n",
              "    })();\n",
              "  </script>\n",
              "</div>\n",
              "\n",
              "    </div>\n",
              "  </div>\n"
            ],
            "application/vnd.google.colaboratory.intrinsic+json": {
              "type": "dataframe",
              "variable_name": "Summaries",
              "summary": "{\n  \"name\": \"Summaries\",\n  \"rows\": 12,\n  \"fields\": [\n    {\n      \"column\": \"OldSummary\",\n      \"properties\": {\n        \"dtype\": \"string\",\n        \"num_unique_values\": 12,\n        \"samples\": [\n          \"Billion-dollar online dating industry has been booming despite recession. Sites include Prescription 4 Love and STD-specific site Positivesingles.com. People with mental health problems also benefited from specialized sites\",\n          \"After spending much of the last year dodging 2016 talk, Marco Rubio re-emerges. Rubio follows up high-profile events with swing through Sunday talks shows. Florida senator takes shots at President Obama, potential 2016 candidates\",\n          \"Kim Jong Il took over when his father died of a heart attack in 1994. He will be remembered as one of the world's most repressive leaders. Kim was well regarded within North Korea. He played a poor hand of cards skillfully, analysts say\"\n        ],\n        \"semantic_type\": \"\",\n        \"description\": \"\"\n      }\n    },\n    {\n      \"column\": \"BartSummary\",\n      \"properties\": {\n        \"dtype\": \"string\",\n        \"num_unique_values\": 12,\n        \"samples\": [\n          \"A new breed of dating sites has emerged to play cupid for people with chronic diseases. Sites such as Prescription4love.com, Nolongerlonely.com and Cisforcupid.com serve the needs of people with conditions. These sites defuse the tension over how and when to disclose an illness\",\n          \"Marco Rubio made a good first impression with New Hampshire Republicans on Friday. Rubio's numbers in 2016 polls quickly faded, and have remained in the single digits. Rubio recently decided to focus the resources of his Reclaim America PAC on three big Senate races this year.\",\n          \"Kim Jong Il was the first-born son of an iron-fisted dictator. His father, Kim Il Sung, founded North Korea with Soviet backing after World War II. Kim Jong Il's younger brother drowned as a child and his mother died when he was 7 years old.\"\n        ],\n        \"semantic_type\": \"\",\n        \"description\": \"\"\n      }\n    }\n  ]\n}"
            }
          },
          "metadata": {},
          "execution_count": 104
        }
      ]
    },
    {
      "cell_type": "markdown",
      "source": [
        "#ROUGE Score"
      ],
      "metadata": {
        "id": "b5fPyypmmJmH"
      }
    },
    {
      "cell_type": "code",
      "source": [
        "rouge = Rouge()\n",
        "score = rouge.get_scores(Summaries['BartSummary'], Summaries['OldSummary'], avg=True)\n",
        "BartRouge = pd.DataFrame(score).set_index([['recall','precision','f-measure']])\n",
        "BartRouge"
      ],
      "metadata": {
        "colab": {
          "base_uri": "https://localhost:8080/",
          "height": 143
        },
        "id": "js1gXURegkt2",
        "outputId": "8bf47793-9025-4e5a-8738-afe9f8ba3c69"
      },
      "execution_count": null,
      "outputs": [
        {
          "output_type": "execute_result",
          "data": {
            "text/plain": [
              "            rouge-1   rouge-2   rouge-l\n",
              "recall     0.292441  0.078604  0.272207\n",
              "precision  0.281168  0.073370  0.262821\n",
              "f-measure  0.283620  0.074568  0.264585"
            ],
            "text/html": [
              "\n",
              "  <div id=\"df-899f76d1-db8b-41cd-a170-021248b80101\" class=\"colab-df-container\">\n",
              "    <div>\n",
              "<style scoped>\n",
              "    .dataframe tbody tr th:only-of-type {\n",
              "        vertical-align: middle;\n",
              "    }\n",
              "\n",
              "    .dataframe tbody tr th {\n",
              "        vertical-align: top;\n",
              "    }\n",
              "\n",
              "    .dataframe thead th {\n",
              "        text-align: right;\n",
              "    }\n",
              "</style>\n",
              "<table border=\"1\" class=\"dataframe\">\n",
              "  <thead>\n",
              "    <tr style=\"text-align: right;\">\n",
              "      <th></th>\n",
              "      <th>rouge-1</th>\n",
              "      <th>rouge-2</th>\n",
              "      <th>rouge-l</th>\n",
              "    </tr>\n",
              "  </thead>\n",
              "  <tbody>\n",
              "    <tr>\n",
              "      <th>recall</th>\n",
              "      <td>0.292441</td>\n",
              "      <td>0.078604</td>\n",
              "      <td>0.272207</td>\n",
              "    </tr>\n",
              "    <tr>\n",
              "      <th>precision</th>\n",
              "      <td>0.281168</td>\n",
              "      <td>0.073370</td>\n",
              "      <td>0.262821</td>\n",
              "    </tr>\n",
              "    <tr>\n",
              "      <th>f-measure</th>\n",
              "      <td>0.283620</td>\n",
              "      <td>0.074568</td>\n",
              "      <td>0.264585</td>\n",
              "    </tr>\n",
              "  </tbody>\n",
              "</table>\n",
              "</div>\n",
              "    <div class=\"colab-df-buttons\">\n",
              "\n",
              "  <div class=\"colab-df-container\">\n",
              "    <button class=\"colab-df-convert\" onclick=\"convertToInteractive('df-899f76d1-db8b-41cd-a170-021248b80101')\"\n",
              "            title=\"Convert this dataframe to an interactive table.\"\n",
              "            style=\"display:none;\">\n",
              "\n",
              "  <svg xmlns=\"http://www.w3.org/2000/svg\" height=\"24px\" viewBox=\"0 -960 960 960\">\n",
              "    <path d=\"M120-120v-720h720v720H120Zm60-500h600v-160H180v160Zm220 220h160v-160H400v160Zm0 220h160v-160H400v160ZM180-400h160v-160H180v160Zm440 0h160v-160H620v160ZM180-180h160v-160H180v160Zm440 0h160v-160H620v160Z\"/>\n",
              "  </svg>\n",
              "    </button>\n",
              "\n",
              "  <style>\n",
              "    .colab-df-container {\n",
              "      display:flex;\n",
              "      gap: 12px;\n",
              "    }\n",
              "\n",
              "    .colab-df-convert {\n",
              "      background-color: #E8F0FE;\n",
              "      border: none;\n",
              "      border-radius: 50%;\n",
              "      cursor: pointer;\n",
              "      display: none;\n",
              "      fill: #1967D2;\n",
              "      height: 32px;\n",
              "      padding: 0 0 0 0;\n",
              "      width: 32px;\n",
              "    }\n",
              "\n",
              "    .colab-df-convert:hover {\n",
              "      background-color: #E2EBFA;\n",
              "      box-shadow: 0px 1px 2px rgba(60, 64, 67, 0.3), 0px 1px 3px 1px rgba(60, 64, 67, 0.15);\n",
              "      fill: #174EA6;\n",
              "    }\n",
              "\n",
              "    .colab-df-buttons div {\n",
              "      margin-bottom: 4px;\n",
              "    }\n",
              "\n",
              "    [theme=dark] .colab-df-convert {\n",
              "      background-color: #3B4455;\n",
              "      fill: #D2E3FC;\n",
              "    }\n",
              "\n",
              "    [theme=dark] .colab-df-convert:hover {\n",
              "      background-color: #434B5C;\n",
              "      box-shadow: 0px 1px 3px 1px rgba(0, 0, 0, 0.15);\n",
              "      filter: drop-shadow(0px 1px 2px rgba(0, 0, 0, 0.3));\n",
              "      fill: #FFFFFF;\n",
              "    }\n",
              "  </style>\n",
              "\n",
              "    <script>\n",
              "      const buttonEl =\n",
              "        document.querySelector('#df-899f76d1-db8b-41cd-a170-021248b80101 button.colab-df-convert');\n",
              "      buttonEl.style.display =\n",
              "        google.colab.kernel.accessAllowed ? 'block' : 'none';\n",
              "\n",
              "      async function convertToInteractive(key) {\n",
              "        const element = document.querySelector('#df-899f76d1-db8b-41cd-a170-021248b80101');\n",
              "        const dataTable =\n",
              "          await google.colab.kernel.invokeFunction('convertToInteractive',\n",
              "                                                    [key], {});\n",
              "        if (!dataTable) return;\n",
              "\n",
              "        const docLinkHtml = 'Like what you see? Visit the ' +\n",
              "          '<a target=\"_blank\" href=https://colab.research.google.com/notebooks/data_table.ipynb>data table notebook</a>'\n",
              "          + ' to learn more about interactive tables.';\n",
              "        element.innerHTML = '';\n",
              "        dataTable['output_type'] = 'display_data';\n",
              "        await google.colab.output.renderOutput(dataTable, element);\n",
              "        const docLink = document.createElement('div');\n",
              "        docLink.innerHTML = docLinkHtml;\n",
              "        element.appendChild(docLink);\n",
              "      }\n",
              "    </script>\n",
              "  </div>\n",
              "\n",
              "\n",
              "<div id=\"df-7aeda1b6-12ad-4757-a1d1-d2672a27c966\">\n",
              "  <button class=\"colab-df-quickchart\" onclick=\"quickchart('df-7aeda1b6-12ad-4757-a1d1-d2672a27c966')\"\n",
              "            title=\"Suggest charts\"\n",
              "            style=\"display:none;\">\n",
              "\n",
              "<svg xmlns=\"http://www.w3.org/2000/svg\" height=\"24px\"viewBox=\"0 0 24 24\"\n",
              "     width=\"24px\">\n",
              "    <g>\n",
              "        <path d=\"M19 3H5c-1.1 0-2 .9-2 2v14c0 1.1.9 2 2 2h14c1.1 0 2-.9 2-2V5c0-1.1-.9-2-2-2zM9 17H7v-7h2v7zm4 0h-2V7h2v10zm4 0h-2v-4h2v4z\"/>\n",
              "    </g>\n",
              "</svg>\n",
              "  </button>\n",
              "\n",
              "<style>\n",
              "  .colab-df-quickchart {\n",
              "      --bg-color: #E8F0FE;\n",
              "      --fill-color: #1967D2;\n",
              "      --hover-bg-color: #E2EBFA;\n",
              "      --hover-fill-color: #174EA6;\n",
              "      --disabled-fill-color: #AAA;\n",
              "      --disabled-bg-color: #DDD;\n",
              "  }\n",
              "\n",
              "  [theme=dark] .colab-df-quickchart {\n",
              "      --bg-color: #3B4455;\n",
              "      --fill-color: #D2E3FC;\n",
              "      --hover-bg-color: #434B5C;\n",
              "      --hover-fill-color: #FFFFFF;\n",
              "      --disabled-bg-color: #3B4455;\n",
              "      --disabled-fill-color: #666;\n",
              "  }\n",
              "\n",
              "  .colab-df-quickchart {\n",
              "    background-color: var(--bg-color);\n",
              "    border: none;\n",
              "    border-radius: 50%;\n",
              "    cursor: pointer;\n",
              "    display: none;\n",
              "    fill: var(--fill-color);\n",
              "    height: 32px;\n",
              "    padding: 0;\n",
              "    width: 32px;\n",
              "  }\n",
              "\n",
              "  .colab-df-quickchart:hover {\n",
              "    background-color: var(--hover-bg-color);\n",
              "    box-shadow: 0 1px 2px rgba(60, 64, 67, 0.3), 0 1px 3px 1px rgba(60, 64, 67, 0.15);\n",
              "    fill: var(--button-hover-fill-color);\n",
              "  }\n",
              "\n",
              "  .colab-df-quickchart-complete:disabled,\n",
              "  .colab-df-quickchart-complete:disabled:hover {\n",
              "    background-color: var(--disabled-bg-color);\n",
              "    fill: var(--disabled-fill-color);\n",
              "    box-shadow: none;\n",
              "  }\n",
              "\n",
              "  .colab-df-spinner {\n",
              "    border: 2px solid var(--fill-color);\n",
              "    border-color: transparent;\n",
              "    border-bottom-color: var(--fill-color);\n",
              "    animation:\n",
              "      spin 1s steps(1) infinite;\n",
              "  }\n",
              "\n",
              "  @keyframes spin {\n",
              "    0% {\n",
              "      border-color: transparent;\n",
              "      border-bottom-color: var(--fill-color);\n",
              "      border-left-color: var(--fill-color);\n",
              "    }\n",
              "    20% {\n",
              "      border-color: transparent;\n",
              "      border-left-color: var(--fill-color);\n",
              "      border-top-color: var(--fill-color);\n",
              "    }\n",
              "    30% {\n",
              "      border-color: transparent;\n",
              "      border-left-color: var(--fill-color);\n",
              "      border-top-color: var(--fill-color);\n",
              "      border-right-color: var(--fill-color);\n",
              "    }\n",
              "    40% {\n",
              "      border-color: transparent;\n",
              "      border-right-color: var(--fill-color);\n",
              "      border-top-color: var(--fill-color);\n",
              "    }\n",
              "    60% {\n",
              "      border-color: transparent;\n",
              "      border-right-color: var(--fill-color);\n",
              "    }\n",
              "    80% {\n",
              "      border-color: transparent;\n",
              "      border-right-color: var(--fill-color);\n",
              "      border-bottom-color: var(--fill-color);\n",
              "    }\n",
              "    90% {\n",
              "      border-color: transparent;\n",
              "      border-bottom-color: var(--fill-color);\n",
              "    }\n",
              "  }\n",
              "</style>\n",
              "\n",
              "  <script>\n",
              "    async function quickchart(key) {\n",
              "      const quickchartButtonEl =\n",
              "        document.querySelector('#' + key + ' button');\n",
              "      quickchartButtonEl.disabled = true;  // To prevent multiple clicks.\n",
              "      quickchartButtonEl.classList.add('colab-df-spinner');\n",
              "      try {\n",
              "        const charts = await google.colab.kernel.invokeFunction(\n",
              "            'suggestCharts', [key], {});\n",
              "      } catch (error) {\n",
              "        console.error('Error during call to suggestCharts:', error);\n",
              "      }\n",
              "      quickchartButtonEl.classList.remove('colab-df-spinner');\n",
              "      quickchartButtonEl.classList.add('colab-df-quickchart-complete');\n",
              "    }\n",
              "    (() => {\n",
              "      let quickchartButtonEl =\n",
              "        document.querySelector('#df-7aeda1b6-12ad-4757-a1d1-d2672a27c966 button');\n",
              "      quickchartButtonEl.style.display =\n",
              "        google.colab.kernel.accessAllowed ? 'block' : 'none';\n",
              "    })();\n",
              "  </script>\n",
              "</div>\n",
              "\n",
              "  <div id=\"id_56e33339-9dfa-4b6c-b71e-f0d7b911297a\">\n",
              "    <style>\n",
              "      .colab-df-generate {\n",
              "        background-color: #E8F0FE;\n",
              "        border: none;\n",
              "        border-radius: 50%;\n",
              "        cursor: pointer;\n",
              "        display: none;\n",
              "        fill: #1967D2;\n",
              "        height: 32px;\n",
              "        padding: 0 0 0 0;\n",
              "        width: 32px;\n",
              "      }\n",
              "\n",
              "      .colab-df-generate:hover {\n",
              "        background-color: #E2EBFA;\n",
              "        box-shadow: 0px 1px 2px rgba(60, 64, 67, 0.3), 0px 1px 3px 1px rgba(60, 64, 67, 0.15);\n",
              "        fill: #174EA6;\n",
              "      }\n",
              "\n",
              "      [theme=dark] .colab-df-generate {\n",
              "        background-color: #3B4455;\n",
              "        fill: #D2E3FC;\n",
              "      }\n",
              "\n",
              "      [theme=dark] .colab-df-generate:hover {\n",
              "        background-color: #434B5C;\n",
              "        box-shadow: 0px 1px 3px 1px rgba(0, 0, 0, 0.15);\n",
              "        filter: drop-shadow(0px 1px 2px rgba(0, 0, 0, 0.3));\n",
              "        fill: #FFFFFF;\n",
              "      }\n",
              "    </style>\n",
              "    <button class=\"colab-df-generate\" onclick=\"generateWithVariable('BartRouge')\"\n",
              "            title=\"Generate code using this dataframe.\"\n",
              "            style=\"display:none;\">\n",
              "\n",
              "  <svg xmlns=\"http://www.w3.org/2000/svg\" height=\"24px\"viewBox=\"0 0 24 24\"\n",
              "       width=\"24px\">\n",
              "    <path d=\"M7,19H8.4L18.45,9,17,7.55,7,17.6ZM5,21V16.75L18.45,3.32a2,2,0,0,1,2.83,0l1.4,1.43a1.91,1.91,0,0,1,.58,1.4,1.91,1.91,0,0,1-.58,1.4L9.25,21ZM18.45,9,17,7.55Zm-12,3A5.31,5.31,0,0,0,4.9,8.1,5.31,5.31,0,0,0,1,6.5,5.31,5.31,0,0,0,4.9,4.9,5.31,5.31,0,0,0,6.5,1,5.31,5.31,0,0,0,8.1,4.9,5.31,5.31,0,0,0,12,6.5,5.46,5.46,0,0,0,6.5,12Z\"/>\n",
              "  </svg>\n",
              "    </button>\n",
              "    <script>\n",
              "      (() => {\n",
              "      const buttonEl =\n",
              "        document.querySelector('#id_56e33339-9dfa-4b6c-b71e-f0d7b911297a button.colab-df-generate');\n",
              "      buttonEl.style.display =\n",
              "        google.colab.kernel.accessAllowed ? 'block' : 'none';\n",
              "\n",
              "      buttonEl.onclick = () => {\n",
              "        google.colab.notebook.generateWithVariable('BartRouge');\n",
              "      }\n",
              "      })();\n",
              "    </script>\n",
              "  </div>\n",
              "\n",
              "    </div>\n",
              "  </div>\n"
            ],
            "application/vnd.google.colaboratory.intrinsic+json": {
              "type": "dataframe",
              "variable_name": "BartRouge",
              "summary": "{\n  \"name\": \"BartRouge\",\n  \"rows\": 3,\n  \"fields\": [\n    {\n      \"column\": \"rouge-1\",\n      \"properties\": {\n        \"dtype\": \"number\",\n        \"std\": 0.005928840417950727,\n        \"min\": 0.28116800332304687,\n        \"max\": 0.2924409696104018,\n        \"num_unique_values\": 3,\n        \"samples\": [\n          0.2924409696104018,\n          0.28116800332304687,\n          0.28361958153600847\n        ],\n        \"semantic_type\": \"\",\n        \"description\": \"\"\n      }\n    },\n    {\n      \"column\": \"rouge-2\",\n      \"properties\": {\n        \"dtype\": \"number\",\n        \"std\": 0.0027419421416803326,\n        \"min\": 0.07337021801469788,\n        \"max\": 0.07860357129983227,\n        \"num_unique_values\": 3,\n        \"samples\": [\n          0.07860357129983227,\n          0.07337021801469788,\n          0.07456782800284131\n        ],\n        \"semantic_type\": \"\",\n        \"description\": \"\"\n      }\n    },\n    {\n      \"column\": \"rouge-l\",\n      \"properties\": {\n        \"dtype\": \"number\",\n        \"std\": 0.0049885374473250185,\n        \"min\": 0.26282051445925364,\n        \"max\": 0.27220705781398996,\n        \"num_unique_values\": 3,\n        \"samples\": [\n          0.27220705781398996,\n          0.26282051445925364,\n          0.26458528473192117\n        ],\n        \"semantic_type\": \"\",\n        \"description\": \"\"\n      }\n    }\n  ]\n}"
            }
          },
          "metadata": {},
          "execution_count": 105
        }
      ]
    },
    {
      "cell_type": "code",
      "source": [
        "!pip install rouge_score\n",
        "from rouge_score import rouge_scorer"
      ],
      "metadata": {
        "colab": {
          "base_uri": "https://localhost:8080/"
        },
        "id": "kCc7pSBYgm6X",
        "outputId": "ee1a98ae-3f39-4d31-ffcb-0013fc2465de"
      },
      "execution_count": null,
      "outputs": [
        {
          "output_type": "stream",
          "name": "stdout",
          "text": [
            "Requirement already satisfied: rouge_score in /usr/local/lib/python3.10/dist-packages (0.1.2)\n",
            "Requirement already satisfied: absl-py in /usr/local/lib/python3.10/dist-packages (from rouge_score) (1.4.0)\n",
            "Requirement already satisfied: nltk in /usr/local/lib/python3.10/dist-packages (from rouge_score) (3.8.1)\n",
            "Requirement already satisfied: numpy in /usr/local/lib/python3.10/dist-packages (from rouge_score) (1.25.2)\n",
            "Requirement already satisfied: six>=1.14.0 in /usr/local/lib/python3.10/dist-packages (from rouge_score) (1.16.0)\n",
            "Requirement already satisfied: click in /usr/local/lib/python3.10/dist-packages (from nltk->rouge_score) (8.1.7)\n",
            "Requirement already satisfied: joblib in /usr/local/lib/python3.10/dist-packages (from nltk->rouge_score) (1.4.0)\n",
            "Requirement already satisfied: regex>=2021.8.3 in /usr/local/lib/python3.10/dist-packages (from nltk->rouge_score) (2023.12.25)\n",
            "Requirement already satisfied: tqdm in /usr/local/lib/python3.10/dist-packages (from nltk->rouge_score) (4.66.2)\n"
          ]
        }
      ]
    },
    {
      "cell_type": "code",
      "source": [
        "def rouge_score(ground_truth, predicted, rouge_scores, score_type=['rougeL']):\n",
        "    scorer = rouge_scorer.RougeScorer(score_type, use_stemmer=True)\n",
        "    for i in range(len(ground_truth)):\n",
        "        scores = scorer.score(ground_truth.iloc[i], predicted.iloc[i])\n",
        "        rouge_scores.iloc[i] = scores['rougeL'].fmeasure\n",
        "    return rouge_scores.min(), rouge_scores.max(), rouge_scores.mean(), rouge_scores.median()"
      ],
      "metadata": {
        "id": "U_wvbJCvjVJo"
      },
      "execution_count": null,
      "outputs": []
    },
    {
      "cell_type": "code",
      "source": [
        "Summaries['rouge_score'] = ''\n",
        "rouge_min, rouge_max, rouge_mean, rouge_median = rouge_score(Summaries['OldSummary'], Summaries['BartSummary'], Summaries['rouge_score'])"
      ],
      "metadata": {
        "id": "sDcFrSc0jVH6"
      },
      "execution_count": null,
      "outputs": []
    },
    {
      "cell_type": "code",
      "source": [
        "print(\"Rouge score:\")\n",
        "print(\"Minimum: \", rouge_min)\n",
        "print(\"Maximum: \", rouge_max)\n",
        "print(\"Mean: \", rouge_mean)\n",
        "print(\"Median: \", rouge_median)"
      ],
      "metadata": {
        "colab": {
          "base_uri": "https://localhost:8080/"
        },
        "id": "eAmSp19zjVFZ",
        "outputId": "7af6138c-805f-4ccb-c019-64a51acac797"
      },
      "execution_count": null,
      "outputs": [
        {
          "output_type": "stream",
          "name": "stdout",
          "text": [
            "Rouge score:\n",
            "Minimum:  0.08695652173913045\n",
            "Maximum:  0.4421052631578948\n",
            "Mean:  0.21524559402739016\n",
            "Median:  0.200670297444491\n"
          ]
        }
      ]
    },
    {
      "cell_type": "markdown",
      "source": [
        "#Nested Summarization with Heading Hierarchy\n",
        "This is achieved by combining sentence clustering, summarization and topic modeling.\n",
        "Topic modeling is done on the entire document to get the 'aboutness' of the document. This is set as the level 1 heading (H1). The sentences in the given document are then clustered to get paragraphs of sentences representing similar topics. Summarization and topic modeling is done on each of these paragraphs to get summarized text for each of level 2 headings (H2)."
      ],
      "metadata": {
        "id": "Wi1FBJ6EmUmD"
      }
    },
    {
      "cell_type": "code",
      "source": [
        "document"
      ],
      "metadata": {
        "colab": {
          "base_uri": "https://localhost:8080/",
          "height": 250
        },
        "id": "HFKiueZ7l4sq",
        "outputId": "c974e0cd-670d-4c31-d285-6ec7ca073356"
      },
      "execution_count": null,
      "outputs": [
        {
          "output_type": "execute_result",
          "data": {
            "text/plain": [
              "'Health was earlier said to be the ability of the body functioning well. However, as time evolved, the definition of health also evolved. It cannot be stressed enough that health is the primary thing after which everything else follows. When you maintain good health, everything else falls into place.Similarly, maintaining good health is dependent on a lot of factors. It ranges from the air you breathe to the type of people you choose to spend your time with. Health has a lot of components that carry equal importance. If even one of them is missing, a person cannot be completely healthy. First, we have our physical health. This means being fit physically and in the absence of any kind of disease or illness. When you have good physical health, you will have a longer life span. One may maintain their physical health by having a balanced diet. Do not miss out on the essential nutrients; take each of them in appropriate quantities. Junk foods taste good that is why it is mostly liked by everyone of any age group especially kids and school going children. They generally ask for the junk food daily because they have been trend so by their parents from the childhood. They never have been discussed by their parents about the harmful effects of junk foods over health. According to the research by scientists, it has been found that junk foods have negative effects on the health in many ways. They are generally fried food found in the market in the packets. They become high in calories, high in cholesterol, low in healthy nutrients, high in sodium mineral, high in sugar, starch, unhealthy fat, lack of protein and lack of dietary fibers. Processed and junk foods are the means of rapid and unhealthy weight gain and negatively impact the whole body throughout the life. It makes able a person to gain excessive weight which is called as obesity. Junk foods tastes good and looks good however do not fulfil the healthy calorie requirement of the body. Some of the foods like french fries, fried foods, pizza, burgers, candy, soft drinks, baked goods, ice cream, cookies, etc are the example of high-sugar and high-fat containing foods. It is found according to the Centres for Disease Control and Prevention that Kids and children eating junk food are more prone to the type-2 diabetes.'"
            ],
            "application/vnd.google.colaboratory.intrinsic+json": {
              "type": "string"
            }
          },
          "metadata": {},
          "execution_count": 110
        }
      ]
    },
    {
      "cell_type": "code",
      "source": [
        "import re\n",
        "def get_first_topic(topics):\n",
        "    indexes = [m.start() for m in re.finditer('\\\"', topics[0][1])]\n",
        "    extracted_topics = []\n",
        "    for i in range(0,len(indexes)-1,2):\n",
        "        extracted_topics.append(topics[0][1][indexes[i]+1:indexes[i+1]])\n",
        "    return extracted_topics"
      ],
      "metadata": {
        "id": "4jTIEYTbl9E4"
      },
      "execution_count": null,
      "outputs": []
    },
    {
      "cell_type": "code",
      "source": [
        "topics = topic_for_para(document, 1, 3)\n",
        "topics"
      ],
      "metadata": {
        "colab": {
          "base_uri": "https://localhost:8080/"
        },
        "id": "DA1BtK0Gl_5W",
        "outputId": "7e84418d-6e3d-48f6-9d1b-f54db2cd8785"
      },
      "execution_count": null,
      "outputs": [
        {
          "output_type": "execute_result",
          "data": {
            "text/plain": [
              "[(0, '0.031*\"health\" + 0.024*\"foods\" + 0.021*\"junk\"')]"
            ]
          },
          "metadata": {},
          "execution_count": 112
        }
      ]
    },
    {
      "cell_type": "code",
      "source": [],
      "metadata": {
        "id": "zLGj1xBTmEFq"
      },
      "execution_count": null,
      "outputs": []
    },
    {
      "cell_type": "code",
      "source": [
        "h1_heading = get_first_topic(topics)\n",
        "h1_heading"
      ],
      "metadata": {
        "id": "khC9krR3jU8_",
        "colab": {
          "base_uri": "https://localhost:8080/"
        },
        "outputId": "126613ab-4505-40e4-f89b-7b2d7d3332ef"
      },
      "execution_count": null,
      "outputs": [
        {
          "output_type": "execute_result",
          "data": {
            "text/plain": [
              "['health', 'foods', 'junk']"
            ]
          },
          "metadata": {},
          "execution_count": 113
        }
      ]
    },
    {
      "cell_type": "code",
      "source": [
        "clustered_sentences"
      ],
      "metadata": {
        "colab": {
          "base_uri": "https://localhost:8080/"
        },
        "id": "flmxStMdmG_c",
        "outputId": "42a0da6e-175c-4ddd-a9ae-2f30bd9a4e5e"
      },
      "execution_count": null,
      "outputs": [
        {
          "output_type": "execute_result",
          "data": {
            "text/plain": [
              "[[' It cannot be stressed enough that health is the primary thing after which everything else follows',\n",
              "  ' When you maintain good health, everything else falls into place',\n",
              "  'Similarly, maintaining good health is dependent on a lot of factors',\n",
              "  ' Health has a lot of components that carry equal importance',\n",
              "  ' If even one of them is missing, a person cannot be completely healthy',\n",
              "  ' First, we have our physical health',\n",
              "  ' When you have good physical health, you will have a longer life span',\n",
              "  ' One may maintain their physical health by having a balanced diet',\n",
              "  ' It makes able a person to gain excessive weight which is called as obesity',\n",
              "  ' It cannot be stressed enough that health is the primary thing after which everything else follows',\n",
              "  ' When you maintain good health, everything else falls into place',\n",
              "  'Similarly, maintaining good health is dependent on a lot of factors',\n",
              "  ' Health has a lot of components that carry equal importance',\n",
              "  ' If even one of them is missing, a person cannot be completely healthy',\n",
              "  ' First, we have our physical health',\n",
              "  ' When you have good physical health, you will have a longer life span',\n",
              "  ' One may maintain their physical health by having a balanced diet',\n",
              "  ' It makes able a person to gain excessive weight which is called as obesity'],\n",
              " ['Health was earlier said to be the ability of the body functioning well',\n",
              "  ' However, as time evolved, the definition of health also evolved',\n",
              "  ' It ranges from the air you breathe to the type of people you choose to spend your time with',\n",
              "  ' This means being fit physically and in the absence of any kind of disease or illness',\n",
              "  ' Do not miss out on the essential nutrients; take each of them in appropriate quantities',\n",
              "  ' Junk foods taste good that is why it is mostly liked by everyone of any age group especially kids and school going children',\n",
              "  ' They generally ask for the junk food daily because they have been trend so by their parents from the childhood',\n",
              "  ' They never have been discussed by their parents about the harmful effects of junk foods over health',\n",
              "  ' According to the research by scientists, it has been found that junk foods have negative effects on the health in many ways',\n",
              "  ' They are generally fried food found in the market in the packets',\n",
              "  ' They become high in calories, high in cholesterol, low in healthy nutrients, high in sodium mineral, high in sugar, starch, unhealthy fat, lack of protein and lack of dietary fibers',\n",
              "  ' Processed and junk foods are the means of rapid and unhealthy weight gain and negatively impact the whole body throughout the life',\n",
              "  ' Junk foods tastes good and looks good however do not fulfil the healthy calorie requirement of the body',\n",
              "  ' Some of the foods like french fries, fried foods, pizza, burgers, candy, soft drinks, baked goods, ice cream, cookies, etc are the example of high-sugar and high-fat containing foods',\n",
              "  ' It is found according to the Centres for Disease Control and Prevention that Kids and children eating junk food are more prone to the type-2 diabetes',\n",
              "  'Health was earlier said to be the ability of the body functioning well',\n",
              "  ' However, as time evolved, the definition of health also evolved',\n",
              "  ' It ranges from the air you breathe to the type of people you choose to spend your time with',\n",
              "  ' This means being fit physically and in the absence of any kind of disease or illness',\n",
              "  ' Do not miss out on the essential nutrients; take each of them in appropriate quantities',\n",
              "  ' Junk foods taste good that is why it is mostly liked by everyone of any age group especially kids and school going children',\n",
              "  ' They generally ask for the junk food daily because they have been trend so by their parents from the childhood',\n",
              "  ' They never have been discussed by their parents about the harmful effects of junk foods over health',\n",
              "  ' According to the research by scientists, it has been found that junk foods have negative effects on the health in many ways',\n",
              "  ' They are generally fried food found in the market in the packets',\n",
              "  ' They become high in calories, high in cholesterol, low in healthy nutrients, high in sodium mineral, high in sugar, starch, unhealthy fat, lack of protein and lack of dietary fibers',\n",
              "  ' Processed and junk foods are the means of rapid and unhealthy weight gain and negatively impact the whole body throughout the life',\n",
              "  ' Junk foods tastes good and looks good however do not fulfil the healthy calorie requirement of the body',\n",
              "  ' Some of the foods like french fries, fried foods, pizza, burgers, candy, soft drinks, baked goods, ice cream, cookies, etc are the example of high-sugar and high-fat containing foods',\n",
              "  ' It is found according to the Centres for Disease Control and Prevention that Kids and children eating junk food are more prone to the type-2 diabetes']]"
            ]
          },
          "metadata": {},
          "execution_count": 114
        }
      ]
    },
    {
      "cell_type": "code",
      "source": [
        "paragraphs = [{'text': \". \".join(i)} for i in clustered_sentences]"
      ],
      "metadata": {
        "id": "jJj22QY2mI53"
      },
      "execution_count": null,
      "outputs": []
    },
    {
      "cell_type": "code",
      "source": [
        "pretrained_model_name = \"facebook/bart-large-cnn\"\n",
        "hf_arch, hf_config, hf_tokenizer, hf_model = get_hf_objects(pretrained_model_name,\n",
        "                                                                  model_cls=BartForConditionalGeneration)\n",
        "hf_arch, type(hf_config), type(hf_tokenizer), type(hf_model)"
      ],
      "metadata": {
        "colab": {
          "base_uri": "https://localhost:8080/"
        },
        "id": "XTGTS88WmNNC",
        "outputId": "28c07016-0912-43ba-bccc-7995f4d9bcbc"
      },
      "execution_count": null,
      "outputs": [
        {
          "output_type": "execute_result",
          "data": {
            "text/plain": [
              "('bart',\n",
              " transformers.models.bart.configuration_bart.BartConfig,\n",
              " transformers.models.bart.tokenization_bart_fast.BartTokenizerFast,\n",
              " transformers.models.bart.modeling_bart.BartForConditionalGeneration)"
            ]
          },
          "metadata": {},
          "execution_count": 116
        }
      ]
    },
    {
      "cell_type": "code",
      "source": [],
      "metadata": {
        "id": "VZWAla_ymRmG"
      },
      "execution_count": null,
      "outputs": []
    },
    {
      "cell_type": "code",
      "source": [
        "hf_batch_tfm = Seq2SeqBatchTokenizeTransform(hf_arch, hf_config, hf_tokenizer, hf_model,is_split_into_words=True, task='summarization',\n",
        "text_gen_kwargs={'max_length': 248,\n",
        " 'min_length': 56,\n",
        " 'do_sample': False,\n",
        " 'early_stopping': True,\n",
        " 'num_beams': 4,\n",
        " 'temperature': 1.0,\n",
        " 'top_k': 50,\n",
        " 'top_p': 1.0,\n",
        " 'repetition_penalty': 1.0,\n",
        " 'bad_words_ids': None,\n",
        " 'bos_token_id': 0,\n",
        " 'pad_token_id': 1,\n",
        " 'eos_token_id': 2,\n",
        " 'length_penalty': 2.0,\n",
        " 'no_repeat_ngram_size': 3,\n",
        " 'encoder_no_repeat_ngram_size': 0,\n",
        " 'num_return_sequences': 1,\n",
        " 'decoder_start_token_id': 2,\n",
        " 'use_cache': True,\n",
        " 'num_beam_groups': 1,\n",
        " 'diversity_penalty': 0.0,\n",
        " 'output_attentions': False,\n",
        " 'output_hidden_states': False,\n",
        " 'output_scores': False,\n",
        " 'return_dict_in_generate': False,\n",
        " 'forced_bos_token_id': 0,\n",
        " 'forced_eos_token_id': 2,\n",
        " 'remove_invalid_values': False})"
      ],
      "metadata": {
        "id": "BEKmJScrWnl3"
      },
      "execution_count": null,
      "outputs": []
    },
    {
      "cell_type": "code",
      "source": [
        "blocks = (Seq2SeqTextBlock(hf_arch, hf_config, hf_tokenizer, hf_model, task='summarization'), noop)\n",
        "\n",
        "dblock = DataBlock(blocks=blocks, get_x=ColReader('text'), get_y=ColReader('summary'), splitter=RandomSplitter())"
      ],
      "metadata": {
        "id": "QSrsOKoRWnjn"
      },
      "execution_count": null,
      "outputs": []
    },
    {
      "cell_type": "code",
      "source": [
        "seq2seq_metrics = {\n",
        "        'rouge': {\n",
        "            'compute_kwargs': { 'rouge_types': [\"rouge1\", \"rouge2\", \"rougeL\"], 'use_stemmer': True },\n",
        "            'returns': [\"rouge1\", \"rouge2\", \"rougeL\"]\n",
        "        },\n",
        "        'bertscore': {\n",
        "            'compute_kwargs': { 'lang': 'fr' },\n",
        "            'returns': [\"precision\", \"recall\", \"f1\"]\n",
        "        }\n",
        "    }"
      ],
      "metadata": {
        "id": "yYjmEGnwWngQ"
      },
      "execution_count": null,
      "outputs": []
    },
    {
      "cell_type": "code",
      "source": [
        "dls = dblock.dataloaders(train_df, bs=2)"
      ],
      "metadata": {
        "colab": {
          "base_uri": "https://localhost:8080/"
        },
        "id": "gXCFYvDmmcGX",
        "outputId": "6e46c54d-91a8-4fe1-af90-56732da5c0e4"
      },
      "execution_count": null,
      "outputs": [
        {
          "output_type": "stream",
          "name": "stderr",
          "text": [
            "/usr/local/lib/python3.10/dist-packages/transformers/tokenization_utils_base.py:3921: UserWarning:\n",
            "\n",
            "`as_target_tokenizer` is deprecated and will be removed in v5 of Transformers. You can tokenize your labels by using the argument `text_target` of the regular `__call__` method (either in the same call as your input texts if you use the same keyword arguments, or in a separate call.\n",
            "\n"
          ]
        }
      ]
    },
    {
      "cell_type": "code",
      "source": [
        "model = BaseModelWrapper(hf_model)\n",
        "learn_cbs = [BaseModelCallback]\n",
        "fit_cbs = [Seq2SeqMetricsCallback(custom_metrics=seq2seq_metrics)]\n",
        "\n",
        "learn = Learner(dls,\n",
        "                model,\n",
        "                opt_func=ranger,\n",
        "                loss_func=CrossEntropyLossFlat(),\n",
        "                cbs=learn_cbs,\n",
        "                splitter=partial(blurr_seq2seq_splitter, arch=hf_arch)).to_fp16()\n",
        "\n",
        "learn.create_opt()\n",
        "learn.freeze()"
      ],
      "metadata": {
        "id": "F81E1INOWnZn",
        "colab": {
          "base_uri": "https://localhost:8080/",
          "height": 315,
          "referenced_widgets": [
            "b4cfb46419544d379ffcdad08fc42bc5",
            "aa3643e86772452185f8f32be02b9212",
            "773c43bb05cc4ef2bd99a1d1dd6a2b5c",
            "fdc04b8742d14defb2f81ce5a295b84b",
            "3a231f34eba7484abfaf8a40f8119b42",
            "79457f526b7c4b80957cf708aa21452f",
            "144df1fa61264943a816e605edb69ead",
            "8315ceb91902496184facbb11e4920a1",
            "c78e8e4412c04e45adaca81b13e9287a",
            "b4fe7933cb6f40468a0a022f89cc91e6",
            "5d6409a0191c4058a5973eba18daec1f",
            "313893670d684c4ca18b2285972a6d93",
            "decea8c098bd457a8d741ab450db630c",
            "928e28677cd747e8b35f04bd98473b20",
            "32279f42020944418e664567f6e591f8",
            "726993e9d01340a0a25cf7f928c0182c",
            "d8f051c96ca24f94ba20c416be3330bd",
            "d0236725a05c40629ba27fb7572c310e",
            "839f84cf0f3f436ead6d5558e7f2b556",
            "2b0bd23575c24d15ab4f24c023f2a811",
            "80998da670e14390919e6dc262749142",
            "2f707455d95d4d4697858f412f92ec3d"
          ]
        },
        "outputId": "fbf3979d-7c13-4333-bc37-fa472b9df126"
      },
      "execution_count": null,
      "outputs": [
        {
          "output_type": "stream",
          "name": "stderr",
          "text": [
            "/usr/local/lib/python3.10/dist-packages/datasets/load.py:759: FutureWarning:\n",
            "\n",
            "The repository for rouge contains custom code which must be executed to correctly load the metric. You can inspect the repository content at https://raw.githubusercontent.com/huggingface/datasets/2.19.0/metrics/rouge/rouge.py\n",
            "You can avoid this message in future by passing the argument `trust_remote_code=True`.\n",
            "Passing `trust_remote_code=True` will be mandatory to load this metric from the next major release of `datasets`.\n",
            "\n"
          ]
        },
        {
          "output_type": "display_data",
          "data": {
            "text/plain": [
              "Downloading builder script:   0%|          | 0.00/2.17k [00:00<?, ?B/s]"
            ],
            "application/vnd.jupyter.widget-view+json": {
              "version_major": 2,
              "version_minor": 0,
              "model_id": "b4cfb46419544d379ffcdad08fc42bc5"
            }
          },
          "metadata": {}
        },
        {
          "output_type": "stream",
          "name": "stderr",
          "text": [
            "/usr/local/lib/python3.10/dist-packages/datasets/load.py:759: FutureWarning:\n",
            "\n",
            "The repository for bertscore contains custom code which must be executed to correctly load the metric. You can inspect the repository content at https://raw.githubusercontent.com/huggingface/datasets/2.19.0/metrics/bertscore/bertscore.py\n",
            "You can avoid this message in future by passing the argument `trust_remote_code=True`.\n",
            "Passing `trust_remote_code=True` will be mandatory to load this metric from the next major release of `datasets`.\n",
            "\n"
          ]
        },
        {
          "output_type": "display_data",
          "data": {
            "text/plain": [
              "Downloading builder script:   0%|          | 0.00/2.92k [00:00<?, ?B/s]"
            ],
            "application/vnd.jupyter.widget-view+json": {
              "version_major": 2,
              "version_minor": 0,
              "model_id": "313893670d684c4ca18b2285972a6d93"
            }
          },
          "metadata": {}
        }
      ]
    },
    {
      "cell_type": "code",
      "source": [
        "def summarize_doc(doc):\n",
        "    return learn.blurr_generate(doc, early_stopping=False, num_return_sequences=1)[0]['generated_texts']"
      ],
      "metadata": {
        "id": "huLyk1-hmhdb"
      },
      "execution_count": null,
      "outputs": []
    },
    {
      "cell_type": "code",
      "source": [
        "\n",
        "for paragraph in paragraphs:\n",
        "    paragraph['summary'] = summarize_doc(paragraph['text'])\n",
        "    topics = topic_for_para(paragraph['summary'], 1, 3)\n",
        "    print(get_first_topic(topics))\n",
        "    paragraph['h2_heading'] = get_first_topic(topics)"
      ],
      "metadata": {
        "colab": {
          "base_uri": "https://localhost:8080/"
        },
        "id": "ILP4EhsgmmQT",
        "outputId": "220cb4d5-7fe8-4591-abae-9419a2979a67"
      },
      "execution_count": null,
      "outputs": [
        {
          "output_type": "stream",
          "name": "stdout",
          "text": [
            "['health', 'person', 'one']\n",
            "['high', 'health', 'time']\n"
          ]
        }
      ]
    },
    {
      "cell_type": "code",
      "source": [
        "def summarize(data):\n",
        "#     Takes a pd data series as input\n",
        "    tqdm.pandas(desc='Summarization')\n",
        "    return data.progress_apply(lambda x: summarize_doc(x))"
      ],
      "metadata": {
        "id": "xRd_AFGFmv08"
      },
      "execution_count": null,
      "outputs": []
    },
    {
      "cell_type": "code",
      "source": [
        "output_file = open(\"./output.md\", \"w\")"
      ],
      "metadata": {
        "id": "Jz3w7tVGnElS"
      },
      "execution_count": null,
      "outputs": []
    },
    {
      "cell_type": "code",
      "source": [
        "def write_h1(f, h1_heading):\n",
        "    f.write(\"# \")\n",
        "    for h in h1_heading:\n",
        "        f.write(h + \" | \")\n",
        "    f.write(\"\\n\")"
      ],
      "metadata": {
        "id": "eYWsbLKbnFwO"
      },
      "execution_count": null,
      "outputs": []
    },
    {
      "cell_type": "code",
      "source": [
        "def write_sections(f, paragraphs):\n",
        "    for para in paragraphs:\n",
        "        f.write(\"## \")\n",
        "        for h in para['h2_heading']:\n",
        "            f.write(h + \" | \")\n",
        "        f.write('\\n')\n",
        "        f.write(para['summary'])\n",
        "        f.write('\\n')"
      ],
      "metadata": {
        "id": "LieD2xxknJmw"
      },
      "execution_count": null,
      "outputs": []
    },
    {
      "cell_type": "code",
      "source": [
        "write_h1(output_file, h1_heading)\n",
        "write_sections(output_file, paragraphs)"
      ],
      "metadata": {
        "id": "T0mPFTOcnM3z"
      },
      "execution_count": null,
      "outputs": []
    },
    {
      "cell_type": "code",
      "source": [
        "output_file.close()"
      ],
      "metadata": {
        "id": "7imY4UJTnOE_"
      },
      "execution_count": null,
      "outputs": []
    },
    {
      "cell_type": "code",
      "source": [
        "output_file = open(\"./output.md\", \"r\")"
      ],
      "metadata": {
        "id": "f8QUk7ZUnS1w"
      },
      "execution_count": null,
      "outputs": []
    },
    {
      "cell_type": "code",
      "source": [
        "print(output_file.read())"
      ],
      "metadata": {
        "colab": {
          "base_uri": "https://localhost:8080/"
        },
        "id": "RIcmph7lnTIs",
        "outputId": "0eb7e672-508f-4512-d4e1-f4ae54b53b3e"
      },
      "execution_count": null,
      "outputs": [
        {
          "output_type": "stream",
          "name": "stdout",
          "text": [
            "# health | foods | junk | \n",
            "## health | person | one | \n",
            "Health has a lot of components that carry equal importance. If even one of them is missing, a person cannot be completely healthy. When you have good physical health, you will have a longer life span. One may maintain their physical health by having a balanced diet. It makes able a person to gain excessive weight which is called as obesity.\n",
            "## high | health | time | \n",
            "Health was earlier said to be the ability of the body functioning well. However, as time evolved, the definition of health also evolved. It ranges from the air you breathe to the type of people you choose to spend your time with. According to the research by scientists, it has been found that junk foods have negative effects on the health in many ways. They become high in calories, high in cholesterol, low in healthy nutrients and high in sugar, starch, unhealthy fat, lack of protein and lack of dietary fibers. Processed and junk foods are the means of rapid and unhealthy weight gain and negatively impact the whole body throughout the life.\n",
            "\n"
          ]
        }
      ]
    },
    {
      "cell_type": "code",
      "source": [
        "\n",
        "output_file.close()"
      ],
      "metadata": {
        "id": "AkIKlqzmnXmJ"
      },
      "execution_count": null,
      "outputs": []
    },
    {
      "cell_type": "markdown",
      "source": [
        "\n",
        "A .md file with the summary and a hierarchy of headings (H1: represented by # and H2: represented by ##) is created as output."
      ],
      "metadata": {
        "id": "JyNqg6IKmulp"
      }
    },
    {
      "cell_type": "markdown",
      "source": [
        "#References\n",
        "* Lecture Slides\n",
        "* [Blurr Documentation](https://ohmeow.github.io/blurr/)\n",
        "*[ Hierarchical Clustering](https://blog.eduonix.com/2019/04/clustering-similar-sentences-together-using-machine-learning/)\n",
        "*[Text Summarization using Bart](https://github.com/Jay-Suthar/TEXT-SUMMARIZATION-USING-BART-T5-PROPHETNET-PEGASUS/blob/master/group-22-ir-project.ipynb)\n"
      ],
      "metadata": {
        "id": "djB7EyuRmhc7"
      }
    }
  ]
}